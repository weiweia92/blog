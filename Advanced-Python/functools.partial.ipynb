{
 "cells": [
  {
   "cell_type": "markdown",
   "id": "c61b7eba-d3e8-48de-9fb2-19da14f8a8d5",
   "metadata": {},
   "source": [
    "### functools.partial\n",
    "\n",
    "首先，我们需要简单了解下 functools.partial 的作用：和装饰器一样，它可以扩展函数的功能，但又不完成等价于装饰器。通常应用的场景是当我们要频繁调用某个函数时，其中某些参数是已知的固定值，通常我们可以调用这个函数多次，但这样看上去似乎代码有些冗余，而 partial 的出现就是为了很好的解决这一个问题。\n",
    "\n",
    "举一个很简单的例子，比如我就想知道 100 加任意数的和是多少，通常我们的实现方式是这样的："
   ]
  },
  {
   "cell_type": "code",
   "execution_count": 1,
   "id": "f62eacb9-e73b-4d52-91e6-316ca110ff87",
   "metadata": {},
   "outputs": [
    {
     "name": "stdout",
     "output_type": "stream",
     "text": [
      "106\n"
     ]
    }
   ],
   "source": [
    "# one method\n",
    "def add(*args):\n",
    "    return sum(args)\n",
    "\n",
    "print(add(1,2,3)+100)"
   ]
  },
  {
   "cell_type": "code",
   "execution_count": 2,
   "id": "8f735910-535f-4170-9a04-d60157bc78ac",
   "metadata": {},
   "outputs": [
    {
     "name": "stdout",
     "output_type": "stream",
     "text": [
      "106\n"
     ]
    }
   ],
   "source": [
    "# two method\n",
    "def add(*args):\n",
    "    return sum(args)+100\n",
    "\n",
    "print(add(1,2,3))"
   ]
  },
  {
   "cell_type": "markdown",
   "id": "ca877671-92ea-4527-9f32-d1889e691873",
   "metadata": {},
   "source": [
    "这两种做法都会存在有问题：第一种，100这个固定值会反复出现，代码总感觉有重复；第二种，就是当我们想要修改 100 这个固定值的时候，我们需要改动 add 这个方法。下面我们来看下用 parital 怎么实现："
   ]
  },
  {
   "cell_type": "code",
   "execution_count": 3,
   "id": "e082a222-0eee-4e4c-82ea-efc3e7b0bf18",
   "metadata": {},
   "outputs": [
    {
     "name": "stdout",
     "output_type": "stream",
     "text": [
      "106\n",
      "107\n"
     ]
    }
   ],
   "source": [
    "from functools import partial\n",
    "def add(*args):\n",
    "    return sum(args)\n",
    "\n",
    "add_100 = partial(add, 100)\n",
    "print(add_100(1, 2, 3))\n",
    "\n",
    "add_101 = partial(add, 101)\n",
    "print(add_101(1, 2, 3))"
   ]
  },
  {
   "cell_type": "markdown",
   "id": "f0bcefb9-f3db-41ef-a89f-c0caa0c24b96",
   "metadata": {},
   "source": [
    "大概了解了偏函数的例子后，我们再来看一下偏函数的定义：\n",
    "\n",
    "`类func = functools.partial(func, *args, **keywords)`\n",
    "- func:需要被扩展的函数，返回的函数其实是一个类func的函数\n",
    "- \\*args: 需要被固定的位置参数\n",
    "- \\*\\*kwargs: 需要被固定的关键字参数\n",
    "**如果在原来的函数func中关键字不存在，将会扩展，如果存在则会覆盖**\n",
    "\n",
    "我们可以看到，partial 一定接受三个参数，用一个简单的包含位置参数和关键字参数的示例代码来说明用法："
   ]
  },
  {
   "cell_type": "code",
   "execution_count": 5,
   "id": "8fb6d977-9f6d-4bf6-a78a-88a960a42b30",
   "metadata": {},
   "outputs": [],
   "source": [
    "def add(*args, **kwargs):\n",
    "    for n in args:\n",
    "        print(n)\n",
    "    print('-'*20)\n",
    "    for k, v in kwargs.items():\n",
    "        print(f'{k}:{v}')"
   ]
  },
  {
   "cell_type": "code",
   "execution_count": 6,
   "id": "e0f85747-e6b7-43bc-ba22-f8fb07232263",
   "metadata": {},
   "outputs": [
    {
     "name": "stdout",
     "output_type": "stream",
     "text": [
      "1\n",
      "2\n",
      "3\n",
      "--------------------\n",
      "v1:10\n",
      "v2:10\n"
     ]
    }
   ],
   "source": [
    "add(1, 2, 3, v1=10, v2=10)"
   ]
  },
  {
   "cell_type": "code",
   "execution_count": 8,
   "id": "74ad519b-c9d9-4c37-9c1c-12b05ceda8a6",
   "metadata": {},
   "outputs": [
    {
     "name": "stdout",
     "output_type": "stream",
     "text": [
      "10\n",
      "1\n",
      "2\n",
      "3\n",
      "--------------------\n",
      "k1:10\n",
      "k2:10\n",
      "k3:20\n"
     ]
    }
   ],
   "source": [
    "add_partial = partial(add, 10, k1=10, k2=10)\n",
    "add_partial(1, 2, 3, k3=20)"
   ]
  },
  {
   "cell_type": "code",
   "execution_count": 9,
   "id": "747b4adf-447b-4769-91b3-dec7f39203ac",
   "metadata": {},
   "outputs": [
    {
     "name": "stdout",
     "output_type": "stream",
     "text": [
      "10\n",
      "1\n",
      "2\n",
      "3\n",
      "--------------------\n",
      "k1:20\n",
      "k2:10\n"
     ]
    }
   ],
   "source": [
    "add_partial(1, 2, 3, k1=20)"
   ]
  }
 ],
 "metadata": {
  "kernelspec": {
   "display_name": "Python 3",
   "language": "python",
   "name": "python3"
  },
  "language_info": {
   "codemirror_mode": {
    "name": "ipython",
    "version": 3
   },
   "file_extension": ".py",
   "mimetype": "text/x-python",
   "name": "python",
   "nbconvert_exporter": "python",
   "pygments_lexer": "ipython3",
   "version": "3.8.5"
  }
 },
 "nbformat": 4,
 "nbformat_minor": 5
}
