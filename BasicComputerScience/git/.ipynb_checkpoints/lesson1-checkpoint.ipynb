{
 "cells": [
  {
   "cell_type": "markdown",
   "id": "c94c630b-76b8-48ab-81bf-d52b58886ce7",
   "metadata": {},
   "source": [
    "## How To Use GitHub - Developers Collaboration Using GitHub\n",
    "\n",
    "### Step1: What is GitHub?\n",
    "\n",
    "略\n",
    "\n",
    "### Step2: How to create a GitHub Repository?\n",
    "\n",
    "会，略\n",
    "\n",
    "### Step3: Create Branches and Perform Operations\n",
    "\n",
    "**Branching**: Branches help you to work on different versions of a repository at one time(同时). Let’s say you want to add a new feature (which is in the development phase), and you are afraid at the same time whether to make changes to your main project or not. This is where git branching comes to rescue(拯救). Branches allow you to move back and forth(来回移动) between the different states/versions of a project. In the above scenario, you can create a new branch and test the new feature without affecting the main branch. Once you are done with it, you can merge the changes from new branch to the main branch. Here the main branch is the master branch, which is there in your repository by default. Refer to the below image for better understanding:"
   ]
  }
 ],
 "metadata": {
  "kernelspec": {
   "display_name": "Python 3",
   "language": "python",
   "name": "python3"
  },
  "language_info": {
   "codemirror_mode": {
    "name": "ipython",
    "version": 3
   },
   "file_extension": ".py",
   "mimetype": "text/x-python",
   "name": "python",
   "nbconvert_exporter": "python",
   "pygments_lexer": "ipython3",
   "version": "3.8.5"
  }
 },
 "nbformat": 4,
 "nbformat_minor": 5
}
