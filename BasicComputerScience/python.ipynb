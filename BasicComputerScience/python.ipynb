{
 "cells": [
  {
   "cell_type": "markdown",
   "id": "d2c6f7a9-c620-4e8e-8549-44c3bdedcde7",
   "metadata": {},
   "source": [
    "## split \n",
    "\n",
    "`def split(self, sep=None, maxsplit=None)`  \n",
    "\n",
    "当不给split函数传递任何参数时，分隔符sep会采用任意形式的空白字符：空格、tab、换行、回车以及formfeed。maxsplit参数表明要分割得到的list长度。"
   ]
  },
  {
   "cell_type": "code",
   "execution_count": 1,
   "id": "040325b8-72bb-4e52-b543-afafcec7c379",
   "metadata": {},
   "outputs": [
    {
     "name": "stdout",
     "output_type": "stream",
     "text": [
      "['I', 'am', 'a', 'boy.']\n"
     ]
    }
   ],
   "source": [
    "str = \"I am a boy.\"\n",
    "print( str.split() )"
   ]
  },
  {
   "cell_type": "code",
   "execution_count": 2,
   "id": "c50d4104-e956-41d0-b2b2-a99f30bc72b9",
   "metadata": {},
   "outputs": [
    {
     "name": "stdout",
     "output_type": "stream",
     "text": [
      "['I', 'am', 'a', 'boy.']\n"
     ]
    }
   ],
   "source": [
    "str = \"I\\tam\\ta\\tboy.\"\n",
    "print( str.split() )"
   ]
  },
  {
   "cell_type": "code",
   "execution_count": null,
   "id": "e49727f7-fec2-4f8e-8f8f-e4a38444df91",
   "metadata": {},
   "outputs": [],
   "source": []
  }
 ],
 "metadata": {
  "kernelspec": {
   "display_name": "Python 3",
   "language": "python",
   "name": "python3"
  },
  "language_info": {
   "codemirror_mode": {
    "name": "ipython",
    "version": 3
   },
   "file_extension": ".py",
   "mimetype": "text/x-python",
   "name": "python",
   "nbconvert_exporter": "python",
   "pygments_lexer": "ipython3",
   "version": "3.8.5"
  }
 },
 "nbformat": 4,
 "nbformat_minor": 5
}
