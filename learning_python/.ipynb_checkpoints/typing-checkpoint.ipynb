{
 "cells": [
  {
   "cell_type": "markdown",
   "metadata": {},
   "source": [
    "## Typing  \n",
    "很多时候我们可能不清楚函数参数类型或者返回值类型，很有可能导致一些类型没有指定方法，在写完代码一段时间后回过头看代码，很可能忘记了自己写的函数需要传什么参数，返回什么类型的结果，就不得不去阅读代码的具体内容，降低了阅读的速度，typing模块可以很好的解决这个问题。  \n",
    "\n",
    "### typing常用的类型\n",
    "\n",
    "`int,long,float:` 整型,长整形,浮点型;  \n",
    "`bool,str:` 布尔型，字符串类型；  \n",
    "`List, Tuple, Dict, Set:`列表，元组，字典, 集合;  \n",
    "`Iterable,Iterator:`可迭代类型，迭代器类型；  \n",
    "`Generator：`生成器类型；  "
   ]
  },
  {
   "cell_type": "code",
   "execution_count": null,
   "metadata": {},
   "outputs": [],
   "source": [
    "from typing import List, Union\n",
    "def func(a: int, string: str) -> List[int or str]:\n",
    "    list1 = []\n",
    "    list1.append(a)\n",
    "    list1.append(string)\n",
    "    return list1\n",
    "def get_next_id() -> Union[int, None]:\n",
    "    return 1\n",
    "    return None\n",
    "# 使用or关键字表示多种类型,也可以用Union"
   ]
  },
  {
   "cell_type": "code",
   "execution_count": null,
   "metadata": {},
   "outputs": [],
   "source": []
  }
 ],
 "metadata": {
  "kernelspec": {
   "display_name": "Python 3",
   "language": "python",
   "name": "python3"
  },
  "language_info": {
   "codemirror_mode": {
    "name": "ipython",
    "version": 3
   },
   "file_extension": ".py",
   "mimetype": "text/x-python",
   "name": "python",
   "nbconvert_exporter": "python",
   "pygments_lexer": "ipython3",
   "version": "3.7.6"
  }
 },
 "nbformat": 4,
 "nbformat_minor": 4
}
