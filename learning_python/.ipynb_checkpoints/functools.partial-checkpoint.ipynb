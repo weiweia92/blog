{
 "cells": [
  {
   "cell_type": "markdown",
   "metadata": {},
   "source": [
    "## functools.partial()\n",
    "首先，我们需要简单了解下偏函数的作用：和装饰器一样，它可以扩展函数的功能，但又不完成等价于装饰器。通常应用的场景是当我们要频繁调用某个函数时，其中某些参数是已知的固定值，通常我们可以调用这个函数多次，但这样看上去似乎代码有些冗余，而偏函数的出现就是为了很好的解决这一个问题。举一个很简单的例子，比如我就想知道 100 加任意数的和是多少，通常我们的实现方式是这样的："
   ]
  },
  {
   "cell_type": "code",
   "execution_count": 1,
   "metadata": {},
   "outputs": [
    {
     "name": "stdout",
     "output_type": "stream",
     "text": [
      "106\n",
      "115\n"
     ]
    }
   ],
   "source": [
    "# 第一种做法：\n",
    "def add(*args):\n",
    "    return sum(args)\n",
    "\n",
    "print(add(1, 2, 3) + 100)\n",
    "print(add(5, 5, 5) + 100)"
   ]
  },
  {
   "cell_type": "code",
   "execution_count": 2,
   "metadata": {},
   "outputs": [
    {
     "name": "stdout",
     "output_type": "stream",
     "text": [
      "106\n",
      "115\n"
     ]
    }
   ],
   "source": [
    "# 第二种做法\n",
    "def add(*args):\n",
    "    # 对传入的数值相加后，再加上100返回\n",
    "    return sum(args) + 100\n",
    "\n",
    "print(add(1, 2, 3))  # 106\n",
    "print(add(5, 5, 5))  # 115 "
   ]
  },
  {
   "cell_type": "markdown",
   "metadata": {},
   "source": [
    "看上面的代码，貌似也挺简单，也不是很费劲。但两种做法都会存在有问题：第一种，100这个固定值会返回出现，代码总感觉有重复；第二种，就是当我们想要修改 100 这个固定值的时候，我们需要改动 add 这个方法。下面我们来看下用 parital 怎么实现："
   ]
  },
  {
   "cell_type": "code",
   "execution_count": 7,
   "metadata": {},
   "outputs": [],
   "source": [
    "from functools import partial\n",
    "\n",
    "def add(*args):\n",
    "    return sum(args)\n",
    "\n",
    "add_100 = partial(add, 100)"
   ]
  },
  {
   "cell_type": "code",
   "execution_count": 8,
   "metadata": {},
   "outputs": [
    {
     "data": {
      "text/plain": [
       "functools.partial(<function add at 0x7fc8310d90e0>, 100)"
      ]
     },
     "execution_count": 8,
     "metadata": {},
     "output_type": "execute_result"
    }
   ],
   "source": [
    "add_100"
   ]
  },
  {
   "cell_type": "code",
   "execution_count": 9,
   "metadata": {},
   "outputs": [
    {
     "data": {
      "text/plain": [
       "106"
      ]
     },
     "execution_count": 9,
     "metadata": {},
     "output_type": "execute_result"
    }
   ],
   "source": [
    "add_100(1, 2, 3)"
   ]
  },
  {
   "cell_type": "code",
   "execution_count": 10,
   "metadata": {},
   "outputs": [],
   "source": [
    "add_101 = partial(add, 101)"
   ]
  },
  {
   "cell_type": "code",
   "execution_count": 11,
   "metadata": {},
   "outputs": [
    {
     "data": {
      "text/plain": [
       "functools.partial(<function add at 0x7fc8310d90e0>, 101)"
      ]
     },
     "execution_count": 11,
     "metadata": {},
     "output_type": "execute_result"
    }
   ],
   "source": [
    "add_101"
   ]
  },
  {
   "cell_type": "code",
   "execution_count": 12,
   "metadata": {},
   "outputs": [
    {
     "data": {
      "text/plain": [
       "107"
      ]
     },
     "execution_count": 12,
     "metadata": {},
     "output_type": "execute_result"
    }
   ],
   "source": [
    "add_101(1, 2, 3)"
   ]
  },
  {
   "cell_type": "markdown",
   "metadata": {},
   "source": [
    "### functools.partial(func, \\*args, \\*\\*keywords)  \n",
    "func: 需要被扩展的函数，返回的函数其实是一个类 func 的函数  \n",
    "\\*args: 需要被固定的位置参数  \n",
    "\\*\\*kwargs: 需要被固定的关键字参数  \n",
    "如果在原来的函数 func 中关键字不存在，将会扩展，如果存在，则会覆盖  "
   ]
  },
  {
   "cell_type": "code",
   "execution_count": 13,
   "metadata": {},
   "outputs": [],
   "source": [
    "def add(*args, **kwargs):\n",
    "    # 打印位置参数\n",
    "    for n in args:\n",
    "        print(n)\n",
    "    print(\"-\"*20)\n",
    "    # 打印关键字参数\n",
    "    for k, v in kwargs.items():\n",
    "       print('%s:%s' % (k, v))\n",
    "    # 暂不做返回，只看下参数效果，理解 partial 用法"
   ]
  },
  {
   "cell_type": "code",
   "execution_count": 14,
   "metadata": {},
   "outputs": [
    {
     "name": "stdout",
     "output_type": "stream",
     "text": [
      "1\n",
      "2\n",
      "3\n",
      "--------------------\n",
      "v1:10\n",
      "v2:20\n"
     ]
    }
   ],
   "source": [
    "#普通调用\n",
    "add(1, 2, 3, v1=10, v2=20)"
   ]
  },
  {
   "cell_type": "code",
   "execution_count": 15,
   "metadata": {},
   "outputs": [
    {
     "name": "stdout",
     "output_type": "stream",
     "text": [
      "10\n",
      "1\n",
      "2\n",
      "3\n",
      "--------------------\n",
      "k1:10\n",
      "k2:20\n",
      "k3:20\n"
     ]
    }
   ],
   "source": [
    "# partial\n",
    "add_partial = partial(add, 10, k1=10, k2=20)\n",
    "add_partial(1, 2, 3, k3=20)"
   ]
  },
  {
   "cell_type": "code",
   "execution_count": 16,
   "metadata": {},
   "outputs": [
    {
     "name": "stdout",
     "output_type": "stream",
     "text": [
      "10\n",
      "1\n",
      "2\n",
      "3\n",
      "--------------------\n",
      "k1:20\n",
      "k2:20\n"
     ]
    }
   ],
   "source": [
    "add_partial(1, 2, 3, k1=20)"
   ]
  },
  {
   "cell_type": "code",
   "execution_count": 17,
   "metadata": {},
   "outputs": [],
   "source": [
    "from functools import partial\n",
    "basetwo = partial(int, base=2)"
   ]
  },
  {
   "cell_type": "code",
   "execution_count": 18,
   "metadata": {},
   "outputs": [
    {
     "data": {
      "text/plain": [
       "'partial(func, *args, **keywords) - new function with partial application\\n    of the given arguments and keywords.\\n'"
      ]
     },
     "execution_count": 18,
     "metadata": {},
     "output_type": "execute_result"
    }
   ],
   "source": [
    "basetwo.__doc__"
   ]
  },
  {
   "cell_type": "code",
   "execution_count": 19,
   "metadata": {},
   "outputs": [],
   "source": [
    "basetwo.__doc__ = 'Convert base 2 string to an int.'"
   ]
  },
  {
   "cell_type": "code",
   "execution_count": 20,
   "metadata": {},
   "outputs": [
    {
     "data": {
      "text/plain": [
       "18"
      ]
     },
     "execution_count": 20,
     "metadata": {},
     "output_type": "execute_result"
    }
   ],
   "source": [
    "basetwo('10010')"
   ]
  },
  {
   "cell_type": "code",
   "execution_count": 21,
   "metadata": {},
   "outputs": [
    {
     "data": {
      "text/plain": [
       "19"
      ]
     },
     "execution_count": 21,
     "metadata": {},
     "output_type": "execute_result"
    }
   ],
   "source": [
    "basetwo('10011')"
   ]
  },
  {
   "cell_type": "code",
   "execution_count": null,
   "metadata": {},
   "outputs": [],
   "source": []
  }
 ],
 "metadata": {
  "kernelspec": {
   "display_name": "Python 3",
   "language": "python",
   "name": "python3"
  },
  "language_info": {
   "codemirror_mode": {
    "name": "ipython",
    "version": 3
   },
   "file_extension": ".py",
   "mimetype": "text/x-python",
   "name": "python",
   "nbconvert_exporter": "python",
   "pygments_lexer": "ipython3",
   "version": "3.7.6"
  }
 },
 "nbformat": 4,
 "nbformat_minor": 4
}
