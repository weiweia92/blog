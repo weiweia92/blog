{
 "cells": [
  {
   "cell_type": "markdown",
   "metadata": {},
   "source": [
    "# Python  \n",
    "\n",
    "跨平台、可移植、可扩展、交互式、解释型、面向对象的动态语言\n",
    "跨平台：Python支持Windows、Linux和MAC os等主流操作系统。\n",
    "可移植：代码通常不需要多少改动就能移植到别的平台上使用。\n",
    "可扩展：Python语言本身由C语言编写而成的，你完全可以在Python中嵌入C，从而提高代码的运行速度和效率。你也可以使用C语言重写Python的任何模块，从根本上改写Python，PyPy就是这么干的。\n",
    "交互式：Python提供很好的人机交互界面，比如IDLE和IPython。可以从终端输入执行代码并获得结果，互动的测试和调试代码片断。\n",
    "解释型：Python语言在执行过程中由解释器逐行分析，逐行运行并输出结果。\n",
    "面向对象：Python语言具备所有的面向对象特性和功能，支持基于类的程序开发。\n",
    "动态语言：在运行时可以改变其结构。例如新的函数、对象、甚至代码可以被引进，已有的函数可以被删除或是其他结构上的变化。动态语言非常具有活力。\n",
    "\n",
    "## Built-in Function\n",
    "\n",
    "内置函数进行了如下分类：\n",
    "数学运算(7)  \n",
    "类型转换(24)  \n",
    "序列操作(8)  \n",
    "对象操作(7)  \n",
    "反射操作(8)  \n",
    "变量操作(2)  \n",
    "交互操作(2)  \n",
    "文件操作(1)  \n",
    "编译执行(4)  \n",
    "装饰器(3)  "
   ]
  },
  {
   "cell_type": "markdown",
   "metadata": {},
   "source": [
    "### 数学运算"
   ]
  },
  {
   "cell_type": "code",
   "execution_count": 1,
   "metadata": {},
   "outputs": [
    {
     "data": {
      "text/plain": [
       "2"
      ]
     },
     "execution_count": 1,
     "metadata": {},
     "output_type": "execute_result"
    }
   ],
   "source": [
    "abs(-2)"
   ]
  },
  {
   "cell_type": "code",
   "execution_count": 2,
   "metadata": {},
   "outputs": [
    {
     "data": {
      "text/plain": [
       "(2, 1)"
      ]
     },
     "execution_count": 2,
     "metadata": {},
     "output_type": "execute_result"
    }
   ],
   "source": [
    "divmod(5,2)"
   ]
  },
  {
   "cell_type": "code",
   "execution_count": 3,
   "metadata": {},
   "outputs": [
    {
     "data": {
      "text/plain": [
       "(2.0, 1.5)"
      ]
     },
     "execution_count": 3,
     "metadata": {},
     "output_type": "execute_result"
    }
   ],
   "source": [
    "divmod(5.5,2)"
   ]
  },
  {
   "cell_type": "code",
   "execution_count": 4,
   "metadata": {},
   "outputs": [
    {
     "data": {
      "text/plain": [
       "3"
      ]
     },
     "execution_count": 4,
     "metadata": {},
     "output_type": "execute_result"
    }
   ],
   "source": [
    "max(1,2,3)"
   ]
  },
  {
   "cell_type": "code",
   "execution_count": 5,
   "metadata": {},
   "outputs": [
    {
     "data": {
      "text/plain": [
       "'4'"
      ]
     },
     "execution_count": 5,
     "metadata": {},
     "output_type": "execute_result"
    }
   ],
   "source": [
    "max('1234') # 传入1个可迭代对象，取其最大元素值"
   ]
  },
  {
   "cell_type": "code",
   "execution_count": 6,
   "metadata": {},
   "outputs": [
    {
     "data": {
      "text/plain": [
       "-1"
      ]
     },
     "execution_count": 6,
     "metadata": {},
     "output_type": "execute_result"
    }
   ],
   "source": [
    "max(-1,0,key = abs) # 传入了求绝对值函数，则参数都会进行求绝对值后再取较大者"
   ]
  },
  {
   "cell_type": "markdown",
   "metadata": {},
   "source": [
    "`min`与`max`方法相同"
   ]
  },
  {
   "cell_type": "code",
   "execution_count": 9,
   "metadata": {},
   "outputs": [
    {
     "data": {
      "text/plain": [
       "8"
      ]
     },
     "execution_count": 9,
     "metadata": {},
     "output_type": "execute_result"
    }
   ],
   "source": [
    "pow(2,3) #2**3"
   ]
  },
  {
   "cell_type": "code",
   "execution_count": 10,
   "metadata": {},
   "outputs": [
    {
     "data": {
      "text/plain": [
       "3"
      ]
     },
     "execution_count": 10,
     "metadata": {},
     "output_type": "execute_result"
    }
   ],
   "source": [
    "pow(2,3,5) #2**3%5"
   ]
  },
  {
   "cell_type": "code",
   "execution_count": 11,
   "metadata": {},
   "outputs": [
    {
     "data": {
      "text/plain": [
       "1.1"
      ]
     },
     "execution_count": 11,
     "metadata": {},
     "output_type": "execute_result"
    }
   ],
   "source": [
    "round(1.1314926,1) #四舍五入求值"
   ]
  },
  {
   "cell_type": "code",
   "execution_count": 12,
   "metadata": {},
   "outputs": [
    {
     "data": {
      "text/plain": [
       "1.13149"
      ]
     },
     "execution_count": 12,
     "metadata": {},
     "output_type": "execute_result"
    }
   ],
   "source": [
    "round(1.1314926,5)"
   ]
  },
  {
   "cell_type": "code",
   "execution_count": 13,
   "metadata": {},
   "outputs": [
    {
     "data": {
      "text/plain": [
       "10"
      ]
     },
     "execution_count": 13,
     "metadata": {},
     "output_type": "execute_result"
    }
   ],
   "source": [
    "sum((1,2,3,4)) # 传入可迭代对象"
   ]
  },
  {
   "cell_type": "code",
   "execution_count": 14,
   "metadata": {},
   "outputs": [
    {
     "data": {
      "text/plain": [
       "12.0"
      ]
     },
     "execution_count": 14,
     "metadata": {},
     "output_type": "execute_result"
    }
   ],
   "source": [
    "sum((1.5,2.5,3.5,4.5)) #元素类型必须是数值型"
   ]
  },
  {
   "cell_type": "code",
   "execution_count": 15,
   "metadata": {},
   "outputs": [
    {
     "data": {
      "text/plain": [
       "0"
      ]
     },
     "execution_count": 15,
     "metadata": {},
     "output_type": "execute_result"
    }
   ],
   "source": [
    "sum((1,2,3,4),-10)"
   ]
  },
  {
   "cell_type": "markdown",
   "metadata": {},
   "source": [
    "### 类型转换"
   ]
  },
  {
   "cell_type": "code",
   "execution_count": 16,
   "metadata": {},
   "outputs": [
    {
     "data": {
      "text/plain": [
       "0j"
      ]
     },
     "execution_count": 16,
     "metadata": {},
     "output_type": "execute_result"
    }
   ],
   "source": [
    "complex() #当两个参数都不提供时，返回复数 0j。"
   ]
  },
  {
   "cell_type": "code",
   "execution_count": 17,
   "metadata": {},
   "outputs": [
    {
     "data": {
      "text/plain": [
       "(1+2j)"
      ]
     },
     "execution_count": 17,
     "metadata": {},
     "output_type": "execute_result"
    }
   ],
   "source": [
    "complex('1+2j') #传入字符串创建复数"
   ]
  },
  {
   "cell_type": "code",
   "execution_count": 18,
   "metadata": {},
   "outputs": [
    {
     "data": {
      "text/plain": [
       "(1+2j)"
      ]
     },
     "execution_count": 18,
     "metadata": {},
     "output_type": "execute_result"
    }
   ],
   "source": [
    "complex(1,2) #传入数值创建复数"
   ]
  },
  {
   "cell_type": "code",
   "execution_count": 22,
   "metadata": {},
   "outputs": [
    {
     "data": {
      "text/plain": [
       "bytearray(b'\\xe4\\xb8\\xad\\xe6\\x96\\x87')"
      ]
     },
     "execution_count": 22,
     "metadata": {},
     "output_type": "execute_result"
    }
   ],
   "source": [
    "bytearray('中文','utf-8') #根据传入的参数创建一个新的字节数组"
   ]
  },
  {
   "cell_type": "code",
   "execution_count": 23,
   "metadata": {},
   "outputs": [
    {
     "data": {
      "text/plain": [
       "b'\\xe4\\xb8\\xad\\xe6\\x96\\x87'"
      ]
     },
     "execution_count": 23,
     "metadata": {},
     "output_type": "execute_result"
    }
   ],
   "source": [
    "bytes('中文','utf-8') #根据传入的参数创建一个不可变的字节数组"
   ]
  },
  {
   "cell_type": "code",
   "execution_count": 30,
   "metadata": {},
   "outputs": [],
   "source": [
    "v = memoryview(b'abcefg') #a bytes-like object is required,创建一个新的内存查看对象"
   ]
  },
  {
   "cell_type": "code",
   "execution_count": 25,
   "metadata": {},
   "outputs": [
    {
     "data": {
      "text/plain": [
       "98"
      ]
     },
     "execution_count": 25,
     "metadata": {},
     "output_type": "execute_result"
    }
   ],
   "source": [
    "v[1]"
   ]
  },
  {
   "cell_type": "code",
   "execution_count": 26,
   "metadata": {},
   "outputs": [
    {
     "data": {
      "text/plain": [
       "103"
      ]
     },
     "execution_count": 26,
     "metadata": {},
     "output_type": "execute_result"
    }
   ],
   "source": [
    "v[-1]"
   ]
  },
  {
   "cell_type": "code",
   "execution_count": 31,
   "metadata": {},
   "outputs": [
    {
     "data": {
      "text/plain": [
       "97"
      ]
     },
     "execution_count": 31,
     "metadata": {},
     "output_type": "execute_result"
    }
   ],
   "source": [
    "ord('a') #返回unicode字符对应的整数"
   ]
  },
  {
   "cell_type": "code",
   "execution_count": 32,
   "metadata": {},
   "outputs": [
    {
     "data": {
      "text/plain": [
       "'a'"
      ]
     },
     "execution_count": 32,
     "metadata": {},
     "output_type": "execute_result"
    }
   ],
   "source": [
    "chr(97) #返回整数对应的unicode字符"
   ]
  },
  {
   "cell_type": "code",
   "execution_count": 33,
   "metadata": {},
   "outputs": [
    {
     "data": {
      "text/plain": [
       "'0b11'"
      ]
     },
     "execution_count": 33,
     "metadata": {},
     "output_type": "execute_result"
    }
   ],
   "source": [
    "bin(3) #int->二进制"
   ]
  },
  {
   "cell_type": "code",
   "execution_count": 34,
   "metadata": {},
   "outputs": [
    {
     "data": {
      "text/plain": [
       "'0o12'"
      ]
     },
     "execution_count": 34,
     "metadata": {},
     "output_type": "execute_result"
    }
   ],
   "source": [
    "oct(10) #int->8进制"
   ]
  },
  {
   "cell_type": "code",
   "execution_count": 35,
   "metadata": {},
   "outputs": [
    {
     "data": {
      "text/plain": [
       "'0xf'"
      ]
     },
     "execution_count": 35,
     "metadata": {},
     "output_type": "execute_result"
    }
   ],
   "source": [
    "hex(15) #int->16进制"
   ]
  },
  {
   "cell_type": "code",
   "execution_count": 36,
   "metadata": {},
   "outputs": [
    {
     "data": {
      "text/plain": [
       "{'a': 1, 'b': 2}"
      ]
     },
     "execution_count": 36,
     "metadata": {},
     "output_type": "execute_result"
    }
   ],
   "source": [
    "dict(a = 1,b = 2)"
   ]
  },
  {
   "cell_type": "code",
   "execution_count": 37,
   "metadata": {},
   "outputs": [
    {
     "data": {
      "text/plain": [
       "{'a': 1, 'b': 2}"
      ]
     },
     "execution_count": 37,
     "metadata": {},
     "output_type": "execute_result"
    }
   ],
   "source": [
    "dict(zip(['a','b'],[1,2]))"
   ]
  },
  {
   "cell_type": "code",
   "execution_count": 38,
   "metadata": {},
   "outputs": [
    {
     "data": {
      "text/plain": [
       "{'a': 1, 'b': 2}"
      ]
     },
     "execution_count": 38,
     "metadata": {},
     "output_type": "execute_result"
    }
   ],
   "source": [
    "dict((('a',1),('b',2)))"
   ]
  },
  {
   "cell_type": "code",
   "execution_count": 39,
   "metadata": {},
   "outputs": [],
   "source": [
    "a = set(range(10)) # 传入可迭代对象，创建集合"
   ]
  },
  {
   "cell_type": "code",
   "execution_count": 40,
   "metadata": {},
   "outputs": [
    {
     "data": {
      "text/plain": [
       "{0, 1, 2, 3, 4, 5, 6, 7, 8, 9}"
      ]
     },
     "execution_count": 40,
     "metadata": {},
     "output_type": "execute_result"
    }
   ],
   "source": [
    "a"
   ]
  },
  {
   "cell_type": "code",
   "execution_count": 41,
   "metadata": {},
   "outputs": [],
   "source": [
    "a = frozenset(range(10)) #不可变集合"
   ]
  },
  {
   "cell_type": "code",
   "execution_count": 42,
   "metadata": {},
   "outputs": [
    {
     "data": {
      "text/plain": [
       "frozenset({0, 1, 2, 3, 4, 5, 6, 7, 8, 9})"
      ]
     },
     "execution_count": 42,
     "metadata": {},
     "output_type": "execute_result"
    }
   ],
   "source": [
    "a"
   ]
  },
  {
   "cell_type": "code",
   "execution_count": 44,
   "metadata": {},
   "outputs": [
    {
     "data": {
      "text/plain": [
       "[(1, 'Spring'), (2, 'Summer'), (3, 'Fall'), (4, 'Winter')]"
      ]
     },
     "execution_count": 44,
     "metadata": {},
     "output_type": "execute_result"
    }
   ],
   "source": [
    "seasons = ['Spring', 'Summer', 'Fall', 'Winter']\n",
    "list(enumerate(seasons, start=1)) #指定起始值"
   ]
  },
  {
   "cell_type": "code",
   "execution_count": 68,
   "metadata": {},
   "outputs": [],
   "source": [
    "#创建可迭代对象\n",
    "a = iter('abcd')"
   ]
  },
  {
   "cell_type": "code",
   "execution_count": 69,
   "metadata": {},
   "outputs": [
    {
     "data": {
      "text/plain": [
       "<str_iterator at 0x7f5ec1740c50>"
      ]
     },
     "execution_count": 69,
     "metadata": {},
     "output_type": "execute_result"
    }
   ],
   "source": [
    "a"
   ]
  },
  {
   "cell_type": "code",
   "execution_count": 70,
   "metadata": {},
   "outputs": [
    {
     "data": {
      "text/plain": [
       "'a'"
      ]
     },
     "execution_count": 70,
     "metadata": {},
     "output_type": "execute_result"
    }
   ],
   "source": [
    "next(a)"
   ]
  },
  {
   "cell_type": "code",
   "execution_count": 71,
   "metadata": {},
   "outputs": [
    {
     "data": {
      "text/plain": [
       "'b'"
      ]
     },
     "execution_count": 71,
     "metadata": {},
     "output_type": "execute_result"
    }
   ],
   "source": [
    "next(a)"
   ]
  },
  {
   "cell_type": "code",
   "execution_count": 72,
   "metadata": {},
   "outputs": [
    {
     "data": {
      "text/plain": [
       "'c'"
      ]
     },
     "execution_count": 72,
     "metadata": {},
     "output_type": "execute_result"
    }
   ],
   "source": [
    "next(a)"
   ]
  },
  {
   "cell_type": "code",
   "execution_count": 73,
   "metadata": {},
   "outputs": [
    {
     "data": {
      "text/plain": [
       "'d'"
      ]
     },
     "execution_count": 73,
     "metadata": {},
     "output_type": "execute_result"
    }
   ],
   "source": [
    "next(a)"
   ]
  },
  {
   "cell_type": "code",
   "execution_count": 74,
   "metadata": {},
   "outputs": [
    {
     "ename": "StopIteration",
     "evalue": "",
     "output_type": "error",
     "traceback": [
      "\u001b[0;31m---------------------------------------------------------------------------\u001b[0m",
      "\u001b[0;31mStopIteration\u001b[0m                             Traceback (most recent call last)",
      "\u001b[0;32m<ipython-input-74-a6e6fe0801bd>\u001b[0m in \u001b[0;36m<module>\u001b[0;34m\u001b[0m\n\u001b[0;32m----> 1\u001b[0;31m \u001b[0mnext\u001b[0m\u001b[0;34m(\u001b[0m\u001b[0ma\u001b[0m\u001b[0;34m)\u001b[0m\u001b[0;34m\u001b[0m\u001b[0;34m\u001b[0m\u001b[0m\n\u001b[0m\u001b[1;32m      2\u001b[0m \u001b[0;31m#传入default参数后，如果可迭代对象还有元素没有返回，则依次返回其元素值，如果所有元素已经返回，\u001b[0m\u001b[0;34m\u001b[0m\u001b[0;34m\u001b[0m\u001b[0;34m\u001b[0m\u001b[0m\n\u001b[1;32m      3\u001b[0m \u001b[0;31m#则返回default指定的默认值而不抛出StopIteration 异常\u001b[0m\u001b[0;34m\u001b[0m\u001b[0;34m\u001b[0m\u001b[0;34m\u001b[0m\u001b[0m\n",
      "\u001b[0;31mStopIteration\u001b[0m: "
     ]
    }
   ],
   "source": [
    "next(a) \n",
    "#传入default参数后，如果可迭代对象还有元素没有返回，则依次返回其元素值，如果所有元素已经返回，\n",
    "#则返回default指定的默认值而不抛出StopIteration 异常"
   ]
  },
  {
   "cell_type": "code",
   "execution_count": 75,
   "metadata": {},
   "outputs": [
    {
     "data": {
      "text/plain": [
       "'e'"
      ]
     },
     "execution_count": 75,
     "metadata": {},
     "output_type": "execute_result"
    }
   ],
   "source": [
    "next(a,'e')"
   ]
  },
  {
   "cell_type": "code",
   "execution_count": 52,
   "metadata": {},
   "outputs": [],
   "source": [
    "#根据传入的参数创建一个新的子类和父类关系的代理对象\n",
    "class A(object):\n",
    "    def __init__(self):\n",
    "        print('A.__init__')"
   ]
  },
  {
   "cell_type": "code",
   "execution_count": 53,
   "metadata": {},
   "outputs": [],
   "source": [
    "class B(A):\n",
    "    def __init__(self):\n",
    "        print('B.__init__')\n",
    "        super().__init__()"
   ]
  },
  {
   "cell_type": "code",
   "execution_count": 54,
   "metadata": {},
   "outputs": [
    {
     "name": "stdout",
     "output_type": "stream",
     "text": [
      "B.__init__\n",
      "A.__init__\n"
     ]
    }
   ],
   "source": [
    "b = B()"
   ]
  },
  {
   "cell_type": "markdown",
   "metadata": {},
   "source": [
    "### 序列操作"
   ]
  },
  {
   "cell_type": "code",
   "execution_count": 55,
   "metadata": {},
   "outputs": [
    {
     "data": {
      "text/plain": [
       "True"
      ]
     },
     "execution_count": 55,
     "metadata": {},
     "output_type": "execute_result"
    }
   ],
   "source": [
    "all([1,2]) #列表中每个元素逻辑值均为True，返回True"
   ]
  },
  {
   "cell_type": "code",
   "execution_count": 56,
   "metadata": {},
   "outputs": [
    {
     "data": {
      "text/plain": [
       "False"
      ]
     },
     "execution_count": 56,
     "metadata": {},
     "output_type": "execute_result"
    }
   ],
   "source": [
    "all([0,1,2]) #列表中0的逻辑值为False，返回False"
   ]
  },
  {
   "cell_type": "code",
   "execution_count": 61,
   "metadata": {},
   "outputs": [
    {
     "data": {
      "text/plain": [
       "True"
      ]
     },
     "execution_count": 61,
     "metadata": {},
     "output_type": "execute_result"
    }
   ],
   "source": [
    "all(()) #空元组"
   ]
  },
  {
   "cell_type": "code",
   "execution_count": 62,
   "metadata": {},
   "outputs": [
    {
     "data": {
      "text/plain": [
       "True"
      ]
     },
     "execution_count": 62,
     "metadata": {},
     "output_type": "execute_result"
    }
   ],
   "source": [
    "all({}) #空字典"
   ]
  },
  {
   "cell_type": "code",
   "execution_count": 57,
   "metadata": {},
   "outputs": [
    {
     "data": {
      "text/plain": [
       "True"
      ]
     },
     "execution_count": 57,
     "metadata": {},
     "output_type": "execute_result"
    }
   ],
   "source": [
    "any([0,1,2]) #列表元素有一个为True，则返回True"
   ]
  },
  {
   "cell_type": "code",
   "execution_count": 58,
   "metadata": {},
   "outputs": [
    {
     "data": {
      "text/plain": [
       "False"
      ]
     },
     "execution_count": 58,
     "metadata": {},
     "output_type": "execute_result"
    }
   ],
   "source": [
    "any([0,0]) #列表元素全部为False，则返回False"
   ]
  },
  {
   "cell_type": "code",
   "execution_count": 59,
   "metadata": {},
   "outputs": [
    {
     "data": {
      "text/plain": [
       "False"
      ]
     },
     "execution_count": 59,
     "metadata": {},
     "output_type": "execute_result"
    }
   ],
   "source": [
    "any([]) #空列表"
   ]
  },
  {
   "cell_type": "code",
   "execution_count": 60,
   "metadata": {},
   "outputs": [
    {
     "data": {
      "text/plain": [
       "False"
      ]
     },
     "execution_count": 60,
     "metadata": {},
     "output_type": "execute_result"
    }
   ],
   "source": [
    "any({}) #空字典"
   ]
  },
  {
   "cell_type": "markdown",
   "metadata": {},
   "source": [
    "`filter`：使用指定方法过滤可迭代对象的元素"
   ]
  },
  {
   "cell_type": "code",
   "execution_count": 84,
   "metadata": {},
   "outputs": [
    {
     "data": {
      "text/plain": [
       "[0, 1, 2, 3, 4, 5, 6, 7, 8, 9]"
      ]
     },
     "execution_count": 84,
     "metadata": {},
     "output_type": "execute_result"
    }
   ],
   "source": [
    "a = list(range(10))\n",
    "a"
   ]
  },
  {
   "cell_type": "code",
   "execution_count": 64,
   "metadata": {},
   "outputs": [],
   "source": [
    "def if_odd(x):\n",
    "    return x%2==1"
   ]
  },
  {
   "cell_type": "code",
   "execution_count": 65,
   "metadata": {},
   "outputs": [
    {
     "data": {
      "text/plain": [
       "[1, 3, 5, 7, 9]"
      ]
     },
     "execution_count": 65,
     "metadata": {},
     "output_type": "execute_result"
    }
   ],
   "source": [
    "list(filter(if_odd, a))"
   ]
  },
  {
   "cell_type": "code",
   "execution_count": 66,
   "metadata": {},
   "outputs": [
    {
     "data": {
      "text/plain": [
       "<map at 0x7f5ec173bc10>"
      ]
     },
     "execution_count": 66,
     "metadata": {},
     "output_type": "execute_result"
    }
   ],
   "source": [
    "a = map(ord,'abcd')\n",
    "a"
   ]
  },
  {
   "cell_type": "code",
   "execution_count": 67,
   "metadata": {},
   "outputs": [
    {
     "data": {
      "text/plain": [
       "[97, 98, 99, 100]"
      ]
     },
     "execution_count": 67,
     "metadata": {},
     "output_type": "execute_result"
    }
   ],
   "source": [
    "list(a)"
   ]
  },
  {
   "cell_type": "markdown",
   "metadata": {},
   "source": [
    "`reversed`：反转序列生成新的可迭代对象"
   ]
  },
  {
   "cell_type": "code",
   "execution_count": 76,
   "metadata": {},
   "outputs": [],
   "source": [
    "a = reversed(range(10))"
   ]
  },
  {
   "cell_type": "code",
   "execution_count": 77,
   "metadata": {},
   "outputs": [
    {
     "data": {
      "text/plain": [
       "<range_iterator at 0x7f5eafadfb40>"
      ]
     },
     "execution_count": 77,
     "metadata": {},
     "output_type": "execute_result"
    }
   ],
   "source": [
    "a"
   ]
  },
  {
   "cell_type": "code",
   "execution_count": 78,
   "metadata": {},
   "outputs": [
    {
     "data": {
      "text/plain": [
       "[9, 8, 7, 6, 5, 4, 3, 2, 1, 0]"
      ]
     },
     "execution_count": 78,
     "metadata": {},
     "output_type": "execute_result"
    }
   ],
   "source": [
    "list(a)"
   ]
  },
  {
   "cell_type": "markdown",
   "metadata": {},
   "source": [
    "`sorted`：对可迭代对象进行排序，返回一个新的列表"
   ]
  },
  {
   "cell_type": "code",
   "execution_count": 79,
   "metadata": {},
   "outputs": [
    {
     "data": {
      "text/plain": [
       "['a', 'b', 'd', 'c', 'B', 'A']"
      ]
     },
     "execution_count": 79,
     "metadata": {},
     "output_type": "execute_result"
    }
   ],
   "source": [
    "a = ['a','b','d','c','B','A']\n",
    "a"
   ]
  },
  {
   "cell_type": "code",
   "execution_count": 80,
   "metadata": {},
   "outputs": [
    {
     "data": {
      "text/plain": [
       "['A', 'B', 'a', 'b', 'c', 'd']"
      ]
     },
     "execution_count": 80,
     "metadata": {},
     "output_type": "execute_result"
    }
   ],
   "source": [
    "sorted(a)"
   ]
  },
  {
   "cell_type": "code",
   "execution_count": 81,
   "metadata": {},
   "outputs": [
    {
     "data": {
      "text/plain": [
       "['a', 'A', 'b', 'B', 'c', 'd']"
      ]
     },
     "execution_count": 81,
     "metadata": {},
     "output_type": "execute_result"
    }
   ],
   "source": [
    "sorted(a, key= str.lower)"
   ]
  },
  {
   "cell_type": "markdown",
   "metadata": {},
   "source": [
    "`zip`：聚合传入的每个迭代器中相同位置的元素，返回一个新的元组类型迭代器"
   ]
  },
  {
   "cell_type": "code",
   "execution_count": 82,
   "metadata": {},
   "outputs": [
    {
     "data": {
      "text/plain": [
       "[(1, 4), (2, 5), (3, 6)]"
      ]
     },
     "execution_count": 82,
     "metadata": {},
     "output_type": "execute_result"
    }
   ],
   "source": [
    "x = [1,2,3]\n",
    "y = [4,5,6,7,8]\n",
    "list(zip(x,y)) # 取最小长度3"
   ]
  },
  {
   "cell_type": "markdown",
   "metadata": {},
   "source": [
    "### 对象操作  \n",
    "`dir`：返回对象或者当前作用域内的属性列表"
   ]
  },
  {
   "cell_type": "code",
   "execution_count": 83,
   "metadata": {},
   "outputs": [
    {
     "data": {
      "text/plain": [
       "['__doc__',\n",
       " '__file__',\n",
       " '__loader__',\n",
       " '__name__',\n",
       " '__package__',\n",
       " '__spec__',\n",
       " 'acos',\n",
       " 'acosh',\n",
       " 'asin',\n",
       " 'asinh',\n",
       " 'atan',\n",
       " 'atan2',\n",
       " 'atanh',\n",
       " 'ceil',\n",
       " 'copysign',\n",
       " 'cos',\n",
       " 'cosh',\n",
       " 'degrees',\n",
       " 'e',\n",
       " 'erf',\n",
       " 'erfc',\n",
       " 'exp',\n",
       " 'expm1',\n",
       " 'fabs',\n",
       " 'factorial',\n",
       " 'floor',\n",
       " 'fmod',\n",
       " 'frexp',\n",
       " 'fsum',\n",
       " 'gamma',\n",
       " 'gcd',\n",
       " 'hypot',\n",
       " 'inf',\n",
       " 'isclose',\n",
       " 'isfinite',\n",
       " 'isinf',\n",
       " 'isnan',\n",
       " 'ldexp',\n",
       " 'lgamma',\n",
       " 'log',\n",
       " 'log10',\n",
       " 'log1p',\n",
       " 'log2',\n",
       " 'modf',\n",
       " 'nan',\n",
       " 'pi',\n",
       " 'pow',\n",
       " 'radians',\n",
       " 'remainder',\n",
       " 'sin',\n",
       " 'sinh',\n",
       " 'sqrt',\n",
       " 'tan',\n",
       " 'tanh',\n",
       " 'tau',\n",
       " 'trunc']"
      ]
     },
     "execution_count": 83,
     "metadata": {},
     "output_type": "execute_result"
    }
   ],
   "source": [
    "import math\n",
    "dir(math)"
   ]
  },
  {
   "cell_type": "markdown",
   "metadata": {},
   "source": [
    "`id`：返回对象的唯一标识符"
   ]
  },
  {
   "cell_type": "code",
   "execution_count": 85,
   "metadata": {},
   "outputs": [
    {
     "data": {
      "text/plain": [
       "140044928959920"
      ]
     },
     "execution_count": 85,
     "metadata": {},
     "output_type": "execute_result"
    }
   ],
   "source": [
    "a = 'some'\n",
    "id(a)"
   ]
  },
  {
   "cell_type": "code",
   "execution_count": 86,
   "metadata": {},
   "outputs": [
    {
     "data": {
      "text/plain": [
       "-7421489166762809569"
      ]
     },
     "execution_count": 86,
     "metadata": {},
     "output_type": "execute_result"
    }
   ],
   "source": [
    "hash('good good study')"
   ]
  },
  {
   "cell_type": "markdown",
   "metadata": {},
   "source": [
    "### 反射操作"
   ]
  },
  {
   "cell_type": "code",
   "execution_count": 88,
   "metadata": {},
   "outputs": [
    {
     "name": "stdout",
     "output_type": "stream",
     "text": [
      "True\n",
      "False\n",
      "True\n"
     ]
    }
   ],
   "source": [
    "print(isinstance(1,int))\n",
    "print(isinstance(1,str))\n",
    "print(isinstance(1,(int,str)))"
   ]
  },
  {
   "cell_type": "code",
   "execution_count": 89,
   "metadata": {},
   "outputs": [
    {
     "data": {
      "text/plain": [
       "True"
      ]
     },
     "execution_count": 89,
     "metadata": {},
     "output_type": "execute_result"
    }
   ],
   "source": [
    "issubclass(bool,int)"
   ]
  },
  {
   "cell_type": "code",
   "execution_count": 90,
   "metadata": {},
   "outputs": [
    {
     "data": {
      "text/plain": [
       "False"
      ]
     },
     "execution_count": 90,
     "metadata": {},
     "output_type": "execute_result"
    }
   ],
   "source": [
    "issubclass(bool,str)"
   ]
  },
  {
   "cell_type": "code",
   "execution_count": 91,
   "metadata": {},
   "outputs": [
    {
     "data": {
      "text/plain": [
       "True"
      ]
     },
     "execution_count": 91,
     "metadata": {},
     "output_type": "execute_result"
    }
   ],
   "source": [
    "issubclass(bool,(str,int))"
   ]
  },
  {
   "cell_type": "code",
   "execution_count": 92,
   "metadata": {},
   "outputs": [],
   "source": [
    "class Student:\n",
    "    def __init__(self,name):\n",
    "        self.name = name"
   ]
  },
  {
   "cell_type": "code",
   "execution_count": 93,
   "metadata": {},
   "outputs": [],
   "source": [
    "s = Student('Aim')"
   ]
  },
  {
   "cell_type": "code",
   "execution_count": 94,
   "metadata": {},
   "outputs": [
    {
     "data": {
      "text/plain": [
       "True"
      ]
     },
     "execution_count": 94,
     "metadata": {},
     "output_type": "execute_result"
    }
   ],
   "source": [
    "hasattr(s, 'name')"
   ]
  },
  {
   "cell_type": "code",
   "execution_count": 95,
   "metadata": {},
   "outputs": [
    {
     "data": {
      "text/plain": [
       "False"
      ]
     },
     "execution_count": 95,
     "metadata": {},
     "output_type": "execute_result"
    }
   ],
   "source": [
    "hasattr(s, 'age')"
   ]
  },
  {
   "cell_type": "code",
   "execution_count": 96,
   "metadata": {},
   "outputs": [
    {
     "data": {
      "text/plain": [
       "'Aim'"
      ]
     },
     "execution_count": 96,
     "metadata": {},
     "output_type": "execute_result"
    }
   ],
   "source": [
    "getattr(s,'name')"
   ]
  },
  {
   "cell_type": "code",
   "execution_count": 98,
   "metadata": {},
   "outputs": [],
   "source": [
    "setattr(s,'name','Bob')"
   ]
  },
  {
   "cell_type": "code",
   "execution_count": 99,
   "metadata": {},
   "outputs": [
    {
     "data": {
      "text/plain": [
       "'Bob'"
      ]
     },
     "execution_count": 99,
     "metadata": {},
     "output_type": "execute_result"
    }
   ],
   "source": [
    "s.name"
   ]
  },
  {
   "cell_type": "code",
   "execution_count": 100,
   "metadata": {},
   "outputs": [],
   "source": [
    "delattr(s,'name')"
   ]
  },
  {
   "cell_type": "code",
   "execution_count": 101,
   "metadata": {},
   "outputs": [
    {
     "ename": "AttributeError",
     "evalue": "'Student' object has no attribute 'name'",
     "output_type": "error",
     "traceback": [
      "\u001b[0;31m---------------------------------------------------------------------------\u001b[0m",
      "\u001b[0;31mAttributeError\u001b[0m                            Traceback (most recent call last)",
      "\u001b[0;32m<ipython-input-101-98b019fbfe94>\u001b[0m in \u001b[0;36m<module>\u001b[0;34m\u001b[0m\n\u001b[0;32m----> 1\u001b[0;31m \u001b[0ms\u001b[0m\u001b[0;34m.\u001b[0m\u001b[0mname\u001b[0m\u001b[0;34m\u001b[0m\u001b[0;34m\u001b[0m\u001b[0m\n\u001b[0m",
      "\u001b[0;31mAttributeError\u001b[0m: 'Student' object has no attribute 'name'"
     ]
    }
   ],
   "source": [
    "s.name"
   ]
  },
  {
   "cell_type": "markdown",
   "metadata": {},
   "source": [
    "`callable`：检测对象是否可被调用"
   ]
  },
  {
   "cell_type": "code",
   "execution_count": 102,
   "metadata": {},
   "outputs": [],
   "source": [
    "class B: #定义类B\n",
    "    def __call__(self):\n",
    "        print('instances are callable now.')"
   ]
  },
  {
   "cell_type": "code",
   "execution_count": 103,
   "metadata": {},
   "outputs": [
    {
     "data": {
      "text/plain": [
       "True"
      ]
     },
     "execution_count": 103,
     "metadata": {},
     "output_type": "execute_result"
    }
   ],
   "source": [
    "callable(B) #类B是可调用对象"
   ]
  },
  {
   "cell_type": "code",
   "execution_count": 104,
   "metadata": {},
   "outputs": [],
   "source": [
    "b = B()"
   ]
  },
  {
   "cell_type": "code",
   "execution_count": 105,
   "metadata": {},
   "outputs": [
    {
     "data": {
      "text/plain": [
       "True"
      ]
     },
     "execution_count": 105,
     "metadata": {},
     "output_type": "execute_result"
    }
   ],
   "source": [
    "callable(b)"
   ]
  },
  {
   "cell_type": "code",
   "execution_count": 106,
   "metadata": {},
   "outputs": [
    {
     "name": "stdout",
     "output_type": "stream",
     "text": [
      "instances are callable now.\n"
     ]
    }
   ],
   "source": [
    "b()"
   ]
  },
  {
   "cell_type": "markdown",
   "metadata": {},
   "source": [
    "### 变量操作"
   ]
  },
  {
   "cell_type": "markdown",
   "metadata": {},
   "source": [
    "`globals`：返回当前作用域内的全局变量和其值组成的字典"
   ]
  },
  {
   "cell_type": "code",
   "execution_count": 108,
   "metadata": {
    "collapsed": true,
    "jupyter": {
     "outputs_hidden": true
    },
    "tags": []
   },
   "outputs": [
    {
     "data": {
      "text/plain": [
       "{'__name__': '__main__',\n",
       " '__doc__': 'Automatically created module for IPython interactive environment',\n",
       " '__package__': None,\n",
       " '__loader__': None,\n",
       " '__spec__': None,\n",
       " '__builtin__': <module 'builtins' (built-in)>,\n",
       " '__builtins__': <module 'builtins' (built-in)>,\n",
       " '_ih': ['',\n",
       "  'abs(-2)',\n",
       "  'divmod(5,2)',\n",
       "  'divmod(5.5,2)',\n",
       "  'max(1,2,3)',\n",
       "  \"max('1234') # 传入1个可迭代对象，取其最大元素值\",\n",
       "  'max(-1,0,key = abs) # 传入了求绝对值函数，则参数都会进行求绝对值后再取较大者',\n",
       "  'pow(2,3)',\n",
       "  'pow(2,3)\\u3000#2**3',\n",
       "  'pow(2,3) #2**3',\n",
       "  'pow(2,3,5)',\n",
       "  'round(1.1314926,1) #四舍五入求值',\n",
       "  'round(1.1314926,5)',\n",
       "  'sum((1,2,3,4)) # 传入可迭代对象',\n",
       "  'sum((1.5,2.5,3.5,4.5)) #元素类型必须是数值型',\n",
       "  'sum((1,2,3,4),-10)',\n",
       "  'complex() #当两个参数都不提供时，返回复数 0j。',\n",
       "  \"complex('1+2j') #传入字符串创建复数\",\n",
       "  'complex(1,2) #传入数值创建复数',\n",
       "  \"bytearray('中文','utf-8')\",\n",
       "  \"bytes('中文','utf-8')\",\n",
       "  \"bytes('中文','utf-8')\\u3000#根据传入的参数创建一个不可变的字节数组\",\n",
       "  \"bytearray('中文','utf-8') #根据传入的参数创建一个新的字节数组\",\n",
       "  \"bytes('中文','utf-8') #根据传入的参数创建一个不可变的字节数组\",\n",
       "  \"v = memoryview(b'abcefg')\",\n",
       "  'v[1]',\n",
       "  'v[-1]',\n",
       "  \"v = memoryview('abcefg')\",\n",
       "  \"v = memoryview(b'abcefg')\",\n",
       "  \"v = memoryview('abcefg')\",\n",
       "  \"v = memoryview(b'abcefg')\",\n",
       "  \"ord('a') #返回unicode字符对应的整数\",\n",
       "  'chr(97) #返回整数对应的unicode字符',\n",
       "  'bin(3) #int->二进制',\n",
       "  'oct(10) #int->8进制',\n",
       "  'hex(15) #int->16进制',\n",
       "  'dict(a = 1,b = 2)',\n",
       "  \"dict(zip(['a','b'],[1,2]))\",\n",
       "  \"dict((('a',1),('b',2)))\",\n",
       "  'a = set(range(10)) # 传入可迭代对象，创建集合',\n",
       "  'a',\n",
       "  'a = frozenset(range(10)) #不可变集合',\n",
       "  'a',\n",
       "  'list(enumerate(seasons, start=1)) #指定起始值',\n",
       "  \"seasons = ['Spring', 'Summer', 'Fall', 'Winter']\\nlist(enumerate(seasons, start=1)) #指定起始值\",\n",
       "  \"#创建可迭代对象\\na = iter('abcd')\",\n",
       "  'a',\n",
       "  'next(a)',\n",
       "  'next(a)',\n",
       "  'next(a)',\n",
       "  'next(a)',\n",
       "  'next(a)',\n",
       "  \"#根据传入的参数创建一个新的子类和父类关系的代理对象\\nclass A(object):\\n    def __init__(self):\\n        print('A.__init__')\",\n",
       "  \"class B(A):\\n    def __init__(self):\\n        print('B.__init__')\\n        super().__init__()\",\n",
       "  'b = B()',\n",
       "  'all([1,2]) #列表中每个元素逻辑值均为True，返回True',\n",
       "  'all([0,1,2]) #列表中0的逻辑值为False，返回False',\n",
       "  'any([0,1,2]) #列表元素有一个为True，则返回True',\n",
       "  'any([0,0]) #列表元素全部为False，则返回False',\n",
       "  'any([]) #空列表',\n",
       "  'any({}) #空字典',\n",
       "  'all(()) #空元组',\n",
       "  'all({}) #空字典',\n",
       "  '#filter：使用指定方法过滤可迭代对象的元素\\na = list(range(10))\\na',\n",
       "  'def if_odd(x):\\n    return x%2==1',\n",
       "  'list(filter(if_odd, a))',\n",
       "  \"a = map(ord,'abcd')\\na\",\n",
       "  'list(a)',\n",
       "  \"#创建可迭代对象\\na = iter('abcd')\",\n",
       "  'a',\n",
       "  'next(a)',\n",
       "  'next(a)',\n",
       "  'next(a)',\n",
       "  'next(a)',\n",
       "  'next(a) \\n#传入default参数后，如果可迭代对象还有元素没有返回，则依次返回其元素值，如果所有元素已经返回，\\n#则返回default指定的默认值而不抛出StopIteration 异常',\n",
       "  \"next(a,'e')\",\n",
       "  '#reversed：反转序列生成新的可迭代对象\\na = reversed(range(10))',\n",
       "  'a',\n",
       "  'list(a)',\n",
       "  \"#sorted：对可迭代对象进行排序，返回一个新的列表\\na = ['a','b','d','c','B','A']\\na\",\n",
       "  'sorted(a)',\n",
       "  'sorted(a, key= str.lower)',\n",
       "  '#zip：聚合传入的每个迭代器中相同位置的元素，返回一个新的元组类型迭代器\\nx = [1,2,3]\\ny = [4,5,6,7,8]\\nlist(zip(x,y)) # 取最小长度3',\n",
       "  'import math\\ndir(math)',\n",
       "  'a = list(range(10))\\na',\n",
       "  \"a = 'some'\\nid(a)\",\n",
       "  \"hash('good good study')\",\n",
       "  'isinstance(1,int)\\nisinstance(1,str)\\nisinstance(1,(int,str))',\n",
       "  'print(isinstance(1,int))\\nprint(isinstance(1,str))\\nprint(isinstance(1,(int,str)))',\n",
       "  'issubclass(bool,int)',\n",
       "  'issubclass(bool,str)',\n",
       "  'issubclass(bool,(str,int))',\n",
       "  'class Student:\\n    def __init__(self,name):\\n        self.name = name',\n",
       "  \"s = Student('Aim')\",\n",
       "  \"hasattr(s, 'name')\",\n",
       "  \"hasattr(s, 'age')\",\n",
       "  \"getattr(s,'name')\",\n",
       "  \"setattr(a,'name','Bob')\",\n",
       "  \"setattr(s,'name','Bob')\",\n",
       "  's.name',\n",
       "  \"delattr(s,'name')\",\n",
       "  's.name',\n",
       "  \"class B: #定义类B\\n    def __call__(self):\\n        print('instances are callable now.')\",\n",
       "  'callable(B) #类B是可调用对象',\n",
       "  'b = B()',\n",
       "  'callable(b)',\n",
       "  'b()',\n",
       "  'globals',\n",
       "  'globals()'],\n",
       " '_oh': {1: 2,\n",
       "  2: (2, 1),\n",
       "  3: (2.0, 1.5),\n",
       "  4: 3,\n",
       "  5: '4',\n",
       "  6: -1,\n",
       "  7: 8,\n",
       "  9: 8,\n",
       "  10: 3,\n",
       "  11: 1.1,\n",
       "  12: 1.13149,\n",
       "  13: 10,\n",
       "  14: 12.0,\n",
       "  15: 0,\n",
       "  16: 0j,\n",
       "  17: (1+2j),\n",
       "  18: (1+2j),\n",
       "  19: bytearray(b'\\xe4\\xb8\\xad\\xe6\\x96\\x87'),\n",
       "  20: b'\\xe4\\xb8\\xad\\xe6\\x96\\x87',\n",
       "  22: bytearray(b'\\xe4\\xb8\\xad\\xe6\\x96\\x87'),\n",
       "  23: b'\\xe4\\xb8\\xad\\xe6\\x96\\x87',\n",
       "  25: 98,\n",
       "  26: 103,\n",
       "  31: 97,\n",
       "  32: 'a',\n",
       "  33: '0b11',\n",
       "  34: '0o12',\n",
       "  35: '0xf',\n",
       "  36: {'a': 1, 'b': 2},\n",
       "  37: {'a': 1, 'b': 2},\n",
       "  38: {'a': 1, 'b': 2},\n",
       "  40: {0, 1, 2, 3, 4, 5, 6, 7, 8, 9},\n",
       "  42: frozenset({0, 1, 2, 3, 4, 5, 6, 7, 8, 9}),\n",
       "  44: [(1, 'Spring'), (2, 'Summer'), (3, 'Fall'), (4, 'Winter')],\n",
       "  46: <str_iterator at 0x7f5ec1f85210>,\n",
       "  47: 'a',\n",
       "  48: 'b',\n",
       "  49: 'c',\n",
       "  50: 'd',\n",
       "  55: True,\n",
       "  56: False,\n",
       "  57: True,\n",
       "  58: False,\n",
       "  59: False,\n",
       "  60: False,\n",
       "  61: True,\n",
       "  62: True,\n",
       "  63: [0, 1, 2, 3, 4, 5, 6, 7, 8, 9],\n",
       "  65: [1, 3, 5, 7, 9],\n",
       "  66: <map at 0x7f5ec173bc10>,\n",
       "  67: [97, 98, 99, 100],\n",
       "  69: <str_iterator at 0x7f5ec1740c50>,\n",
       "  70: 'a',\n",
       "  71: 'b',\n",
       "  72: 'c',\n",
       "  73: 'd',\n",
       "  75: 'e',\n",
       "  77: <range_iterator at 0x7f5eafadfb40>,\n",
       "  78: [9, 8, 7, 6, 5, 4, 3, 2, 1, 0],\n",
       "  79: ['a', 'b', 'd', 'c', 'B', 'A'],\n",
       "  80: ['A', 'B', 'a', 'b', 'c', 'd'],\n",
       "  81: ['a', 'A', 'b', 'B', 'c', 'd'],\n",
       "  82: [(1, 4), (2, 5), (3, 6)],\n",
       "  83: ['__doc__',\n",
       "   '__file__',\n",
       "   '__loader__',\n",
       "   '__name__',\n",
       "   '__package__',\n",
       "   '__spec__',\n",
       "   'acos',\n",
       "   'acosh',\n",
       "   'asin',\n",
       "   'asinh',\n",
       "   'atan',\n",
       "   'atan2',\n",
       "   'atanh',\n",
       "   'ceil',\n",
       "   'copysign',\n",
       "   'cos',\n",
       "   'cosh',\n",
       "   'degrees',\n",
       "   'e',\n",
       "   'erf',\n",
       "   'erfc',\n",
       "   'exp',\n",
       "   'expm1',\n",
       "   'fabs',\n",
       "   'factorial',\n",
       "   'floor',\n",
       "   'fmod',\n",
       "   'frexp',\n",
       "   'fsum',\n",
       "   'gamma',\n",
       "   'gcd',\n",
       "   'hypot',\n",
       "   'inf',\n",
       "   'isclose',\n",
       "   'isfinite',\n",
       "   'isinf',\n",
       "   'isnan',\n",
       "   'ldexp',\n",
       "   'lgamma',\n",
       "   'log',\n",
       "   'log10',\n",
       "   'log1p',\n",
       "   'log2',\n",
       "   'modf',\n",
       "   'nan',\n",
       "   'pi',\n",
       "   'pow',\n",
       "   'radians',\n",
       "   'remainder',\n",
       "   'sin',\n",
       "   'sinh',\n",
       "   'sqrt',\n",
       "   'tan',\n",
       "   'tanh',\n",
       "   'tau',\n",
       "   'trunc'],\n",
       "  84: [0, 1, 2, 3, 4, 5, 6, 7, 8, 9],\n",
       "  85: 140044928959920,\n",
       "  86: -7421489166762809569,\n",
       "  87: True,\n",
       "  89: True,\n",
       "  90: False,\n",
       "  91: True,\n",
       "  94: True,\n",
       "  95: False,\n",
       "  96: 'Aim',\n",
       "  99: 'Bob',\n",
       "  103: True,\n",
       "  105: True,\n",
       "  107: <function globals()>},\n",
       " '_dh': ['/home/weiweia92/Learning-Note/learning_python'],\n",
       " 'In': ['',\n",
       "  'abs(-2)',\n",
       "  'divmod(5,2)',\n",
       "  'divmod(5.5,2)',\n",
       "  'max(1,2,3)',\n",
       "  \"max('1234') # 传入1个可迭代对象，取其最大元素值\",\n",
       "  'max(-1,0,key = abs) # 传入了求绝对值函数，则参数都会进行求绝对值后再取较大者',\n",
       "  'pow(2,3)',\n",
       "  'pow(2,3)\\u3000#2**3',\n",
       "  'pow(2,3) #2**3',\n",
       "  'pow(2,3,5)',\n",
       "  'round(1.1314926,1) #四舍五入求值',\n",
       "  'round(1.1314926,5)',\n",
       "  'sum((1,2,3,4)) # 传入可迭代对象',\n",
       "  'sum((1.5,2.5,3.5,4.5)) #元素类型必须是数值型',\n",
       "  'sum((1,2,3,4),-10)',\n",
       "  'complex() #当两个参数都不提供时，返回复数 0j。',\n",
       "  \"complex('1+2j') #传入字符串创建复数\",\n",
       "  'complex(1,2) #传入数值创建复数',\n",
       "  \"bytearray('中文','utf-8')\",\n",
       "  \"bytes('中文','utf-8')\",\n",
       "  \"bytes('中文','utf-8')\\u3000#根据传入的参数创建一个不可变的字节数组\",\n",
       "  \"bytearray('中文','utf-8') #根据传入的参数创建一个新的字节数组\",\n",
       "  \"bytes('中文','utf-8') #根据传入的参数创建一个不可变的字节数组\",\n",
       "  \"v = memoryview(b'abcefg')\",\n",
       "  'v[1]',\n",
       "  'v[-1]',\n",
       "  \"v = memoryview('abcefg')\",\n",
       "  \"v = memoryview(b'abcefg')\",\n",
       "  \"v = memoryview('abcefg')\",\n",
       "  \"v = memoryview(b'abcefg')\",\n",
       "  \"ord('a') #返回unicode字符对应的整数\",\n",
       "  'chr(97) #返回整数对应的unicode字符',\n",
       "  'bin(3) #int->二进制',\n",
       "  'oct(10) #int->8进制',\n",
       "  'hex(15) #int->16进制',\n",
       "  'dict(a = 1,b = 2)',\n",
       "  \"dict(zip(['a','b'],[1,2]))\",\n",
       "  \"dict((('a',1),('b',2)))\",\n",
       "  'a = set(range(10)) # 传入可迭代对象，创建集合',\n",
       "  'a',\n",
       "  'a = frozenset(range(10)) #不可变集合',\n",
       "  'a',\n",
       "  'list(enumerate(seasons, start=1)) #指定起始值',\n",
       "  \"seasons = ['Spring', 'Summer', 'Fall', 'Winter']\\nlist(enumerate(seasons, start=1)) #指定起始值\",\n",
       "  \"#创建可迭代对象\\na = iter('abcd')\",\n",
       "  'a',\n",
       "  'next(a)',\n",
       "  'next(a)',\n",
       "  'next(a)',\n",
       "  'next(a)',\n",
       "  'next(a)',\n",
       "  \"#根据传入的参数创建一个新的子类和父类关系的代理对象\\nclass A(object):\\n    def __init__(self):\\n        print('A.__init__')\",\n",
       "  \"class B(A):\\n    def __init__(self):\\n        print('B.__init__')\\n        super().__init__()\",\n",
       "  'b = B()',\n",
       "  'all([1,2]) #列表中每个元素逻辑值均为True，返回True',\n",
       "  'all([0,1,2]) #列表中0的逻辑值为False，返回False',\n",
       "  'any([0,1,2]) #列表元素有一个为True，则返回True',\n",
       "  'any([0,0]) #列表元素全部为False，则返回False',\n",
       "  'any([]) #空列表',\n",
       "  'any({}) #空字典',\n",
       "  'all(()) #空元组',\n",
       "  'all({}) #空字典',\n",
       "  '#filter：使用指定方法过滤可迭代对象的元素\\na = list(range(10))\\na',\n",
       "  'def if_odd(x):\\n    return x%2==1',\n",
       "  'list(filter(if_odd, a))',\n",
       "  \"a = map(ord,'abcd')\\na\",\n",
       "  'list(a)',\n",
       "  \"#创建可迭代对象\\na = iter('abcd')\",\n",
       "  'a',\n",
       "  'next(a)',\n",
       "  'next(a)',\n",
       "  'next(a)',\n",
       "  'next(a)',\n",
       "  'next(a) \\n#传入default参数后，如果可迭代对象还有元素没有返回，则依次返回其元素值，如果所有元素已经返回，\\n#则返回default指定的默认值而不抛出StopIteration 异常',\n",
       "  \"next(a,'e')\",\n",
       "  '#reversed：反转序列生成新的可迭代对象\\na = reversed(range(10))',\n",
       "  'a',\n",
       "  'list(a)',\n",
       "  \"#sorted：对可迭代对象进行排序，返回一个新的列表\\na = ['a','b','d','c','B','A']\\na\",\n",
       "  'sorted(a)',\n",
       "  'sorted(a, key= str.lower)',\n",
       "  '#zip：聚合传入的每个迭代器中相同位置的元素，返回一个新的元组类型迭代器\\nx = [1,2,3]\\ny = [4,5,6,7,8]\\nlist(zip(x,y)) # 取最小长度3',\n",
       "  'import math\\ndir(math)',\n",
       "  'a = list(range(10))\\na',\n",
       "  \"a = 'some'\\nid(a)\",\n",
       "  \"hash('good good study')\",\n",
       "  'isinstance(1,int)\\nisinstance(1,str)\\nisinstance(1,(int,str))',\n",
       "  'print(isinstance(1,int))\\nprint(isinstance(1,str))\\nprint(isinstance(1,(int,str)))',\n",
       "  'issubclass(bool,int)',\n",
       "  'issubclass(bool,str)',\n",
       "  'issubclass(bool,(str,int))',\n",
       "  'class Student:\\n    def __init__(self,name):\\n        self.name = name',\n",
       "  \"s = Student('Aim')\",\n",
       "  \"hasattr(s, 'name')\",\n",
       "  \"hasattr(s, 'age')\",\n",
       "  \"getattr(s,'name')\",\n",
       "  \"setattr(a,'name','Bob')\",\n",
       "  \"setattr(s,'name','Bob')\",\n",
       "  's.name',\n",
       "  \"delattr(s,'name')\",\n",
       "  's.name',\n",
       "  \"class B: #定义类B\\n    def __call__(self):\\n        print('instances are callable now.')\",\n",
       "  'callable(B) #类B是可调用对象',\n",
       "  'b = B()',\n",
       "  'callable(b)',\n",
       "  'b()',\n",
       "  'globals',\n",
       "  'globals()'],\n",
       " 'Out': {1: 2,\n",
       "  2: (2, 1),\n",
       "  3: (2.0, 1.5),\n",
       "  4: 3,\n",
       "  5: '4',\n",
       "  6: -1,\n",
       "  7: 8,\n",
       "  9: 8,\n",
       "  10: 3,\n",
       "  11: 1.1,\n",
       "  12: 1.13149,\n",
       "  13: 10,\n",
       "  14: 12.0,\n",
       "  15: 0,\n",
       "  16: 0j,\n",
       "  17: (1+2j),\n",
       "  18: (1+2j),\n",
       "  19: bytearray(b'\\xe4\\xb8\\xad\\xe6\\x96\\x87'),\n",
       "  20: b'\\xe4\\xb8\\xad\\xe6\\x96\\x87',\n",
       "  22: bytearray(b'\\xe4\\xb8\\xad\\xe6\\x96\\x87'),\n",
       "  23: b'\\xe4\\xb8\\xad\\xe6\\x96\\x87',\n",
       "  25: 98,\n",
       "  26: 103,\n",
       "  31: 97,\n",
       "  32: 'a',\n",
       "  33: '0b11',\n",
       "  34: '0o12',\n",
       "  35: '0xf',\n",
       "  36: {'a': 1, 'b': 2},\n",
       "  37: {'a': 1, 'b': 2},\n",
       "  38: {'a': 1, 'b': 2},\n",
       "  40: {0, 1, 2, 3, 4, 5, 6, 7, 8, 9},\n",
       "  42: frozenset({0, 1, 2, 3, 4, 5, 6, 7, 8, 9}),\n",
       "  44: [(1, 'Spring'), (2, 'Summer'), (3, 'Fall'), (4, 'Winter')],\n",
       "  46: <str_iterator at 0x7f5ec1f85210>,\n",
       "  47: 'a',\n",
       "  48: 'b',\n",
       "  49: 'c',\n",
       "  50: 'd',\n",
       "  55: True,\n",
       "  56: False,\n",
       "  57: True,\n",
       "  58: False,\n",
       "  59: False,\n",
       "  60: False,\n",
       "  61: True,\n",
       "  62: True,\n",
       "  63: [0, 1, 2, 3, 4, 5, 6, 7, 8, 9],\n",
       "  65: [1, 3, 5, 7, 9],\n",
       "  66: <map at 0x7f5ec173bc10>,\n",
       "  67: [97, 98, 99, 100],\n",
       "  69: <str_iterator at 0x7f5ec1740c50>,\n",
       "  70: 'a',\n",
       "  71: 'b',\n",
       "  72: 'c',\n",
       "  73: 'd',\n",
       "  75: 'e',\n",
       "  77: <range_iterator at 0x7f5eafadfb40>,\n",
       "  78: [9, 8, 7, 6, 5, 4, 3, 2, 1, 0],\n",
       "  79: ['a', 'b', 'd', 'c', 'B', 'A'],\n",
       "  80: ['A', 'B', 'a', 'b', 'c', 'd'],\n",
       "  81: ['a', 'A', 'b', 'B', 'c', 'd'],\n",
       "  82: [(1, 4), (2, 5), (3, 6)],\n",
       "  83: ['__doc__',\n",
       "   '__file__',\n",
       "   '__loader__',\n",
       "   '__name__',\n",
       "   '__package__',\n",
       "   '__spec__',\n",
       "   'acos',\n",
       "   'acosh',\n",
       "   'asin',\n",
       "   'asinh',\n",
       "   'atan',\n",
       "   'atan2',\n",
       "   'atanh',\n",
       "   'ceil',\n",
       "   'copysign',\n",
       "   'cos',\n",
       "   'cosh',\n",
       "   'degrees',\n",
       "   'e',\n",
       "   'erf',\n",
       "   'erfc',\n",
       "   'exp',\n",
       "   'expm1',\n",
       "   'fabs',\n",
       "   'factorial',\n",
       "   'floor',\n",
       "   'fmod',\n",
       "   'frexp',\n",
       "   'fsum',\n",
       "   'gamma',\n",
       "   'gcd',\n",
       "   'hypot',\n",
       "   'inf',\n",
       "   'isclose',\n",
       "   'isfinite',\n",
       "   'isinf',\n",
       "   'isnan',\n",
       "   'ldexp',\n",
       "   'lgamma',\n",
       "   'log',\n",
       "   'log10',\n",
       "   'log1p',\n",
       "   'log2',\n",
       "   'modf',\n",
       "   'nan',\n",
       "   'pi',\n",
       "   'pow',\n",
       "   'radians',\n",
       "   'remainder',\n",
       "   'sin',\n",
       "   'sinh',\n",
       "   'sqrt',\n",
       "   'tan',\n",
       "   'tanh',\n",
       "   'tau',\n",
       "   'trunc'],\n",
       "  84: [0, 1, 2, 3, 4, 5, 6, 7, 8, 9],\n",
       "  85: 140044928959920,\n",
       "  86: -7421489166762809569,\n",
       "  87: True,\n",
       "  89: True,\n",
       "  90: False,\n",
       "  91: True,\n",
       "  94: True,\n",
       "  95: False,\n",
       "  96: 'Aim',\n",
       "  99: 'Bob',\n",
       "  103: True,\n",
       "  105: True,\n",
       "  107: <function globals()>},\n",
       " 'get_ipython': <bound method InteractiveShell.get_ipython of <ipykernel.zmqshell.ZMQInteractiveShell object at 0x7f5ec9878950>>,\n",
       " 'exit': <IPython.core.autocall.ZMQExitAutocall at 0x7f5ec27c6290>,\n",
       " 'quit': <IPython.core.autocall.ZMQExitAutocall at 0x7f5ec27c6290>,\n",
       " '_': <function globals()>,\n",
       " '__': True,\n",
       " '___': True,\n",
       " '_i': 'globals',\n",
       " '_ii': 'b()',\n",
       " '_iii': 'callable(b)',\n",
       " '_i1': 'abs(-2)',\n",
       " '_1': 2,\n",
       " '_i2': 'divmod(5,2)',\n",
       " '_2': (2, 1),\n",
       " '_i3': 'divmod(5.5,2)',\n",
       " '_3': (2.0, 1.5),\n",
       " '_i4': 'max(1,2,3)',\n",
       " '_4': 3,\n",
       " '_i5': \"max('1234') # 传入1个可迭代对象，取其最大元素值\",\n",
       " '_5': '4',\n",
       " '_i6': 'max(-1,0,key = abs) # 传入了求绝对值函数，则参数都会进行求绝对值后再取较大者',\n",
       " '_6': -1,\n",
       " '_i7': 'pow(2,3)',\n",
       " '_7': 8,\n",
       " '_i8': 'pow(2,3)\\u3000#2**3',\n",
       " '_i9': 'pow(2,3) #2**3',\n",
       " '_9': 8,\n",
       " '_i10': 'pow(2,3,5)',\n",
       " '_10': 3,\n",
       " '_i11': 'round(1.1314926,1) #四舍五入求值',\n",
       " '_11': 1.1,\n",
       " '_i12': 'round(1.1314926,5)',\n",
       " '_12': 1.13149,\n",
       " '_i13': 'sum((1,2,3,4)) # 传入可迭代对象',\n",
       " '_13': 10,\n",
       " '_i14': 'sum((1.5,2.5,3.5,4.5)) #元素类型必须是数值型',\n",
       " '_14': 12.0,\n",
       " '_i15': 'sum((1,2,3,4),-10)',\n",
       " '_15': 0,\n",
       " '_i16': 'complex() #当两个参数都不提供时，返回复数 0j。',\n",
       " '_16': 0j,\n",
       " '_i17': \"complex('1+2j') #传入字符串创建复数\",\n",
       " '_17': (1+2j),\n",
       " '_i18': 'complex(1,2) #传入数值创建复数',\n",
       " '_18': (1+2j),\n",
       " '_i19': \"bytearray('中文','utf-8')\",\n",
       " '_19': bytearray(b'\\xe4\\xb8\\xad\\xe6\\x96\\x87'),\n",
       " '_i20': \"bytes('中文','utf-8')\",\n",
       " '_20': b'\\xe4\\xb8\\xad\\xe6\\x96\\x87',\n",
       " '_i21': \"bytes('中文','utf-8')\\u3000#根据传入的参数创建一个不可变的字节数组\",\n",
       " '_i22': \"bytearray('中文','utf-8') #根据传入的参数创建一个新的字节数组\",\n",
       " '_22': bytearray(b'\\xe4\\xb8\\xad\\xe6\\x96\\x87'),\n",
       " '_i23': \"bytes('中文','utf-8') #根据传入的参数创建一个不可变的字节数组\",\n",
       " '_23': b'\\xe4\\xb8\\xad\\xe6\\x96\\x87',\n",
       " '_i24': \"v = memoryview(b'abcefg')\",\n",
       " 'v': <memory at 0x7f5ec883a6d0>,\n",
       " '_i25': 'v[1]',\n",
       " '_25': 98,\n",
       " '_i26': 'v[-1]',\n",
       " '_26': 103,\n",
       " '_i27': \"v = memoryview('abcefg')\",\n",
       " '_i28': \"v = memoryview(b'abcefg')\",\n",
       " '_i29': \"v = memoryview('abcefg')\",\n",
       " '_i30': \"v = memoryview(b'abcefg')\",\n",
       " '_i31': \"ord('a') #返回unicode字符对应的整数\",\n",
       " '_31': 97,\n",
       " '_i32': 'chr(97) #返回整数对应的unicode字符',\n",
       " '_32': 'a',\n",
       " '_i33': 'bin(3) #int->二进制',\n",
       " '_33': '0b11',\n",
       " '_i34': 'oct(10) #int->8进制',\n",
       " '_34': '0o12',\n",
       " '_i35': 'hex(15) #int->16进制',\n",
       " '_35': '0xf',\n",
       " '_i36': 'dict(a = 1,b = 2)',\n",
       " '_36': {'a': 1, 'b': 2},\n",
       " '_i37': \"dict(zip(['a','b'],[1,2]))\",\n",
       " '_37': {'a': 1, 'b': 2},\n",
       " '_i38': \"dict((('a',1),('b',2)))\",\n",
       " '_38': {'a': 1, 'b': 2},\n",
       " '_i39': 'a = set(range(10)) # 传入可迭代对象，创建集合',\n",
       " 'a': 'some',\n",
       " '_i40': 'a',\n",
       " '_40': {0, 1, 2, 3, 4, 5, 6, 7, 8, 9},\n",
       " '_i41': 'a = frozenset(range(10)) #不可变集合',\n",
       " '_i42': 'a',\n",
       " '_42': frozenset({0, 1, 2, 3, 4, 5, 6, 7, 8, 9}),\n",
       " '_i43': 'list(enumerate(seasons, start=1)) #指定起始值',\n",
       " '_i44': \"seasons = ['Spring', 'Summer', 'Fall', 'Winter']\\nlist(enumerate(seasons, start=1)) #指定起始值\",\n",
       " 'seasons': ['Spring', 'Summer', 'Fall', 'Winter'],\n",
       " '_44': [(1, 'Spring'), (2, 'Summer'), (3, 'Fall'), (4, 'Winter')],\n",
       " '_i45': \"#创建可迭代对象\\na = iter('abcd')\",\n",
       " '_i46': 'a',\n",
       " '_46': <str_iterator at 0x7f5ec1f85210>,\n",
       " '_i47': 'next(a)',\n",
       " '_47': 'a',\n",
       " '_i48': 'next(a)',\n",
       " '_48': 'b',\n",
       " '_i49': 'next(a)',\n",
       " '_49': 'c',\n",
       " '_i50': 'next(a)',\n",
       " '_50': 'd',\n",
       " '_i51': 'next(a)',\n",
       " '_i52': \"#根据传入的参数创建一个新的子类和父类关系的代理对象\\nclass A(object):\\n    def __init__(self):\\n        print('A.__init__')\",\n",
       " 'A': __main__.A,\n",
       " '_i53': \"class B(A):\\n    def __init__(self):\\n        print('B.__init__')\\n        super().__init__()\",\n",
       " 'B': __main__.B,\n",
       " '_i54': 'b = B()',\n",
       " 'b': <__main__.B at 0x7f5ec0897790>,\n",
       " '_i55': 'all([1,2]) #列表中每个元素逻辑值均为True，返回True',\n",
       " '_55': True,\n",
       " '_i56': 'all([0,1,2]) #列表中0的逻辑值为False，返回False',\n",
       " '_56': False,\n",
       " '_i57': 'any([0,1,2]) #列表元素有一个为True，则返回True',\n",
       " '_57': True,\n",
       " '_i58': 'any([0,0]) #列表元素全部为False，则返回False',\n",
       " '_58': False,\n",
       " '_i59': 'any([]) #空列表',\n",
       " '_59': False,\n",
       " '_i60': 'any({}) #空字典',\n",
       " '_60': False,\n",
       " '_i61': 'all(()) #空元组',\n",
       " '_61': True,\n",
       " '_i62': 'all({}) #空字典',\n",
       " '_62': True,\n",
       " '_i63': '#filter：使用指定方法过滤可迭代对象的元素\\na = list(range(10))\\na',\n",
       " '_63': [0, 1, 2, 3, 4, 5, 6, 7, 8, 9],\n",
       " '_i64': 'def if_odd(x):\\n    return x%2==1',\n",
       " 'if_odd': <function __main__.if_odd(x)>,\n",
       " '_i65': 'list(filter(if_odd, a))',\n",
       " '_65': [1, 3, 5, 7, 9],\n",
       " '_i66': \"a = map(ord,'abcd')\\na\",\n",
       " '_66': <map at 0x7f5ec173bc10>,\n",
       " '_i67': 'list(a)',\n",
       " '_67': [97, 98, 99, 100],\n",
       " '_i68': \"#创建可迭代对象\\na = iter('abcd')\",\n",
       " '_i69': 'a',\n",
       " '_69': <str_iterator at 0x7f5ec1740c50>,\n",
       " '_i70': 'next(a)',\n",
       " '_70': 'a',\n",
       " '_i71': 'next(a)',\n",
       " '_71': 'b',\n",
       " '_i72': 'next(a)',\n",
       " '_72': 'c',\n",
       " '_i73': 'next(a)',\n",
       " '_73': 'd',\n",
       " '_i74': 'next(a) \\n#传入default参数后，如果可迭代对象还有元素没有返回，则依次返回其元素值，如果所有元素已经返回，\\n#则返回default指定的默认值而不抛出StopIteration 异常',\n",
       " '_i75': \"next(a,'e')\",\n",
       " '_75': 'e',\n",
       " '_i76': '#reversed：反转序列生成新的可迭代对象\\na = reversed(range(10))',\n",
       " '_i77': 'a',\n",
       " '_77': <range_iterator at 0x7f5eafadfb40>,\n",
       " '_i78': 'list(a)',\n",
       " '_78': [9, 8, 7, 6, 5, 4, 3, 2, 1, 0],\n",
       " '_i79': \"#sorted：对可迭代对象进行排序，返回一个新的列表\\na = ['a','b','d','c','B','A']\\na\",\n",
       " '_79': ['a', 'b', 'd', 'c', 'B', 'A'],\n",
       " '_i80': 'sorted(a)',\n",
       " '_80': ['A', 'B', 'a', 'b', 'c', 'd'],\n",
       " '_i81': 'sorted(a, key= str.lower)',\n",
       " '_81': ['a', 'A', 'b', 'B', 'c', 'd'],\n",
       " '_i82': '#zip：聚合传入的每个迭代器中相同位置的元素，返回一个新的元组类型迭代器\\nx = [1,2,3]\\ny = [4,5,6,7,8]\\nlist(zip(x,y)) # 取最小长度3',\n",
       " 'x': [1, 2, 3],\n",
       " 'y': [4, 5, 6, 7, 8],\n",
       " '_82': [(1, 4), (2, 5), (3, 6)],\n",
       " '_i83': 'import math\\ndir(math)',\n",
       " 'math': <module 'math' from '/home/weiweia92/anaconda3/lib/python3.7/lib-dynload/math.cpython-37m-x86_64-linux-gnu.so'>,\n",
       " '_83': ['__doc__',\n",
       "  '__file__',\n",
       "  '__loader__',\n",
       "  '__name__',\n",
       "  '__package__',\n",
       "  '__spec__',\n",
       "  'acos',\n",
       "  'acosh',\n",
       "  'asin',\n",
       "  'asinh',\n",
       "  'atan',\n",
       "  'atan2',\n",
       "  'atanh',\n",
       "  'ceil',\n",
       "  'copysign',\n",
       "  'cos',\n",
       "  'cosh',\n",
       "  'degrees',\n",
       "  'e',\n",
       "  'erf',\n",
       "  'erfc',\n",
       "  'exp',\n",
       "  'expm1',\n",
       "  'fabs',\n",
       "  'factorial',\n",
       "  'floor',\n",
       "  'fmod',\n",
       "  'frexp',\n",
       "  'fsum',\n",
       "  'gamma',\n",
       "  'gcd',\n",
       "  'hypot',\n",
       "  'inf',\n",
       "  'isclose',\n",
       "  'isfinite',\n",
       "  'isinf',\n",
       "  'isnan',\n",
       "  'ldexp',\n",
       "  'lgamma',\n",
       "  'log',\n",
       "  'log10',\n",
       "  'log1p',\n",
       "  'log2',\n",
       "  'modf',\n",
       "  'nan',\n",
       "  'pi',\n",
       "  'pow',\n",
       "  'radians',\n",
       "  'remainder',\n",
       "  'sin',\n",
       "  'sinh',\n",
       "  'sqrt',\n",
       "  'tan',\n",
       "  'tanh',\n",
       "  'tau',\n",
       "  'trunc'],\n",
       " '_i84': 'a = list(range(10))\\na',\n",
       " '_84': [0, 1, 2, 3, 4, 5, 6, 7, 8, 9],\n",
       " '_i85': \"a = 'some'\\nid(a)\",\n",
       " '_85': 140044928959920,\n",
       " '_i86': \"hash('good good study')\",\n",
       " '_86': -7421489166762809569,\n",
       " '_i87': 'isinstance(1,int)\\nisinstance(1,str)\\nisinstance(1,(int,str))',\n",
       " '_87': True,\n",
       " '_i88': 'print(isinstance(1,int))\\nprint(isinstance(1,str))\\nprint(isinstance(1,(int,str)))',\n",
       " '_i89': 'issubclass(bool,int)',\n",
       " '_89': True,\n",
       " '_i90': 'issubclass(bool,str)',\n",
       " '_90': False,\n",
       " '_i91': 'issubclass(bool,(str,int))',\n",
       " '_91': True,\n",
       " '_i92': 'class Student:\\n    def __init__(self,name):\\n        self.name = name',\n",
       " 'Student': __main__.Student,\n",
       " '_i93': \"s = Student('Aim')\",\n",
       " 's': <__main__.Student at 0x7f5ec04d4390>,\n",
       " '_i94': \"hasattr(s, 'name')\",\n",
       " '_94': True,\n",
       " '_i95': \"hasattr(s, 'age')\",\n",
       " '_95': False,\n",
       " '_i96': \"getattr(s,'name')\",\n",
       " '_96': 'Aim',\n",
       " '_i97': \"setattr(a,'name','Bob')\",\n",
       " '_i98': \"setattr(s,'name','Bob')\",\n",
       " '_i99': 's.name',\n",
       " '_99': 'Bob',\n",
       " '_i100': \"delattr(s,'name')\",\n",
       " '_i101': 's.name',\n",
       " '_i102': \"class B: #定义类B\\n    def __call__(self):\\n        print('instances are callable now.')\",\n",
       " '_i103': 'callable(B) #类B是可调用对象',\n",
       " '_103': True,\n",
       " '_i104': 'b = B()',\n",
       " '_i105': 'callable(b)',\n",
       " '_105': True,\n",
       " '_i106': 'b()',\n",
       " '_i107': 'globals',\n",
       " '_107': <function globals()>,\n",
       " '_i108': 'globals()'}"
      ]
     },
     "execution_count": 108,
     "metadata": {},
     "output_type": "execute_result"
    }
   ],
   "source": [
    "globals()"
   ]
  },
  {
   "cell_type": "markdown",
   "metadata": {},
   "source": [
    "`locals`：返回当前作用域内的局部变量和其值组成的字典"
   ]
  },
  {
   "cell_type": "code",
   "execution_count": 109,
   "metadata": {},
   "outputs": [],
   "source": [
    "def f():\n",
    "    print('before define a ')\n",
    "    print(locals()) #作用域内无变量\n",
    "    a = 1\n",
    "    print('after define a')\n",
    "    print(locals()) #作用域内有一个a变量，值为1"
   ]
  },
  {
   "cell_type": "code",
   "execution_count": 110,
   "metadata": {},
   "outputs": [
    {
     "name": "stdout",
     "output_type": "stream",
     "text": [
      "before define a \n",
      "{}\n",
      "after define a\n",
      "{'a': 1}\n"
     ]
    }
   ],
   "source": [
    "f()"
   ]
  },
  {
   "cell_type": "markdown",
   "metadata": {},
   "source": [
    "### 编译执行  \n",
    "`compile`：将字符串编译为代码或者AST对象，使之能够通过exec语句来执行或者eval进行求值"
   ]
  },
  {
   "cell_type": "code",
   "execution_count": 111,
   "metadata": {},
   "outputs": [
    {
     "name": "stdout",
     "output_type": "stream",
     "text": [
      "0\n",
      "1\n",
      "2\n",
      "3\n",
      "4\n",
      "5\n",
      "6\n",
      "7\n",
      "8\n",
      "9\n"
     ]
    }
   ],
   "source": [
    "#流程语句使用exec\n",
    "code1 = 'for i in range(0,10): print (i)'\n",
    "compile1 = compile(code1,'','exec')\n",
    "exec (compile1)"
   ]
  },
  {
   "cell_type": "code",
   "execution_count": 112,
   "metadata": {},
   "outputs": [
    {
     "data": {
      "text/plain": [
       "10"
      ]
     },
     "execution_count": 112,
     "metadata": {},
     "output_type": "execute_result"
    }
   ],
   "source": [
    "#简单求值表达式用eval\n",
    "code2 = '1 + 2 + 3 + 4'\n",
    "compile2 = compile(code2,'','eval')\n",
    "eval(compile2)"
   ]
  },
  {
   "cell_type": "code",
   "execution_count": 113,
   "metadata": {},
   "outputs": [
    {
     "data": {
      "text/plain": [
       "10"
      ]
     },
     "execution_count": 113,
     "metadata": {},
     "output_type": "execute_result"
    }
   ],
   "source": [
    "eval('1+2+3+4')#exec：执行动态语句块"
   ]
  },
  {
   "cell_type": "code",
   "execution_count": 114,
   "metadata": {},
   "outputs": [],
   "source": [
    "exec('a=1+2')#exec：执行动态语句块"
   ]
  },
  {
   "cell_type": "code",
   "execution_count": 115,
   "metadata": {},
   "outputs": [
    {
     "data": {
      "text/plain": [
       "3"
      ]
     },
     "execution_count": 115,
     "metadata": {},
     "output_type": "execute_result"
    }
   ],
   "source": [
    "a"
   ]
  },
  {
   "cell_type": "code",
   "execution_count": 116,
   "metadata": {},
   "outputs": [
    {
     "data": {
      "text/plain": [
       "\"'some text'\""
      ]
     },
     "execution_count": 116,
     "metadata": {},
     "output_type": "execute_result"
    }
   ],
   "source": [
    "a = 'some text'\n",
    "str(a)\n",
    "repr(a) #repr：返回一个对象的字符串表现形式(给解释器)"
   ]
  },
  {
   "cell_type": "markdown",
   "metadata": {},
   "source": [
    "### 装饰器"
   ]
  },
  {
   "cell_type": "code",
   "execution_count": 117,
   "metadata": {},
   "outputs": [],
   "source": [
    "#property：标示属性的装饰器\n",
    "class C:\n",
    "    def __init__(self):\n",
    "        self._name = ''\n",
    "    @property\n",
    "    def name(self):\n",
    "        \"\"\"i'm the 'name' property.\"\"\"\n",
    "        return self._name\n",
    "    @name.setter\n",
    "    def name(self,value):\n",
    "        if value is None:\n",
    "            raise RuntimeError('name can not be None')\n",
    "        else:\n",
    "            self._name = value"
   ]
  },
  {
   "cell_type": "code",
   "execution_count": 118,
   "metadata": {},
   "outputs": [
    {
     "data": {
      "text/plain": [
       "''"
      ]
     },
     "execution_count": 118,
     "metadata": {},
     "output_type": "execute_result"
    }
   ],
   "source": [
    "c = C()\n",
    "c.name"
   ]
  },
  {
   "cell_type": "code",
   "execution_count": 119,
   "metadata": {},
   "outputs": [
    {
     "ename": "RuntimeError",
     "evalue": "name can not be None",
     "output_type": "error",
     "traceback": [
      "\u001b[0;31m---------------------------------------------------------------------------\u001b[0m",
      "\u001b[0;31mRuntimeError\u001b[0m                              Traceback (most recent call last)",
      "\u001b[0;32m<ipython-input-119-2a870bd1dbed>\u001b[0m in \u001b[0;36m<module>\u001b[0;34m\u001b[0m\n\u001b[0;32m----> 1\u001b[0;31m \u001b[0mc\u001b[0m\u001b[0;34m.\u001b[0m\u001b[0mname\u001b[0m \u001b[0;34m=\u001b[0m \u001b[0;32mNone\u001b[0m\u001b[0;34m\u001b[0m\u001b[0;34m\u001b[0m\u001b[0m\n\u001b[0m",
      "\u001b[0;32m<ipython-input-117-3ec5d5d9735c>\u001b[0m in \u001b[0;36mname\u001b[0;34m(self, value)\u001b[0m\n\u001b[1;32m     10\u001b[0m     \u001b[0;32mdef\u001b[0m \u001b[0mname\u001b[0m\u001b[0;34m(\u001b[0m\u001b[0mself\u001b[0m\u001b[0;34m,\u001b[0m\u001b[0mvalue\u001b[0m\u001b[0;34m)\u001b[0m\u001b[0;34m:\u001b[0m\u001b[0;34m\u001b[0m\u001b[0;34m\u001b[0m\u001b[0m\n\u001b[1;32m     11\u001b[0m         \u001b[0;32mif\u001b[0m \u001b[0mvalue\u001b[0m \u001b[0;32mis\u001b[0m \u001b[0;32mNone\u001b[0m\u001b[0;34m:\u001b[0m\u001b[0;34m\u001b[0m\u001b[0;34m\u001b[0m\u001b[0m\n\u001b[0;32m---> 12\u001b[0;31m             \u001b[0;32mraise\u001b[0m \u001b[0mRuntimeError\u001b[0m\u001b[0;34m(\u001b[0m\u001b[0;34m'name can not be None'\u001b[0m\u001b[0;34m)\u001b[0m\u001b[0;34m\u001b[0m\u001b[0;34m\u001b[0m\u001b[0m\n\u001b[0m\u001b[1;32m     13\u001b[0m         \u001b[0;32melse\u001b[0m\u001b[0;34m:\u001b[0m\u001b[0;34m\u001b[0m\u001b[0;34m\u001b[0m\u001b[0m\n\u001b[1;32m     14\u001b[0m             \u001b[0mself\u001b[0m\u001b[0;34m.\u001b[0m\u001b[0m_name\u001b[0m \u001b[0;34m=\u001b[0m \u001b[0mvalue\u001b[0m\u001b[0;34m\u001b[0m\u001b[0;34m\u001b[0m\u001b[0m\n",
      "\u001b[0;31mRuntimeError\u001b[0m: name can not be None"
     ]
    }
   ],
   "source": [
    "c.name = None"
   ]
  },
  {
   "cell_type": "code",
   "execution_count": 120,
   "metadata": {},
   "outputs": [],
   "source": [
    "c.name = 'Kim'"
   ]
  },
  {
   "cell_type": "code",
   "execution_count": 121,
   "metadata": {},
   "outputs": [
    {
     "data": {
      "text/plain": [
       "'Kim'"
      ]
     },
     "execution_count": 121,
     "metadata": {},
     "output_type": "execute_result"
    }
   ],
   "source": [
    "c.name"
   ]
  },
  {
   "cell_type": "code",
   "execution_count": 122,
   "metadata": {},
   "outputs": [
    {
     "ename": "AttributeError",
     "evalue": "can't delete attribute",
     "output_type": "error",
     "traceback": [
      "\u001b[0;31m---------------------------------------------------------------------------\u001b[0m",
      "\u001b[0;31mAttributeError\u001b[0m                            Traceback (most recent call last)",
      "\u001b[0;32m<ipython-input-122-afae4b905b1c>\u001b[0m in \u001b[0;36m<module>\u001b[0;34m\u001b[0m\n\u001b[0;32m----> 1\u001b[0;31m \u001b[0;32mdel\u001b[0m \u001b[0mc\u001b[0m\u001b[0;34m.\u001b[0m\u001b[0mname\u001b[0m\u001b[0;34m\u001b[0m\u001b[0;34m\u001b[0m\u001b[0m\n\u001b[0m",
      "\u001b[0;31mAttributeError\u001b[0m: can't delete attribute"
     ]
    }
   ],
   "source": [
    "del c.name"
   ]
  },
  {
   "cell_type": "code",
   "execution_count": 123,
   "metadata": {},
   "outputs": [],
   "source": [
    "#classmethod：标示方法为类方法的装饰器\n",
    "class C:\n",
    "    @classmethod\n",
    "    def f(cls,arg1):\n",
    "        print(cls)\n",
    "        print(arg1)"
   ]
  },
  {
   "cell_type": "code",
   "execution_count": 124,
   "metadata": {},
   "outputs": [
    {
     "name": "stdout",
     "output_type": "stream",
     "text": [
      "<class '__main__.C'>\n",
      "类对象调用类方法\n"
     ]
    }
   ],
   "source": [
    "C.f('类对象调用类方法')"
   ]
  },
  {
   "cell_type": "markdown",
   "metadata": {},
   "source": [
    "`staticmethod`：标示方法为静态方法的装饰器"
   ]
  },
  {
   "cell_type": "code",
   "execution_count": 125,
   "metadata": {},
   "outputs": [],
   "source": [
    "class Student(object):\n",
    "    def __init__(self,name):\n",
    "        self.name = name\n",
    "    @staticmethod\n",
    "    def sayHello(lang):\n",
    "        print(lang)\n",
    "        if lang == 'en':\n",
    "            print('Welcome!')\n",
    "        else:\n",
    "            print('你好！')"
   ]
  },
  {
   "cell_type": "code",
   "execution_count": 126,
   "metadata": {},
   "outputs": [
    {
     "name": "stdout",
     "output_type": "stream",
     "text": [
      "en\n",
      "Welcome!\n"
     ]
    }
   ],
   "source": [
    "Student.sayHello('en') #类调用,'en'传给了lang参数"
   ]
  },
  {
   "cell_type": "code",
   "execution_count": 127,
   "metadata": {},
   "outputs": [],
   "source": [
    "b = Student('Kim')"
   ]
  },
  {
   "cell_type": "code",
   "execution_count": 128,
   "metadata": {},
   "outputs": [
    {
     "name": "stdout",
     "output_type": "stream",
     "text": [
      "zh\n",
      "你好！\n"
     ]
    }
   ],
   "source": [
    " b.sayHello('zh')  #类实例对象调用,'zh'传给了lang参数"
   ]
  },
  {
   "cell_type": "code",
   "execution_count": null,
   "metadata": {},
   "outputs": [],
   "source": []
  }
 ],
 "metadata": {
  "kernelspec": {
   "display_name": "Python 3",
   "language": "python",
   "name": "python3"
  },
  "language_info": {
   "codemirror_mode": {
    "name": "ipython",
    "version": 3
   },
   "file_extension": ".py",
   "mimetype": "text/x-python",
   "name": "python",
   "nbconvert_exporter": "python",
   "pygments_lexer": "ipython3",
   "version": "3.8.5"
  }
 },
 "nbformat": 4,
 "nbformat_minor": 4
}
