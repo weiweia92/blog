{
 "cells": [
  {
   "cell_type": "code",
   "execution_count": 2,
   "metadata": {},
   "outputs": [
    {
     "name": "stdout",
     "output_type": "stream",
     "text": [
      "正则表达式语法很easy 我爱正则表达式\n"
     ]
    }
   ],
   "source": [
    "import re\n",
    "#match从头整句匹配\n",
    "line = '正则表达式语法很easy,我爱正则表达式'\n",
    "regex = re.compile('(正则表达式语法很easy),(.*)')\n",
    "match_object = re.match(regex,line)\n",
    "print(match_object.group(1),match_object.group(2))"
   ]
  },
  {
   "cell_type": "code",
   "execution_count": null,
   "metadata": {},
   "outputs": [],
   "source": []
  }
 ],
 "metadata": {
  "kernelspec": {
   "display_name": "Python 3",
   "language": "python",
   "name": "python3"
  },
  "language_info": {
   "codemirror_mode": {
    "name": "ipython",
    "version": 3
   },
   "file_extension": ".py",
   "mimetype": "text/x-python",
   "name": "python",
   "nbconvert_exporter": "python",
   "pygments_lexer": "ipython3",
   "version": "3.7.6"
  }
 },
 "nbformat": 4,
 "nbformat_minor": 4
}
