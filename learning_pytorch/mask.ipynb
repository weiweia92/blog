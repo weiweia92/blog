{
 "cells": [
  {
   "cell_type": "markdown",
   "id": "28f4a26e-8e99-40d5-ad46-9a99239215c9",
   "metadata": {},
   "source": [
    "### masked_fill(mask, value) -> Tensor"
   ]
  },
  {
   "cell_type": "code",
   "execution_count": 1,
   "id": "9ea6979e-598a-4621-9b9b-089c2fe2a17e",
   "metadata": {},
   "outputs": [
    {
     "data": {
      "text/plain": [
       "tensor([[ 1.6143,  0.5116,  0.8156],\n",
       "        [ 0.4156, -0.9350,  0.4946]])"
      ]
     },
     "execution_count": 1,
     "metadata": {},
     "output_type": "execute_result"
    }
   ],
   "source": [
    "import torch\n",
    "data = torch.randn(2, 3)\n",
    "data"
   ]
  },
  {
   "cell_type": "code",
   "execution_count": 2,
   "id": "dfd5a628-62c8-42c7-9aef-532f8087b998",
   "metadata": {},
   "outputs": [
    {
     "data": {
      "text/plain": [
       "tensor([[ True, False,  True],\n",
       "        [False,  True, False]])"
      ]
     },
     "execution_count": 2,
     "metadata": {},
     "output_type": "execute_result"
    }
   ],
   "source": [
    "mask = torch.tensor([[True, False, True], [False, True, False]])\n",
    "mask"
   ]
  },
  {
   "cell_type": "code",
   "execution_count": 3,
   "id": "18793f3f-ab54-4ba8-90bc-4b957b1d95d1",
   "metadata": {},
   "outputs": [
    {
     "data": {
      "text/plain": [
       "tensor([[9.9900e+02, 5.1159e-01, 9.9900e+02],\n",
       "        [4.1559e-01, 9.9900e+02, 4.9458e-01]])"
      ]
     },
     "execution_count": 3,
     "metadata": {},
     "output_type": "execute_result"
    }
   ],
   "source": [
    "masked1 = data.masked_fill(mask, 999)\n",
    "masked1"
   ]
  },
  {
   "cell_type": "code",
   "execution_count": 4,
   "id": "b4bd73c3-70a5-42cb-88c0-a893f9a1d6ac",
   "metadata": {},
   "outputs": [
    {
     "data": {
      "text/plain": [
       "tensor([[ 1.6143,  0.5116,  0.8156],\n",
       "        [ 0.4156, -0.9350,  0.4946]])"
      ]
     },
     "execution_count": 4,
     "metadata": {},
     "output_type": "execute_result"
    }
   ],
   "source": [
    "data"
   ]
  },
  {
   "cell_type": "markdown",
   "id": "63120342-18b7-44c7-bbbc-a26eab637f4d",
   "metadata": {},
   "source": [
    "### masked_fill_(mask, value)"
   ]
  },
  {
   "cell_type": "code",
   "execution_count": 5,
   "id": "9063dc5e-058d-4026-becf-e89f960fb325",
   "metadata": {},
   "outputs": [
    {
     "data": {
      "text/plain": [
       "tensor([[ 1.6143,  0.5116,  0.8156],\n",
       "        [ 0.4156, -0.9350,  0.4946]])"
      ]
     },
     "execution_count": 5,
     "metadata": {},
     "output_type": "execute_result"
    }
   ],
   "source": [
    "data1 = data\n",
    "data1"
   ]
  },
  {
   "cell_type": "code",
   "execution_count": 6,
   "id": "f6404937-3335-422f-b4ad-fe2b09c6ea16",
   "metadata": {},
   "outputs": [
    {
     "data": {
      "text/plain": [
       "tensor([[9.9900e+02, 5.1159e-01, 9.9900e+02],\n",
       "        [4.1559e-01, 9.9900e+02, 4.9458e-01]])"
      ]
     },
     "execution_count": 6,
     "metadata": {},
     "output_type": "execute_result"
    }
   ],
   "source": [
    "masked2 = data1.masked_fill_(mask, 999)\n",
    "masked2"
   ]
  },
  {
   "cell_type": "code",
   "execution_count": 7,
   "id": "a2257e91-eb64-4453-b6c5-853a732a91ee",
   "metadata": {},
   "outputs": [
    {
     "data": {
      "text/plain": [
       "tensor([[9.9900e+02, 5.1159e-01, 9.9900e+02],\n",
       "        [4.1559e-01, 9.9900e+02, 4.9458e-01]])"
      ]
     },
     "execution_count": 7,
     "metadata": {},
     "output_type": "execute_result"
    }
   ],
   "source": [
    "data1"
   ]
  },
  {
   "cell_type": "markdown",
   "id": "60f5df35-a3fb-41cc-bee8-5c40b60c21dd",
   "metadata": {},
   "source": [
    "### -np.inf"
   ]
  },
  {
   "cell_type": "code",
   "execution_count": 8,
   "id": "bfcbfc76-72b7-4590-b80f-b9a50f1ba8f1",
   "metadata": {},
   "outputs": [
    {
     "data": {
      "text/plain": [
       "tensor([[  -inf, 0.5116,   -inf],\n",
       "        [0.4156,   -inf, 0.4946]])"
      ]
     },
     "execution_count": 8,
     "metadata": {},
     "output_type": "execute_result"
    }
   ],
   "source": [
    "import numpy as np\n",
    "masked3 = data.masked_fill(mask, -np.inf)\n",
    "masked3"
   ]
  },
  {
   "cell_type": "code",
   "execution_count": null,
   "id": "7eb32053-ebfd-4b07-a9b9-55ea4149edcb",
   "metadata": {},
   "outputs": [],
   "source": []
  }
 ],
 "metadata": {
  "kernelspec": {
   "display_name": "Python 3",
   "language": "python",
   "name": "python3"
  },
  "language_info": {
   "codemirror_mode": {
    "name": "ipython",
    "version": 3
   },
   "file_extension": ".py",
   "mimetype": "text/x-python",
   "name": "python",
   "nbconvert_exporter": "python",
   "pygments_lexer": "ipython3",
   "version": "3.8.5"
  }
 },
 "nbformat": 4,
 "nbformat_minor": 5
}
