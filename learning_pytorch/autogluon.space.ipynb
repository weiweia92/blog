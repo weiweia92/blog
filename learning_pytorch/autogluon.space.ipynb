{
 "cells": [
  {
   "cell_type": "code",
   "execution_count": 1,
   "metadata": {},
   "outputs": [
    {
     "name": "stderr",
     "output_type": "stream",
     "text": [
      "/home/weiweia92/anaconda3/lib/python3.7/site-packages/mxnet/optimizer/optimizer.py:167: UserWarning: WARNING: New optimizer gluonnlp.optimizer.lamb.LAMB is overriding existing optimizer mxnet.optimizer.optimizer.LAMB\n",
      "  Optimizer.opt_registry[name].__name__))\n"
     ]
    }
   ],
   "source": [
    "import numpy as np\n",
    "import autogluon as ag\n",
    "@ag.args(\n",
    "    lr=ag.space.Real(1e-3, 1e-2, log=True),\n",
    "     wd=ag.space.Real(1e-3, 1e-2))\n",
    "def train_fn(args, reporter):\n",
    "    print('lr: {}, wd: {}'.format(args.lr, args.wd))\n",
    "    for e in range(10):\n",
    "        dummy_accuracy = 1 - np.power(1.8, -np.random.uniform(e, 2*e))\n",
    "        reporter(epoch=e+1, accuracy=dummy_accuracy, lr=args.lr, wd=args.wd)"
   ]
  },
  {
   "cell_type": "markdown",
   "metadata": {},
   "source": [
    "**`ag.space.Real`**`(lower, upper,default=None,log=False)`:搜索连续值的超参数空间  \n",
    "\n",
    "`log`:是否用对数的方式而不是线性方式搜索值的大小，`lr`一般用对数的形式搜索设为`log=True`  \n",
    "\n",
    "**`ag.space.Int`**`(lower,upper,default=None)`:搜索整数值的超参数空间  \n",
    "**`ag.space.Bool`**:搜索True或False的超参数空间  \n",
    "`ag.Bool()` serves as shorthand for: `ag.space.Categorical(True, False)`"
   ]
  },
  {
   "cell_type": "code",
   "execution_count": 5,
   "metadata": {},
   "outputs": [],
   "source": [
    "pretrained = ag.space.Bool() #eg"
   ]
  },
  {
   "cell_type": "markdown",
   "metadata": {},
   "source": [
    "**`autogluon.space.Categorical(*data)`**"
   ]
  },
  {
   "cell_type": "code",
   "execution_count": 7,
   "metadata": {},
   "outputs": [],
   "source": [
    "a = ag.space.Categorical('a', 'b', 'c', 'd') "
   ]
  },
  {
   "cell_type": "code",
   "execution_count": 8,
   "metadata": {},
   "outputs": [
    {
     "data": {
      "text/plain": [
       "Categorical['a', 'b', 'c', 'd']"
      ]
     },
     "execution_count": 8,
     "metadata": {},
     "output_type": "execute_result"
    }
   ],
   "source": [
    "a"
   ]
  },
  {
   "cell_type": "code",
   "execution_count": 24,
   "metadata": {},
   "outputs": [
    {
     "ename": "SyntaxError",
     "evalue": "unexpected EOF while parsing (<ipython-input-24-ef142219916e>, line 6)",
     "output_type": "error",
     "traceback": [
      "\u001b[0;36m  File \u001b[0;32m\"<ipython-input-24-ef142219916e>\"\u001b[0;36m, line \u001b[0;32m6\u001b[0m\n\u001b[0;31m    )\u001b[0m\n\u001b[0m     ^\u001b[0m\n\u001b[0;31mSyntaxError\u001b[0m\u001b[0;31m:\u001b[0m unexpected EOF while parsing\n"
     ]
    }
   ],
   "source": [
    "import autogluon as ag\n",
    "from mxnet import optimizer as optim\n",
    "@ag.obj(\n",
    "     learning_rate=ag.space.Real(1e-4, 1e-1, log=True),\n",
    "     wd=ag.space.Real(1e-4, 1e-1),\n",
    ")"
   ]
  },
  {
   "cell_type": "code",
   "execution_count": 10,
   "metadata": {},
   "outputs": [],
   "source": [
    "b = ag.space.Categorical('resnet50', autogluon_obj())"
   ]
  },
  {
   "cell_type": "code",
   "execution_count": 11,
   "metadata": {
    "scrolled": true
   },
   "outputs": [
    {
     "data": {
      "text/plain": [
       "Categorical['resnet50']"
      ]
     },
     "execution_count": 11,
     "metadata": {},
     "output_type": "execute_result"
    }
   ],
   "source": [
    "b"
   ]
  },
  {
   "cell_type": "markdown",
   "metadata": {},
   "source": [
    "**`autogluon.space.List(*args)`**"
   ]
  },
  {
   "cell_type": "code",
   "execution_count": 12,
   "metadata": {},
   "outputs": [],
   "source": [
    "sequence = ag.List(\n",
    "    ag.space.Categorical('conv3x3', 'conv5x5', 'conv7x7'),\n",
    "    ag.space.Categorical('BatchNorm', 'InstanceNorm'),\n",
    "    ag.space.Categorical('relu', 'sigmoid'),\n",
    ")"
   ]
  },
  {
   "cell_type": "code",
   "execution_count": 13,
   "metadata": {},
   "outputs": [
    {
     "data": {
      "text/plain": [
       "List[Categorical['conv3x3', 'conv5x5', 'conv7x7'], Categorical['BatchNorm', 'InstanceNorm'], Categorical['relu', 'sigmoid']]"
      ]
     },
     "execution_count": 13,
     "metadata": {},
     "output_type": "execute_result"
    }
   ],
   "source": [
    "sequence"
   ]
  },
  {
   "cell_type": "markdown",
   "metadata": {},
   "source": [
    "**`autogluon.space.Dict(*\\*\\kwargs)`**"
   ]
  },
  {
   "cell_type": "code",
   "execution_count": 14,
   "metadata": {},
   "outputs": [
    {
     "name": "stdout",
     "output_type": "stream",
     "text": [
      "Dict{'hyperparam1': Categorical['alpha', 'beta'], 'hyperparam2': Int: lower=0, upper=3}\n"
     ]
    }
   ],
   "source": [
    "g = ag.space.Dict(\n",
    "    hyperparam1 = ag.space.Categorical('alpha', 'beta'),\n",
    "    hyperparam2 = ag.space.Int(0, 3)\n",
    ")\n",
    "print(g)"
   ]
  },
  {
   "cell_type": "code",
   "execution_count": 15,
   "metadata": {},
   "outputs": [],
   "source": [
    "import autogluon as ag\n",
    "@ag.obj(\n",
    "        name=ag.space.Categorical('auto', 'gluon'),\n",
    "        idx=ag.space.Int(0, 100),\n",
    ")\n",
    "\n",
    "class myobj:\n",
    "    def __init__(self, name, idx):\n",
    "        self.name = name\n",
    "        self.idx = idx\n",
    "\n",
    "@ag.func(framework=ag.space.Categorical('mxnet', 'pytorch'))\n",
    "def myfunc(framework):\n",
    "    return framework"
   ]
  },
  {
   "cell_type": "code",
   "execution_count": null,
   "metadata": {},
   "outputs": [],
   "source": []
  },
  {
   "cell_type": "code",
   "execution_count": 2,
   "metadata": {},
   "outputs": [],
   "source": [
    "scheduler = ag.scheduler.HyperbandScheduler(train_fn,\n",
    "                                            resource={'num_cpus': 2, 'num_gpus': 0},\n",
    "                                            num_trials=10,\n",
    "                                            reward_attr='accuracy',\n",
    "                                            time_attr='epoch',\n",
    "                                            grace_period=1)\n",
    "scheduler.join_jobs()\n",
    "scheduler.join_jobs()"
   ]
  },
  {
   "cell_type": "code",
   "execution_count": 3,
   "metadata": {},
   "outputs": [
    {
     "name": "stderr",
     "output_type": "stream",
     "text": [
      "No handles with labels found to put in legend.\n"
     ]
    },
    {
     "data": {
      "image/png": "[encoded data removed]",
      "text/plain": [
       "<Figure size 432x288 with 1 Axes>"
      ]
     },
     "metadata": {
      "needs_background": "light"
     },
     "output_type": "display_data"
    }
   ],
   "source": [
    "scheduler.get_training_curves(plot=True)"
   ]
  },
  {
   "cell_type": "markdown",
   "metadata": {},
   "source": []
  }
 ],
 "metadata": {
  "kernelspec": {
   "display_name": "Python 3",
   "language": "python",
   "name": "python3"
  },
  "language_info": {
   "codemirror_mode": {
    "name": "ipython",
    "version": 3
   },
   "file_extension": ".py",
   "mimetype": "text/x-python",
   "name": "python",
   "nbconvert_exporter": "python",
   "pygments_lexer": "ipython3",
   "version": "3.7.6"
  }
 },
 "nbformat": 4,
 "nbformat_minor": 4
}
