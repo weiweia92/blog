{
 "cells": [
  {
   "cell_type": "markdown",
   "id": "acd7d54b-6083-49fe-af22-66f8b3feb9ba",
   "metadata": {},
   "source": [
    "# Lesson1. Tensor(张量)的创建和常用方法\n",
    "\n",
    "在实际使用PyTorch的过程中，张量对象是我们操作的基本数据类型。\n",
    "\n",
    "很多时候，在我们没有特别说明什么是深度学习计算框架的时候，我们可以把PyTorch简单看成是Python的深度学习第三方库，在PyTorch中定义了适用于深度学习的基本数据结构——张量，以及张量的各类计算。其实也就相当于NumPy中定义的Array和对应的科学计算方法，正是这些基本数据类型和对应的方法函数，为我们进一步在PyTorch上进行深度学习建模提供了基本对象和基本工具。因此，在正式使用PyTorch进行深度学习建模之前，我们需要熟练掌握PyTorch张量的基本操作。\n",
    "\n",
    "当然，值得一提的是，张量概念并不是PyTorch独有的，目前看来，基本上通用的深度学习框架都拥有张量这一类数据结构，但不同的深度学习框架中张量的定义和使用方法略有差别。而张量作为数组的衍生概念，其本身的定义和使用方法和NumPy中的Array非常相似，甚至，在复现一些简单的神经网络算法场景中，我们可以直接受用NumPy中的Array来进行操作。当然，并不鼓励大家使用NumPy进行深度学习，因为毕竟NumPy中的Array只提供了很多基本功能，写简单的神经网络尚可，写更复杂的神经网络则会非常复杂，并且Array数据结构本身也不支持GPU运行，因此无法应对工业场景中复杂神经网络背后的大规模数值运算。我们需要知道，工具的差异只会影响实现层的具体表现，因此一方面，我们在学习的过程中，不妨对照NumPy中的Array进行学习，另一方面，我们更需要透过工具的具体功能，来理解和体会背后更深层次的数学原理和算法思想。"
   ]
  },
  {
   "cell_type": "code",
   "execution_count": null,
   "id": "c6e4b41b-abfc-4d3a-9ba6-bcef0759ad6c",
   "metadata": {},
   "outputs": [],
   "source": [
    "import torch"
   ]
  },
  {
   "cell_type": "code",
   "execution_count": 2,
   "id": "520c3e11-3ede-4580-80ce-fe1218564dc3",
   "metadata": {},
   "outputs": [
    {
     "data": {
      "text/plain": [
       "'1.8.1'"
      ]
     },
     "execution_count": 2,
     "metadata": {},
     "output_type": "execute_result"
    }
   ],
   "source": [
    "torch.__version__"
   ]
  },
  {
   "cell_type": "markdown",
   "id": "8fb7ce70-9055-4776-84f0-94f19e2da482",
   "metadata": {},
   "source": [
    "## 一.张量(Tensor)函数创建方法\n",
    "\n",
    "张量的最基本创建方法和NumPy中创建Array的格式一致\n",
    "\n",
    "张量创建函数:`torch.tensor()`   ()内需要是序列-->序列包括列表和元组"
   ]
  },
  {
   "cell_type": "code",
   "execution_count": 4,
   "id": "060e5b3a-195c-4665-838f-2e83db8684c5",
   "metadata": {},
   "outputs": [
    {
     "data": {
      "text/plain": [
       "tensor([1, 2])"
      ]
     },
     "execution_count": 4,
     "metadata": {},
     "output_type": "execute_result"
    }
   ],
   "source": [
    "t = torch.tensor([1, 2]) #通过列表创建张量\n",
    "t"
   ]
  },
  {
   "cell_type": "code",
   "execution_count": 5,
   "id": "b3559059-612d-4637-b62b-47066a9194cf",
   "metadata": {},
   "outputs": [
    {
     "data": {
      "text/plain": [
       "tensor([1, 2])"
      ]
     },
     "execution_count": 5,
     "metadata": {},
     "output_type": "execute_result"
    }
   ],
   "source": [
    "#通过元祖创建张量\n",
    "torch.tensor((1, 2))"
   ]
  },
  {
   "cell_type": "code",
   "execution_count": 8,
   "id": "6f51ae02-62db-41e1-b204-4af27749e7cd",
   "metadata": {},
   "outputs": [
    {
     "data": {
      "text/plain": [
       "array([1, 2])"
      ]
     },
     "execution_count": 8,
     "metadata": {},
     "output_type": "execute_result"
    }
   ],
   "source": [
    "import numpy as np\n",
    "a = np.array((1, 2)) #也可以通过元组或列表创建Array\n",
    "a"
   ]
  },
  {
   "cell_type": "code",
   "execution_count": 9,
   "id": "9d83541e-04f2-4ce1-a3d3-369a7bca3a32",
   "metadata": {},
   "outputs": [
    {
     "data": {
      "text/plain": [
       "array([1, 2])"
      ]
     },
     "execution_count": 9,
     "metadata": {},
     "output_type": "execute_result"
    }
   ],
   "source": [
    "b = np.array([1, 2])\n",
    "b"
   ]
  },
  {
   "cell_type": "code",
   "execution_count": 10,
   "id": "4eef4d8c-2401-4272-9682-157ea53b161a",
   "metadata": {},
   "outputs": [
    {
     "data": {
      "text/plain": [
       "tensor([1, 2])"
      ]
     },
     "execution_count": 10,
     "metadata": {},
     "output_type": "execute_result"
    }
   ],
   "source": [
    "#通过数组创建张量\n",
    "t1 = torch.tensor(a)\n",
    "t1"
   ]
  },
  {
   "cell_type": "code",
   "execution_count": 11,
   "id": "23db382d-ae4f-4e37-ac37-ac5a44565450",
   "metadata": {},
   "outputs": [
    {
     "data": {
      "text/plain": [
       "torch.Tensor"
      ]
     },
     "execution_count": 11,
     "metadata": {},
     "output_type": "execute_result"
    }
   ],
   "source": [
    "type(t)"
   ]
  },
  {
   "cell_type": "code",
   "execution_count": 12,
   "id": "2d2d4a62-8086-45d5-8d26-faeb6d86973b",
   "metadata": {},
   "outputs": [
    {
     "data": {
      "text/plain": [
       "torch.Tensor"
      ]
     },
     "execution_count": 12,
     "metadata": {},
     "output_type": "execute_result"
    }
   ],
   "source": [
    "type(t1)   #type只能区分到tensor级，再往下需要dtype"
   ]
  },
  {
   "cell_type": "code",
   "execution_count": 14,
   "id": "17e47ca7-3a48-4b0c-8236-629c33e3a2e1",
   "metadata": {},
   "outputs": [
    {
     "data": {
      "text/plain": [
       "torch.int64"
      ]
     },
     "execution_count": 14,
     "metadata": {},
     "output_type": "execute_result"
    }
   ],
   "source": [
    "t.dtype   #64位整数型张量对象"
   ]
  },
  {
   "cell_type": "code",
   "execution_count": 16,
   "id": "41caae3f-9ef1-45c0-8923-5c080b81c183",
   "metadata": {},
   "outputs": [
    {
     "data": {
      "text/plain": [
       "dtype('int64')"
      ]
     },
     "execution_count": 16,
     "metadata": {},
     "output_type": "execute_result"
    }
   ],
   "source": [
    "a.dtype   #64位整数数组对象"
   ]
  },
  {
   "cell_type": "code",
   "execution_count": 17,
   "id": "8675bd2d-ee8a-442c-8259-fd1d40296f02",
   "metadata": {},
   "outputs": [
    {
     "data": {
      "text/plain": [
       "dtype('float64')"
      ]
     },
     "execution_count": 17,
     "metadata": {},
     "output_type": "execute_result"
    }
   ],
   "source": [
    "np.array([1.1, 2.2]).dtype"
   ]
  },
  {
   "cell_type": "code",
   "execution_count": 23,
   "id": "de83145a-10c4-498e-aa53-ce6dd8b76ad0",
   "metadata": {},
   "outputs": [
    {
     "data": {
      "text/plain": [
       "torch.float64"
      ]
     },
     "execution_count": 23,
     "metadata": {},
     "output_type": "execute_result"
    }
   ],
   "source": [
    "torch.tensor(np.array([1.11, 2.2])).dtype"
   ]
  },
  {
   "cell_type": "code",
   "execution_count": 19,
   "id": "68674112-6fcc-4522-ba2e-76697f26b0b0",
   "metadata": {},
   "outputs": [
    {
     "data": {
      "text/plain": [
       "tensor([ True, False])"
      ]
     },
     "execution_count": 19,
     "metadata": {},
     "output_type": "execute_result"
    }
   ],
   "source": [
    "t2 = torch.tensor([True, False])   #布尔型张量\n",
    "t2 "
   ]
  },
  {
   "cell_type": "code",
   "execution_count": 20,
   "id": "e8152315-47e2-4b11-9482-e0d6616f7df5",
   "metadata": {},
   "outputs": [
    {
     "data": {
      "text/plain": [
       "torch.bool"
      ]
     },
     "execution_count": 20,
     "metadata": {},
     "output_type": "execute_result"
    }
   ],
   "source": [
    "t2.dtype"
   ]
  },
  {
   "cell_type": "markdown",
   "id": "22fcaa0d-34b9-4b84-914e-29cadce898c9",
   "metadata": {},
   "source": [
    "通过dtype参数，在创建张量过程中设置输出结果。"
   ]
  },
  {
   "cell_type": "code",
   "execution_count": 21,
   "id": "9c9e5b83-34c6-4492-96cc-99c48ef75e9b",
   "metadata": {},
   "outputs": [
    {
     "name": "stderr",
     "output_type": "stream",
     "text": [
      "<ipython-input-21-2295c7a7075c>:2: DeprecationWarning: an integer is required (got type float).  Implicit conversion to integers using __int__ is deprecated, and may be removed in a future version of Python.\n",
      "  torch.tensor([1.1, 2.1], dtype=torch.int16)\n"
     ]
    },
    {
     "data": {
      "text/plain": [
       "tensor([1, 2], dtype=torch.int16)"
      ]
     },
     "execution_count": 21,
     "metadata": {},
     "output_type": "execute_result"
    }
   ],
   "source": [
    "# 创建int16整数型张量\n",
    "torch.tensor([1.1, 2.1], dtype=torch.int16)"
   ]
  },
  {
   "cell_type": "code",
   "execution_count": 22,
   "id": "223e3edd-45a3-4e9d-8e69-aabdca465120",
   "metadata": {},
   "outputs": [
    {
     "data": {
      "text/plain": [
       "tensor(1.+2.j)"
      ]
     },
     "execution_count": 22,
     "metadata": {},
     "output_type": "execute_result"
    }
   ],
   "source": [
    "a = torch.tensor(1 + 2j)  # 复数\n",
    "a"
   ]
  },
  {
   "cell_type": "markdown",
   "id": "9773e09f-5268-42bf-8565-585064018150",
   "metadata": {},
   "source": [
    "## 二.张量类型的转化\n",
    "\n",
    "* 张量类型的隐式转化\n",
    "\n",
    "和Numpy中Array相同，当张量各元素属于不同类型时，系统会自动进行隐式转化"
   ]
  },
  {
   "cell_type": "code",
   "execution_count": 24,
   "id": "2da2ad12-ed41-4a4c-a223-502dc45f6ba9",
   "metadata": {},
   "outputs": [
    {
     "data": {
      "text/plain": [
       "torch.float32"
      ]
     },
     "execution_count": 24,
     "metadata": {},
     "output_type": "execute_result"
    }
   ],
   "source": [
    "# 浮点型和整数型的隐式转化\n",
    "torch.tensor([1.1, 2]).dtype"
   ]
  },
  {
   "cell_type": "code",
   "execution_count": 25,
   "id": "e04e5f77-ffa0-49b8-b938-7a670296dd0b",
   "metadata": {},
   "outputs": [
    {
     "data": {
      "text/plain": [
       "tensor([1., 2.])"
      ]
     },
     "execution_count": 25,
     "metadata": {},
     "output_type": "execute_result"
    }
   ],
   "source": [
    "# 布尔型和数值型的隐式转化\n",
    "torch.tensor([True, 2.0])"
   ]
  },
  {
   "cell_type": "markdown",
   "id": "5d6f4eec-fdd8-41a7-b44f-89e9f942eda2",
   "metadata": {},
   "source": [
    "* 张量类型的转化方法\n",
    "\n",
    "当然我们还可以使用`.float()`和`.int()`等方法对张量类型进行转化。\n",
    "\n",
    "**注**：这样的转化是不会改变原来的数据类型的"
   ]
  },
  {
   "cell_type": "code",
   "execution_count": 26,
   "id": "8a9bce4a-a0c6-46a8-acd6-2531c691d8ec",
   "metadata": {},
   "outputs": [
    {
     "data": {
      "text/plain": [
       "tensor([1, 2])"
      ]
     },
     "execution_count": 26,
     "metadata": {},
     "output_type": "execute_result"
    }
   ],
   "source": [
    "t"
   ]
  },
  {
   "cell_type": "code",
   "execution_count": 27,
   "id": "05436434-270e-4b94-8e53-8d489b752c2d",
   "metadata": {},
   "outputs": [
    {
     "data": {
      "text/plain": [
       "tensor([1., 2.])"
      ]
     },
     "execution_count": 27,
     "metadata": {},
     "output_type": "execute_result"
    }
   ],
   "source": [
    "t.float()"
   ]
  },
  {
   "cell_type": "code",
   "execution_count": 28,
   "id": "ce3f4634-9d1c-4a4c-a654-3724c4e8ae57",
   "metadata": {},
   "outputs": [
    {
     "data": {
      "text/plain": [
       "tensor([1., 2.], dtype=torch.float64)"
      ]
     },
     "execution_count": 28,
     "metadata": {},
     "output_type": "execute_result"
    }
   ],
   "source": [
    "# 转化为双精度浮点型\n",
    "t.double()  "
   ]
  },
  {
   "cell_type": "code",
   "execution_count": 30,
   "id": "44c0ecdb-405a-48ae-a55b-3580938b1aa7",
   "metadata": {},
   "outputs": [
    {
     "data": {
      "text/plain": [
       "torch.int64"
      ]
     },
     "execution_count": 30,
     "metadata": {},
     "output_type": "execute_result"
    }
   ],
   "source": [
    "t.dtype   # 不会改变原来的数据类型"
   ]
  },
  {
   "cell_type": "code",
   "execution_count": 31,
   "id": "f9fb5a13-5b16-4b26-b71d-8c7eceb07a12",
   "metadata": {},
   "outputs": [
    {
     "data": {
      "text/plain": [
       "tensor([1, 2], dtype=torch.int16)"
      ]
     },
     "execution_count": 31,
     "metadata": {},
     "output_type": "execute_result"
    }
   ],
   "source": [
    "# 转化为16位整数\n",
    "t.short()"
   ]
  },
  {
   "cell_type": "markdown",
   "id": "58b141a4-96b4-41e7-9e0d-07f8daefe1aa",
   "metadata": {},
   "source": [
    "**由于torch中张量的特殊性(即会把tensor存到GPU上)，因此对于浮点型和整型要比之前的Python的任何原生对象要敏感。对于很多函数来说，对于整数是不支持代入运算的，甚至不会在运算中把整数转化为浮点数。**\n",
    "\n",
    "对于原生对象可能会存在隐式转换，自动转换类型，但是tensor则不行，需要我们手动转换类型。\n",
    "\n",
    "## 三.张量的维度和形变\n",
    "\n",
    "张量作为一组数的结构化表示，也同样拥有维度的概念。简单理解，向量是一维数组，矩阵则是二维数组，以此类推，在张量中，我们可以定义更高维度的数组。当然，张量的高维度数组和NumPy中的高维Array概念类似。\n",
    "\n",
    "### 1.创建高维张量\n",
    "\n",
    "* 用简单序列创建一维数组\n",
    "\n",
    "包含“简单”元素的序列可创建一维数组。"
   ]
  },
  {
   "cell_type": "code",
   "execution_count": 32,
   "id": "6420e705-a533-44c6-9847-19f160276476",
   "metadata": {},
   "outputs": [
    {
     "data": {
      "text/plain": [
       "tensor([1, 2])"
      ]
     },
     "execution_count": 32,
     "metadata": {},
     "output_type": "execute_result"
    }
   ],
   "source": [
    "t1"
   ]
  },
  {
   "cell_type": "code",
   "execution_count": 33,
   "id": "d3f77d4e-3900-4719-b10f-aea5ce12f641",
   "metadata": {},
   "outputs": [
    {
     "data": {
      "text/plain": [
       "1"
      ]
     },
     "execution_count": 33,
     "metadata": {},
     "output_type": "execute_result"
    }
   ],
   "source": [
    "t1.ndim # 查看张量维度"
   ]
  },
  {
   "cell_type": "code",
   "execution_count": 34,
   "id": "90c771d2-c010-4a53-99db-aa048603b2f2",
   "metadata": {},
   "outputs": [
    {
     "data": {
      "text/plain": [
       "torch.Size([2])"
      ]
     },
     "execution_count": 34,
     "metadata": {},
     "output_type": "execute_result"
    }
   ],
   "source": [
    "t1.shape #查看形状  torch.Size([2])表示包含两个元素的张量"
   ]
  },
  {
   "cell_type": "code",
   "execution_count": 36,
   "id": "ebf41743-2ee7-4850-ad66-f1cc91a362db",
   "metadata": {},
   "outputs": [
    {
     "data": {
      "text/plain": [
       "torch.Size([2])"
      ]
     },
     "execution_count": 36,
     "metadata": {},
     "output_type": "execute_result"
    }
   ],
   "source": [
    "t1.size()  #和shape函数相同"
   ]
  },
  {
   "cell_type": "code",
   "execution_count": 37,
   "id": "3eeaf977-ff27-4fca-8884-6e82dd8f6774",
   "metadata": {},
   "outputs": [
    {
     "data": {
      "text/plain": [
       "2"
      ]
     },
     "execution_count": 37,
     "metadata": {},
     "output_type": "execute_result"
    }
   ],
   "source": [
    "# 返回拥有几个(N-1)维元素\n",
    "len(t1)"
   ]
  },
  {
   "cell_type": "code",
   "execution_count": 38,
   "id": "41166377-fa3c-4e22-9548-e04105d77a35",
   "metadata": {},
   "outputs": [
    {
     "data": {
      "text/plain": [
       "2"
      ]
     },
     "execution_count": 38,
     "metadata": {},
     "output_type": "execute_result"
    }
   ],
   "source": [
    "# 返回总共拥有几个数\n",
    "t1.numel()"
   ]
  },
  {
   "cell_type": "markdown",
   "id": "8632ef1a-6fe2-47ac-b905-2175113a4446",
   "metadata": {},
   "source": [
    "**注：** 一维张量`len`和`numel`返回结果相同，但更高维度张量则不然。\n",
    "\n",
    "* 用‘序列’的‘序列’创建二维数组\n",
    "\n",
    "以此类推，我们还可以用形状相同的序列组成一个新的序列，进而将其转化为二维张量。"
   ]
  },
  {
   "cell_type": "code",
   "execution_count": 39,
   "id": "21bc2594-db5d-44fe-b51c-f059e4556e0e",
   "metadata": {},
   "outputs": [],
   "source": [
    "# 用list的list创建二维张量\n",
    "t2 = torch.tensor([[1, 2], [3, 4]])"
   ]
  },
  {
   "cell_type": "code",
   "execution_count": 40,
   "id": "3f3554d4-b433-43ce-a4db-dd57c232088f",
   "metadata": {},
   "outputs": [
    {
     "data": {
      "text/plain": [
       "tensor([[1, 2],\n",
       "        [3, 4]])"
      ]
     },
     "execution_count": 40,
     "metadata": {},
     "output_type": "execute_result"
    }
   ],
   "source": [
    "t2  # 二维张量可以等价于矩阵张量，但是numpy中array则不可以，因为他有np.matrix"
   ]
  },
  {
   "cell_type": "code",
   "execution_count": 41,
   "id": "0d3b5cf9-cab3-4f57-af91-5e80e7c0ce95",
   "metadata": {},
   "outputs": [
    {
     "data": {
      "text/plain": [
       "2"
      ]
     },
     "execution_count": 41,
     "metadata": {},
     "output_type": "execute_result"
    }
   ],
   "source": [
    "t2.ndim"
   ]
  },
  {
   "cell_type": "code",
   "execution_count": 42,
   "id": "f4724c00-e4dc-412d-a0ef-ec8bd48cca18",
   "metadata": {},
   "outputs": [
    {
     "data": {
      "text/plain": [
       "torch.Size([2, 2])"
      ]
     },
     "execution_count": 42,
     "metadata": {},
     "output_type": "execute_result"
    }
   ],
   "source": [
    "t2.shape"
   ]
  },
  {
   "cell_type": "code",
   "execution_count": 44,
   "id": "c8353564-8608-4c9e-a0dd-5d94b7fb7e99",
   "metadata": {},
   "outputs": [
    {
     "data": {
      "text/plain": [
       "torch.Size([2, 2])"
      ]
     },
     "execution_count": 44,
     "metadata": {},
     "output_type": "execute_result"
    }
   ],
   "source": [
    "t2.size()"
   ]
  },
  {
   "cell_type": "code",
   "execution_count": 45,
   "id": "ed62d5e8-cb48-4924-932e-110a3642e04f",
   "metadata": {},
   "outputs": [
    {
     "data": {
      "text/plain": [
       "2"
      ]
     },
     "execution_count": 45,
     "metadata": {},
     "output_type": "execute_result"
    }
   ],
   "source": [
    "len(t2)  #此处len函数返回结果代表t2由两个1维张量构成"
   ]
  },
  {
   "cell_type": "code",
   "execution_count": 46,
   "id": "f184e2b1-1fea-486c-aff2-c9fc183cb069",
   "metadata": {},
   "outputs": [
    {
     "data": {
      "text/plain": [
       "2"
      ]
     },
     "execution_count": 46,
     "metadata": {},
     "output_type": "execute_result"
    }
   ],
   "source": [
    "len([[1, 2], [3, 4]])"
   ]
  },
  {
   "cell_type": "code",
   "execution_count": 47,
   "id": "e3ad967c-bfb7-40ee-a3d3-8960453d553d",
   "metadata": {},
   "outputs": [
    {
     "data": {
      "text/plain": [
       "4"
      ]
     },
     "execution_count": 47,
     "metadata": {},
     "output_type": "execute_result"
    }
   ],
   "source": [
    "t2.numel()  # 此处numel方法返回的结果表示t2总共由4个数构成"
   ]
  },
  {
   "cell_type": "markdown",
   "id": "bdc5d8e8-07f1-4cff-a7a6-93f1351201a0",
   "metadata": {},
   "source": [
    "* “零”维张量\n",
    "\n",
    "在PyTorch中，还有一类特殊的张量，被称为零维张量。该类型张量只包含一个元素，但又不是单独一个数。"
   ]
  },
  {
   "cell_type": "code",
   "execution_count": 49,
   "id": "561e2d6c-c15e-44d2-a180-940d0bef233f",
   "metadata": {},
   "outputs": [
    {
     "data": {
      "text/plain": [
       "tensor([1])"
      ]
     },
     "execution_count": 49,
     "metadata": {},
     "output_type": "execute_result"
    }
   ],
   "source": [
    "t0 = torch.tensor([1])  #向量\n",
    "t0  #一维张量"
   ]
  },
  {
   "cell_type": "code",
   "execution_count": 54,
   "id": "b58a8547-a5d3-4a75-adc5-4317e3b358e4",
   "metadata": {},
   "outputs": [
    {
     "data": {
      "text/plain": [
       "1"
      ]
     },
     "execution_count": 54,
     "metadata": {},
     "output_type": "execute_result"
    }
   ],
   "source": [
    "t0.ndim"
   ]
  },
  {
   "cell_type": "code",
   "execution_count": 55,
   "id": "5ae3b19b-5dab-44b0-a609-f637c6f446ca",
   "metadata": {},
   "outputs": [
    {
     "data": {
      "text/plain": [
       "torch.Size([1])"
      ]
     },
     "execution_count": 55,
     "metadata": {},
     "output_type": "execute_result"
    }
   ],
   "source": [
    "t0.shape"
   ]
  },
  {
   "cell_type": "code",
   "execution_count": 56,
   "id": "f1292501-263e-40b0-9d9f-d6974729fec9",
   "metadata": {},
   "outputs": [
    {
     "data": {
      "text/plain": [
       "torch.Size([1])"
      ]
     },
     "execution_count": 56,
     "metadata": {},
     "output_type": "execute_result"
    }
   ],
   "source": [
    "t0.size()"
   ]
  },
  {
   "cell_type": "code",
   "execution_count": 50,
   "id": "dd3c66b8-02c1-4fcd-a7d9-017259ffba36",
   "metadata": {},
   "outputs": [
    {
     "data": {
      "text/plain": [
       "tensor(1)"
      ]
     },
     "execution_count": 50,
     "metadata": {},
     "output_type": "execute_result"
    }
   ],
   "source": [
    "t = torch.tensor(1)  #标量\n",
    "t  #零维张量"
   ]
  },
  {
   "cell_type": "code",
   "execution_count": 51,
   "id": "6a552c48-50c2-404f-b2ed-f93968b6eca2",
   "metadata": {},
   "outputs": [
    {
     "data": {
      "text/plain": [
       "0"
      ]
     },
     "execution_count": 51,
     "metadata": {},
     "output_type": "execute_result"
    }
   ],
   "source": [
    "t.ndim"
   ]
  },
  {
   "cell_type": "code",
   "execution_count": 52,
   "id": "e93f012d-9e4d-4e89-8dd5-a9fda885c442",
   "metadata": {},
   "outputs": [
    {
     "data": {
      "text/plain": [
       "torch.Size([])"
      ]
     },
     "execution_count": 52,
     "metadata": {},
     "output_type": "execute_result"
    }
   ],
   "source": [
    "t.shape"
   ]
  },
  {
   "cell_type": "code",
   "execution_count": 53,
   "id": "1474f7bb-e615-4dc5-83b1-5686ffbe83cc",
   "metadata": {},
   "outputs": [
    {
     "data": {
      "text/plain": [
       "torch.Size([])"
      ]
     },
     "execution_count": 53,
     "metadata": {},
     "output_type": "execute_result"
    }
   ],
   "source": [
    "t.size()"
   ]
  },
  {
   "cell_type": "code",
   "execution_count": 57,
   "id": "9a0144e9-d2ee-454b-9a66-f97c64e7b8c8",
   "metadata": {},
   "outputs": [
    {
     "data": {
      "text/plain": [
       "1"
      ]
     },
     "execution_count": 57,
     "metadata": {},
     "output_type": "execute_result"
    }
   ],
   "source": [
    "t.numel()"
   ]
  },
  {
   "cell_type": "markdown",
   "id": "f9c831f2-fa4e-40a9-9ab6-38fd55486399",
   "metadata": {},
   "source": [
    "**理解零维张量：**\n",
    "\n",
    "目前，我们将零维张量视为拥有张量属性的单独一个数。（例如，张量可以存在GPU上，但Python原生数值型对象不行，但零维张量可以，尽管时零维）\n",
    "\n",
    "从学术名称来说，Python中单独一个数是scalars(标量)，而零维张量则是tensor。\n",
    "\n",
    "* 高维张量\n",
    "\n",
    "一般来说，三维及三维以上的张量，我们就将其称为高维张量。当然，在高维张量中最常见的就是三维张量。我们可以将其理解为二维数组或矩阵的集合。"
   ]
  },
  {
   "cell_type": "code",
   "execution_count": 58,
   "id": "7a451d0c-00cc-42be-869d-146865031d51",
   "metadata": {},
   "outputs": [
    {
     "data": {
      "text/plain": [
       "array([[1, 2, 2],\n",
       "       [3, 4, 4]])"
      ]
     },
     "execution_count": 58,
     "metadata": {},
     "output_type": "execute_result"
    }
   ],
   "source": [
    "a1 = np.array([[1, 2, 2], [3, 4, 4]])\n",
    "a1  "
   ]
  },
  {
   "cell_type": "code",
   "execution_count": 59,
   "id": "e782375d-f9f6-4e7d-9078-8d4bf9621c8c",
   "metadata": {},
   "outputs": [
    {
     "data": {
      "text/plain": [
       "array([[5, 6, 6],\n",
       "       [7, 8, 8]])"
      ]
     },
     "execution_count": 59,
     "metadata": {},
     "output_type": "execute_result"
    }
   ],
   "source": [
    "a2 = np.array([[5, 6, 6], [7, 8, 8]])\n",
    "a2 "
   ]
  },
  {
   "cell_type": "code",
   "execution_count": 60,
   "id": "0addfbed-ba2f-4d45-9f71-f8c245980001",
   "metadata": {},
   "outputs": [
    {
     "data": {
      "text/plain": [
       "tensor([[[1, 2, 2],\n",
       "         [3, 4, 4]],\n",
       "\n",
       "        [[5, 6, 6],\n",
       "         [7, 8, 8]]])"
      ]
     },
     "execution_count": 60,
     "metadata": {},
     "output_type": "execute_result"
    }
   ],
   "source": [
    "# 由两个形状相同的二维数组创建一个三维张量\n",
    "t3 = torch.tensor([a1, a2])\n",
    "t3"
   ]
  },
  {
   "cell_type": "code",
   "execution_count": 61,
   "id": "5b3e89cc-e1ec-4ea2-ac18-0bc10112942c",
   "metadata": {},
   "outputs": [
    {
     "data": {
      "text/plain": [
       "3"
      ]
     },
     "execution_count": 61,
     "metadata": {},
     "output_type": "execute_result"
    }
   ],
   "source": [
    "t3.ndim"
   ]
  },
  {
   "cell_type": "code",
   "execution_count": 62,
   "id": "1d6e903a-30ed-4f6f-8f93-ace5a49ac01a",
   "metadata": {},
   "outputs": [
    {
     "data": {
      "text/plain": [
       "torch.Size([2, 2, 3])"
      ]
     },
     "execution_count": 62,
     "metadata": {},
     "output_type": "execute_result"
    }
   ],
   "source": [
    "t3.shape  # 包含两个，两行三列矩阵的张量"
   ]
  },
  {
   "cell_type": "code",
   "execution_count": 63,
   "id": "9d02393b-9d71-49d3-9ae0-682333014f01",
   "metadata": {},
   "outputs": [
    {
     "data": {
      "text/plain": [
       "2"
      ]
     },
     "execution_count": 63,
     "metadata": {},
     "output_type": "execute_result"
    }
   ],
   "source": [
    "len(t3)"
   ]
  },
  {
   "cell_type": "code",
   "execution_count": 64,
   "id": "ea113f6f-2243-4952-9bce-74915c116908",
   "metadata": {},
   "outputs": [
    {
     "data": {
      "text/plain": [
       "12"
      ]
     },
     "execution_count": 64,
     "metadata": {},
     "output_type": "execute_result"
    }
   ],
   "source": [
    "t3.numel()"
   ]
  },
  {
   "cell_type": "markdown",
   "id": "bc95dfb2-7cf6-4c1c-9e91-0f62d51adc50",
   "metadata": {},
   "source": [
    "当然，N维张量的创建方法，我们可以先创建M个N-1维的数组，然后将其拼成一个N维的张量。\n",
    "\n",
    "### 2.张量的形变\n",
    "\n",
    "#### 2.1 flatten拉平：将任意维度张量转化成一维张量 "
   ]
  },
  {
   "cell_type": "code",
   "execution_count": 65,
   "id": "cd140f56-469d-4cd5-839f-36c41fa8577b",
   "metadata": {},
   "outputs": [
    {
     "data": {
      "text/plain": [
       "tensor([[1, 2],\n",
       "        [3, 4]])"
      ]
     },
     "execution_count": 65,
     "metadata": {},
     "output_type": "execute_result"
    }
   ],
   "source": [
    "t2"
   ]
  },
  {
   "cell_type": "code",
   "execution_count": 66,
   "id": "5108047d-7354-424c-a271-2e01bca1260d",
   "metadata": {},
   "outputs": [
    {
     "data": {
      "text/plain": [
       "tensor([1, 2, 3, 4])"
      ]
     },
     "execution_count": 66,
     "metadata": {},
     "output_type": "execute_result"
    }
   ],
   "source": [
    "t2.flatten()  # 按行排列，拉平"
   ]
  },
  {
   "cell_type": "code",
   "execution_count": 67,
   "id": "e5412b87-5b70-4fb3-a5ea-03d351824112",
   "metadata": {},
   "outputs": [
    {
     "data": {
      "text/plain": [
       "tensor([[[1, 2, 2],\n",
       "         [3, 4, 4]],\n",
       "\n",
       "        [[5, 6, 6],\n",
       "         [7, 8, 8]]])"
      ]
     },
     "execution_count": 67,
     "metadata": {},
     "output_type": "execute_result"
    }
   ],
   "source": [
    "t3"
   ]
  },
  {
   "cell_type": "code",
   "execution_count": 68,
   "id": "8c80e332-9d00-4b0b-aac7-0b244db4f419",
   "metadata": {},
   "outputs": [
    {
     "data": {
      "text/plain": [
       "tensor([1, 2, 2, 3, 4, 4, 5, 6, 6, 7, 8, 8])"
      ]
     },
     "execution_count": 68,
     "metadata": {},
     "output_type": "execute_result"
    }
   ],
   "source": [
    "t3.flatten()"
   ]
  },
  {
   "cell_type": "markdown",
   "id": "b58fe745-c991-473d-8143-d2ed5609c0f4",
   "metadata": {},
   "source": [
    "**注：如果将零维张量flatten,则会将其转化为一维张量**"
   ]
  },
  {
   "cell_type": "code",
   "execution_count": 69,
   "id": "9aebf347-2509-4741-b9b8-28a43e4ba743",
   "metadata": {},
   "outputs": [
    {
     "data": {
      "text/plain": [
       "tensor(1)"
      ]
     },
     "execution_count": 69,
     "metadata": {},
     "output_type": "execute_result"
    }
   ],
   "source": [
    "t"
   ]
  },
  {
   "cell_type": "code",
   "execution_count": 70,
   "id": "b0b08d61-b81f-4b0a-be60-b7008618f5d7",
   "metadata": {},
   "outputs": [
    {
     "data": {
      "text/plain": [
       "tensor([1])"
      ]
     },
     "execution_count": 70,
     "metadata": {},
     "output_type": "execute_result"
    }
   ],
   "source": [
    "t.flatten()"
   ]
  },
  {
   "cell_type": "code",
   "execution_count": 72,
   "id": "571830bf-9cc9-47a2-b2f8-1e16e30ee002",
   "metadata": {},
   "outputs": [
    {
     "data": {
      "text/plain": [
       "1"
      ]
     },
     "execution_count": 72,
     "metadata": {},
     "output_type": "execute_result"
    }
   ],
   "source": [
    "t.flatten().ndim"
   ]
  },
  {
   "cell_type": "markdown",
   "id": "c6bf9d34-b13a-410a-a5cf-7f95e84fc8cc",
   "metadata": {},
   "source": [
    "#### 2.2 reshape方法：任意变形"
   ]
  },
  {
   "cell_type": "code",
   "execution_count": 73,
   "id": "2b0922c3-6829-412b-8066-98479fffaa22",
   "metadata": {},
   "outputs": [
    {
     "data": {
      "text/plain": [
       "tensor([1, 2])"
      ]
     },
     "execution_count": 73,
     "metadata": {},
     "output_type": "execute_result"
    }
   ],
   "source": [
    "t1"
   ]
  },
  {
   "cell_type": "code",
   "execution_count": 79,
   "id": "c72c4260-7139-412d-8f5e-7629eb4b39d1",
   "metadata": {},
   "outputs": [
    {
     "data": {
      "text/plain": [
       "torch.Size([2])"
      ]
     },
     "execution_count": 79,
     "metadata": {},
     "output_type": "execute_result"
    }
   ],
   "source": [
    "t1.shape"
   ]
  },
  {
   "cell_type": "code",
   "execution_count": 74,
   "id": "0c91f66c-86b5-4b95-ac24-c6e693110c12",
   "metadata": {},
   "outputs": [
    {
     "data": {
      "text/plain": [
       "tensor([[1],\n",
       "        [2]])"
      ]
     },
     "execution_count": 74,
     "metadata": {},
     "output_type": "execute_result"
    }
   ],
   "source": [
    "# 转化为两行，一列的张量\n",
    "t1.reshape(2, 1)"
   ]
  },
  {
   "cell_type": "code",
   "execution_count": 77,
   "id": "a866ef74-2742-4f1f-bf1e-d9624b4751d4",
   "metadata": {},
   "outputs": [
    {
     "data": {
      "text/plain": [
       "2"
      ]
     },
     "execution_count": 77,
     "metadata": {},
     "output_type": "execute_result"
    }
   ],
   "source": [
    "t1.reshape(2, 1).ndim"
   ]
  },
  {
   "cell_type": "code",
   "execution_count": 78,
   "id": "34aaf3f0-1f2c-4207-9831-14bed58898ca",
   "metadata": {},
   "outputs": [
    {
     "data": {
      "text/plain": [
       "torch.Size([2, 1])"
      ]
     },
     "execution_count": 78,
     "metadata": {},
     "output_type": "execute_result"
    }
   ],
   "source": [
    "t1.reshape(2, 1).shape"
   ]
  },
  {
   "cell_type": "markdown",
   "id": "d1f44ae0-f847-478b-93ad-7e6ee6e2c634",
   "metadata": {},
   "source": [
    "**注：reshape过程中维度的变化：reshape转化后的维度由该方法输入的参数\"个数\"决定**\n",
    "\n",
    "* 转化后称为一维张量"
   ]
  },
  {
   "cell_type": "code",
   "execution_count": 80,
   "id": "3a84af51-ee23-457a-ac08-1e46fb66afa2",
   "metadata": {},
   "outputs": [
    {
     "data": {
      "text/plain": [
       "tensor([1, 2])"
      ]
     },
     "execution_count": 80,
     "metadata": {},
     "output_type": "execute_result"
    }
   ],
   "source": [
    "t1.reshape(2)"
   ]
  },
  {
   "cell_type": "code",
   "execution_count": 81,
   "id": "3c7c975e-a719-4660-9763-b4844f094236",
   "metadata": {},
   "outputs": [
    {
     "data": {
      "text/plain": [
       "1"
      ]
     },
     "execution_count": 81,
     "metadata": {},
     "output_type": "execute_result"
    }
   ],
   "source": [
    "t1.reshape(2).ndim"
   ]
  },
  {
   "cell_type": "code",
   "execution_count": 82,
   "id": "9c6e3b43-ad06-4339-87e6-2db92deb8e29",
   "metadata": {},
   "outputs": [
    {
     "data": {
      "text/plain": [
       "tensor([1, 2])"
      ]
     },
     "execution_count": 82,
     "metadata": {},
     "output_type": "execute_result"
    }
   ],
   "source": [
    "# 注：另一种表达形式\n",
    "t1.reshape(2,)"
   ]
  },
  {
   "cell_type": "markdown",
   "id": "7854ec81-bf53-48b0-9fe9-fef123d3d87d",
   "metadata": {},
   "source": [
    "* 转化生成二维张量"
   ]
  },
  {
   "cell_type": "code",
   "execution_count": 83,
   "id": "6ff64964-cc78-4403-9f90-9531f942046c",
   "metadata": {},
   "outputs": [
    {
     "data": {
      "text/plain": [
       "tensor([1, 2])"
      ]
     },
     "execution_count": 83,
     "metadata": {},
     "output_type": "execute_result"
    }
   ],
   "source": [
    "t1"
   ]
  },
  {
   "cell_type": "code",
   "execution_count": 84,
   "id": "13e13188-8427-4ff9-8f47-23caefa90494",
   "metadata": {},
   "outputs": [
    {
     "data": {
      "text/plain": [
       "tensor([[1, 2]])"
      ]
     },
     "execution_count": 84,
     "metadata": {},
     "output_type": "execute_result"
    }
   ],
   "source": [
    "t1.reshape(1, 2)  #生成包含 一个 两个元素 的二维张量"
   ]
  },
  {
   "cell_type": "code",
   "execution_count": 85,
   "id": "7a4aef63-cbf7-4cd3-839a-1263de7c98c4",
   "metadata": {},
   "outputs": [
    {
     "data": {
      "text/plain": [
       "2"
      ]
     },
     "execution_count": 85,
     "metadata": {},
     "output_type": "execute_result"
    }
   ],
   "source": [
    "t1.reshape(1, 2).ndim"
   ]
  },
  {
   "cell_type": "markdown",
   "id": "4d6255a0-5994-48cb-89b4-6eeef917a102",
   "metadata": {},
   "source": [
    "* 转化后生成三维张量"
   ]
  },
  {
   "cell_type": "code",
   "execution_count": 86,
   "id": "a507bf89-b912-4c82-bcd0-73fd8168fd0a",
   "metadata": {},
   "outputs": [
    {
     "data": {
      "text/plain": [
       "tensor([[[1, 2]]])"
      ]
     },
     "execution_count": 86,
     "metadata": {},
     "output_type": "execute_result"
    }
   ],
   "source": [
    "t1.reshape(1, 1, 2)  # 一个矩阵，并且这个矩阵一行两列矩阵"
   ]
  },
  {
   "cell_type": "code",
   "execution_count": 87,
   "id": "67765a00-77f3-424d-93d9-316a0abab90a",
   "metadata": {},
   "outputs": [
    {
     "data": {
      "text/plain": [
       "tensor([[[1],\n",
       "         [2]]])"
      ]
     },
     "execution_count": 87,
     "metadata": {},
     "output_type": "execute_result"
    }
   ],
   "source": [
    "t1.reshape(1, 2, 1)  # 一个矩阵，这个矩阵是两行一列矩阵"
   ]
  },
  {
   "cell_type": "markdown",
   "id": "61b86b14-4527-487a-a1a1-26827e0d0261",
   "metadata": {},
   "source": [
    "Q1: 如何利用reshape方法，将t3拉平？"
   ]
  },
  {
   "cell_type": "code",
   "execution_count": 88,
   "id": "a8edd6bd-774b-4466-9deb-f7cad1661795",
   "metadata": {},
   "outputs": [
    {
     "data": {
      "text/plain": [
       "tensor([[[1, 2, 2],\n",
       "         [3, 4, 4]],\n",
       "\n",
       "        [[5, 6, 6],\n",
       "         [7, 8, 8]]])"
      ]
     },
     "execution_count": 88,
     "metadata": {},
     "output_type": "execute_result"
    }
   ],
   "source": [
    "t3"
   ]
  },
  {
   "cell_type": "code",
   "execution_count": 90,
   "id": "f42e0da4-b6d4-46ac-8056-98a63cabf4d8",
   "metadata": {},
   "outputs": [
    {
     "data": {
      "text/plain": [
       "tensor([[[1, 2, 2, 3, 4, 4, 5, 6, 6, 7, 8, 8]]])"
      ]
     },
     "execution_count": 90,
     "metadata": {},
     "output_type": "execute_result"
    }
   ],
   "source": [
    "t3.reshape(1, 1, 12)"
   ]
  },
  {
   "cell_type": "markdown",
   "id": "24c46313-5f10-4ddb-9d74-cc89a206014c",
   "metadata": {},
   "source": [
    "## 四.特殊张量的创建方法\n",
    "\n",
    "在很多数值科学计算过程中，都会创建一些特殊取值的张量，用于模拟特殊取值的矩阵。如全0矩阵，对角矩阵等。因此PyTorch中也存在很多创建特殊张量的函数。\n",
    "\n",
    "### 1.特殊取值的张量创建方法\n",
    "\n",
    "* 全0张量"
   ]
  },
  {
   "cell_type": "code",
   "execution_count": 91,
   "id": "e502c00d-d878-46dd-9578-deeb676c9dba",
   "metadata": {},
   "outputs": [
    {
     "data": {
      "text/plain": [
       "tensor([[0., 0., 0.],\n",
       "        [0., 0., 0.]])"
      ]
     },
     "execution_count": 91,
     "metadata": {},
     "output_type": "execute_result"
    }
   ],
   "source": [
    "torch.zeros([2, 3])  # 创建全是0的两行，三列的矩阵张量"
   ]
  },
  {
   "cell_type": "markdown",
   "id": "c153702b-ed7c-4bfd-8f5d-2933cddf5a2f",
   "metadata": {},
   "source": [
    "**注：由于zeros已经确定了张量元素的取值，因此该函数传入的参数实际上决定了张量的形状**"
   ]
  },
  {
   "cell_type": "markdown",
   "id": "c3245d71-cb4b-4b8e-88ab-df710e856c0c",
   "metadata": {},
   "source": [
    "* 全1张量"
   ]
  },
  {
   "cell_type": "code",
   "execution_count": 92,
   "id": "cc3bf65e-a2ee-48f6-b6dc-743833bfd5f7",
   "metadata": {},
   "outputs": [
    {
     "data": {
      "text/plain": [
       "tensor([[1., 1., 1.],\n",
       "        [1., 1., 1.]])"
      ]
     },
     "execution_count": 92,
     "metadata": {},
     "output_type": "execute_result"
    }
   ],
   "source": [
    "torch.ones([2, 3])"
   ]
  },
  {
   "cell_type": "markdown",
   "id": "960b15a9-a077-494a-8787-f95b78709d2f",
   "metadata": {},
   "source": [
    "* 单位矩阵"
   ]
  },
  {
   "cell_type": "code",
   "execution_count": 93,
   "id": "1eb318d1-b8d6-49ea-bd58-caddc05a67f0",
   "metadata": {},
   "outputs": [
    {
     "data": {
      "text/plain": [
       "tensor([[1., 0., 0., 0., 0.],\n",
       "        [0., 1., 0., 0., 0.],\n",
       "        [0., 0., 1., 0., 0.],\n",
       "        [0., 0., 0., 1., 0.],\n",
       "        [0., 0., 0., 0., 1.]])"
      ]
     },
     "execution_count": 93,
     "metadata": {},
     "output_type": "execute_result"
    }
   ],
   "source": [
    "torch.eye(5)"
   ]
  },
  {
   "cell_type": "markdown",
   "id": "f25ec0fd-741e-404a-9bb2-a5348f181c52",
   "metadata": {},
   "source": [
    "* 对角矩阵\n",
    "\n",
    "略有特殊，在PyTorch中，需要利用一维张量去创建对角矩阵"
   ]
  },
  {
   "cell_type": "code",
   "execution_count": 94,
   "id": "6945d434-cd71-4a1e-ac37-5e24b13f5f1f",
   "metadata": {},
   "outputs": [
    {
     "data": {
      "text/plain": [
       "tensor([1, 2])"
      ]
     },
     "execution_count": 94,
     "metadata": {},
     "output_type": "execute_result"
    }
   ],
   "source": [
    "t1"
   ]
  },
  {
   "cell_type": "code",
   "execution_count": 95,
   "id": "1326151d-2f3f-4347-bb80-642f6910c8d0",
   "metadata": {},
   "outputs": [
    {
     "data": {
      "text/plain": [
       "tensor([[1, 0],\n",
       "        [0, 2]])"
      ]
     },
     "execution_count": 95,
     "metadata": {},
     "output_type": "execute_result"
    }
   ],
   "source": [
    "torch.diag(t1)"
   ]
  },
  {
   "cell_type": "code",
   "execution_count": 97,
   "id": "368a1e04-42cb-4026-8211-55e0841f1fe7",
   "metadata": {},
   "outputs": [
    {
     "ename": "TypeError",
     "evalue": "diag(): argument 'input' (position 1) must be Tensor, not list",
     "output_type": "error",
     "traceback": [
      "\u001b[0;31m---------------------------------------------------------------------------\u001b[0m",
      "\u001b[0;31mTypeError\u001b[0m                                 Traceback (most recent call last)",
      "\u001b[0;32m<ipython-input-97-e720d4eb0d7a>\u001b[0m in \u001b[0;36m<module>\u001b[0;34m\u001b[0m\n\u001b[0;32m----> 1\u001b[0;31m \u001b[0mtorch\u001b[0m\u001b[0;34m.\u001b[0m\u001b[0mdiag\u001b[0m\u001b[0;34m(\u001b[0m\u001b[0;34m[\u001b[0m\u001b[0;36m1\u001b[0m\u001b[0;34m,\u001b[0m \u001b[0;36m2\u001b[0m\u001b[0;34m]\u001b[0m\u001b[0;34m)\u001b[0m \u001b[0;31m# 不能使用list直接创建对角矩阵\u001b[0m\u001b[0;34m\u001b[0m\u001b[0;34m\u001b[0m\u001b[0m\n\u001b[0m",
      "\u001b[0;31mTypeError\u001b[0m: diag(): argument 'input' (position 1) must be Tensor, not list"
     ]
    }
   ],
   "source": [
    "torch.diag([1, 2]) # 不能使用list直接创建对角矩阵"
   ]
  },
  {
   "cell_type": "markdown",
   "id": "11a7a7b5-6e1d-4eb4-a5a2-08a594e32142",
   "metadata": {},
   "source": [
    "* rand:服从0-1均匀分布的张量"
   ]
  },
  {
   "cell_type": "code",
   "execution_count": 98,
   "id": "339a4a47-9b61-4682-ad51-43df89e3ae20",
   "metadata": {},
   "outputs": [
    {
     "data": {
      "text/plain": [
       "tensor([[0.2669, 0.2923, 0.6038],\n",
       "        [0.6084, 0.3236, 0.4538]])"
      ]
     },
     "execution_count": 98,
     "metadata": {},
     "output_type": "execute_result"
    }
   ],
   "source": [
    "torch.rand(2, 3)"
   ]
  },
  {
   "cell_type": "code",
   "execution_count": 100,
   "id": "7952556b-900b-4fb4-9271-d2e556e08671",
   "metadata": {},
   "outputs": [
    {
     "data": {
      "text/plain": [
       "tensor([[0.4786, 0.3014, 0.8626],\n",
       "        [0.1607, 0.0052, 0.3947]])"
      ]
     },
     "execution_count": 100,
     "metadata": {},
     "output_type": "execute_result"
    }
   ],
   "source": [
    "torch.rand([2, 3])"
   ]
  },
  {
   "cell_type": "markdown",
   "id": "8fcb66ed-ebb4-4fb5-a863-f778f064c353",
   "metadata": {},
   "source": [
    "* randn:服从标准正态分布的张量"
   ]
  },
  {
   "cell_type": "code",
   "execution_count": 99,
   "id": "046f39bd-6516-470d-ad4e-1a232425346e",
   "metadata": {},
   "outputs": [
    {
     "data": {
      "text/plain": [
       "tensor([[ 0.5702, -2.5375,  0.5661],\n",
       "        [ 0.3809,  1.5170, -0.6475]])"
      ]
     },
     "execution_count": 99,
     "metadata": {},
     "output_type": "execute_result"
    }
   ],
   "source": [
    "torch.randn(2, 3)"
   ]
  },
  {
   "cell_type": "code",
   "execution_count": 101,
   "id": "f8582522-5cd5-4c45-bd51-7a04b7101c57",
   "metadata": {},
   "outputs": [
    {
     "data": {
      "text/plain": [
       "tensor([[-0.9007, -0.4326,  1.1565],\n",
       "        [ 0.5511,  1.7960, -0.9982]])"
      ]
     },
     "execution_count": 101,
     "metadata": {},
     "output_type": "execute_result"
    }
   ],
   "source": [
    "torch.randn([2, 3])"
   ]
  },
  {
   "cell_type": "markdown",
   "id": "1974d1b0-6fa8-49f0-a1f6-f5942c610b4d",
   "metadata": {},
   "source": [
    "* normal:服从指定正态分布的张量"
   ]
  },
  {
   "cell_type": "code",
   "execution_count": 102,
   "id": "ba484872-281d-45d8-98b0-8b5aa9024eb4",
   "metadata": {},
   "outputs": [
    {
     "data": {
      "text/plain": [
       "tensor([[3.5125, 1.9359, 2.5171],\n",
       "        [6.1625, 8.3507, 4.3193]])"
      ]
     },
     "execution_count": 102,
     "metadata": {},
     "output_type": "execute_result"
    }
   ],
   "source": [
    "torch.normal(2, 3, size=(2, 3))  # 均值为2，标准差为3的张量"
   ]
  },
  {
   "cell_type": "code",
   "execution_count": 103,
   "id": "fb6c9c5b-9ea5-4f3f-9577-a30a0975d4d8",
   "metadata": {},
   "outputs": [
    {
     "data": {
      "text/plain": [
       "tensor([[ 1.2287, -3.6193,  3.0511],\n",
       "        [-1.4252,  3.8556, -0.4287]])"
      ]
     },
     "execution_count": 103,
     "metadata": {},
     "output_type": "execute_result"
    }
   ],
   "source": [
    "torch.normal(2, 3, size=[2, 3])"
   ]
  },
  {
   "cell_type": "markdown",
   "id": "455898c5-0641-499b-af32-65c55af87683",
   "metadata": {},
   "source": [
    "* randint:整数随机采样结果"
   ]
  },
  {
   "cell_type": "code",
   "execution_count": 104,
   "id": "bd64fdef-f585-4545-a1da-c1eddaa0cf81",
   "metadata": {},
   "outputs": [
    {
     "data": {
      "text/plain": [
       "tensor([[3, 9, 7, 2],\n",
       "        [2, 3, 2, 4]])"
      ]
     },
     "execution_count": 104,
     "metadata": {},
     "output_type": "execute_result"
    }
   ],
   "source": [
    "torch.randint(1, 10, [2, 4]) #在1-10之间随机抽取整数组成两行四列的矩阵张量"
   ]
  },
  {
   "cell_type": "code",
   "execution_count": 105,
   "id": "5317b3a1-2d21-408a-bf03-ef32fa624532",
   "metadata": {},
   "outputs": [
    {
     "data": {
      "text/plain": [
       "tensor([[8, 3, 8, 6],\n",
       "        [8, 9, 9, 4]])"
      ]
     },
     "execution_count": 105,
     "metadata": {},
     "output_type": "execute_result"
    }
   ],
   "source": [
    "torch.randint(1, 10, (2, 4))"
   ]
  },
  {
   "cell_type": "markdown",
   "id": "aa4bd885-b827-4f78-ab6c-fb8e61a276b7",
   "metadata": {},
   "source": [
    "* arange/linspace: 生成数列"
   ]
  },
  {
   "cell_type": "code",
   "execution_count": 106,
   "id": "77bf11dc-bc83-424a-96c3-523748d73840",
   "metadata": {},
   "outputs": [
    {
     "data": {
      "text/plain": [
       "tensor([0, 1, 2, 3, 4])"
      ]
     },
     "execution_count": 106,
     "metadata": {},
     "output_type": "execute_result"
    }
   ],
   "source": [
    "torch.arange(5)   #和range相同"
   ]
  },
  {
   "cell_type": "code",
   "execution_count": 107,
   "id": "67221cba-1a5c-44b8-b492-41d2ec7af53d",
   "metadata": {},
   "outputs": [
    {
     "data": {
      "text/plain": [
       "tensor([1.0000, 1.5000, 2.0000, 2.5000, 3.0000, 3.5000, 4.0000, 4.5000])"
      ]
     },
     "execution_count": 107,
     "metadata": {},
     "output_type": "execute_result"
    }
   ],
   "source": [
    "torch.arange(1, 5, 0.5)"
   ]
  },
  {
   "cell_type": "code",
   "execution_count": 108,
   "id": "d2afa04f-2d66-4f52-b385-4ea28768d695",
   "metadata": {},
   "outputs": [
    {
     "data": {
      "text/plain": [
       "tensor([1., 3., 5.])"
      ]
     },
     "execution_count": 108,
     "metadata": {},
     "output_type": "execute_result"
    }
   ],
   "source": [
    "torch.linspace(1, 5, 3)   #从1-5(左右都包含)，等距取三个数"
   ]
  },
  {
   "cell_type": "markdown",
   "id": "1be8af90-0dd6-43e3-af60-41424412b8db",
   "metadata": {},
   "source": [
    "* empty:生成未初始化的指定形状矩阵"
   ]
  },
  {
   "cell_type": "code",
   "execution_count": 109,
   "id": "05922399-0fa0-4a6d-8b32-3b3f388a8eb7",
   "metadata": {},
   "outputs": [
    {
     "data": {
      "text/plain": [
       "tensor([[1.0533e+21, 1.0739e-05, 1.6519e-04],\n",
       "        [1.0083e-11, 2.1763e-04, 1.0489e-08]])"
      ]
     },
     "execution_count": 109,
     "metadata": {},
     "output_type": "execute_result"
    }
   ],
   "source": [
    "torch.empty(2, 3)"
   ]
  },
  {
   "cell_type": "markdown",
   "id": "bf1e8644-028e-44a9-8101-a8ff18e43381",
   "metadata": {},
   "source": [
    "* full:根据指定形状，填充指定数值"
   ]
  },
  {
   "cell_type": "code",
   "execution_count": 110,
   "id": "b9ea69f6-f173-4f89-8e56-bf6257a58ff2",
   "metadata": {},
   "outputs": [
    {
     "data": {
      "text/plain": [
       "tensor([[2, 2, 2, 2],\n",
       "        [2, 2, 2, 2]])"
      ]
     },
     "execution_count": 110,
     "metadata": {},
     "output_type": "execute_result"
    }
   ],
   "source": [
    "torch.full([2, 4], 2)"
   ]
  },
  {
   "cell_type": "code",
   "execution_count": 111,
   "id": "9ec42a7c-5638-44f5-95b8-78093b4b05c0",
   "metadata": {},
   "outputs": [
    {
     "data": {
      "text/plain": [
       "tensor([[3, 3, 3, 3],\n",
       "        [3, 3, 3, 3]])"
      ]
     },
     "execution_count": 111,
     "metadata": {},
     "output_type": "execute_result"
    }
   ],
   "source": [
    "torch.full((2, 4), 3)"
   ]
  },
  {
   "cell_type": "markdown",
   "id": "c3eec6b5-fa41-4a81-8727-06e098f41f1d",
   "metadata": {},
   "source": [
    "### 2.创建指定形状的数组\n",
    "\n",
    "当然，我们还能根据指定对象的形状进行数值填充，只需要在上述函数后面加上_like即可。"
   ]
  },
  {
   "cell_type": "code",
   "execution_count": 112,
   "id": "7cc44219-ff63-43bf-a695-5cf6c5a6997a",
   "metadata": {},
   "outputs": [
    {
     "data": {
      "text/plain": [
       "tensor([1, 2])"
      ]
     },
     "execution_count": 112,
     "metadata": {},
     "output_type": "execute_result"
    }
   ],
   "source": [
    "t1"
   ]
  },
  {
   "cell_type": "code",
   "execution_count": 113,
   "id": "f78865ec-3b08-4282-af53-95db73f38f38",
   "metadata": {},
   "outputs": [
    {
     "data": {
      "text/plain": [
       "tensor([[1, 2],\n",
       "        [3, 4]])"
      ]
     },
     "execution_count": 113,
     "metadata": {},
     "output_type": "execute_result"
    }
   ],
   "source": [
    "t2"
   ]
  },
  {
   "cell_type": "code",
   "execution_count": 114,
   "id": "2aebd60d-26ac-4df7-ad82-12467081ea59",
   "metadata": {},
   "outputs": [
    {
     "data": {
      "text/plain": [
       "tensor([2, 2])"
      ]
     },
     "execution_count": 114,
     "metadata": {},
     "output_type": "execute_result"
    }
   ],
   "source": [
    "torch.full_like(t1, 2)  #根据t1形状，填充数值2"
   ]
  },
  {
   "cell_type": "code",
   "execution_count": 116,
   "id": "8d4362ee-f27b-4321-aaeb-0ff644d63438",
   "metadata": {},
   "outputs": [
    {
     "data": {
      "text/plain": [
       "tensor([[1, 4],\n",
       "        [3, 6]])"
      ]
     },
     "execution_count": 116,
     "metadata": {},
     "output_type": "execute_result"
    }
   ],
   "source": [
    "torch.randint_like(t2, 1, 10)"
   ]
  },
  {
   "cell_type": "code",
   "execution_count": 117,
   "id": "0887f78b-5212-4f50-ae2c-0129026dbd3d",
   "metadata": {},
   "outputs": [
    {
     "data": {
      "text/plain": [
       "tensor([0, 0])"
      ]
     },
     "execution_count": 117,
     "metadata": {},
     "output_type": "execute_result"
    }
   ],
   "source": [
    "torch.zeros_like(t1)"
   ]
  },
  {
   "cell_type": "markdown",
   "id": "1cdc35bf-e451-4232-b7b3-c8c484660aa5",
   "metadata": {},
   "source": [
    "**需要注意一点：_like类型转化需要注意转化前后数据类型一致的问题**"
   ]
  },
  {
   "cell_type": "code",
   "execution_count": 118,
   "id": "6fab7d78-ebc1-41f2-96cb-acde6c3fed00",
   "metadata": {},
   "outputs": [
    {
     "ename": "RuntimeError",
     "evalue": "\"normal_kernel_cpu\" not implemented for 'Long'",
     "output_type": "error",
     "traceback": [
      "\u001b[0;31m---------------------------------------------------------------------------\u001b[0m",
      "\u001b[0;31mRuntimeError\u001b[0m                              Traceback (most recent call last)",
      "\u001b[0;32m<ipython-input-118-82e06104e8a8>\u001b[0m in \u001b[0;36m<module>\u001b[0;34m\u001b[0m\n\u001b[0;32m----> 1\u001b[0;31m \u001b[0mtorch\u001b[0m\u001b[0;34m.\u001b[0m\u001b[0mrandn_like\u001b[0m\u001b[0;34m(\u001b[0m\u001b[0mt1\u001b[0m\u001b[0;34m)\u001b[0m\u001b[0;34m\u001b[0m\u001b[0;34m\u001b[0m\u001b[0m\n\u001b[0m",
      "\u001b[0;31mRuntimeError\u001b[0m: \"normal_kernel_cpu\" not implemented for 'Long'"
     ]
    }
   ],
   "source": [
    "torch.randn_like(t1) #t1是整数，而转化后变为浮点数，数据类型前后不一致"
   ]
  },
  {
   "cell_type": "markdown",
   "id": "c129a559-546d-40e1-8e78-16225330306d",
   "metadata": {},
   "source": [
    "## 五.张量和其他相关类型之间的转化方法\n",
    "\n",
    "张量，数组和列表是较为相似的三种类型对象，在实际操作过程中，经常会涉及三种对象的相互转化。在此前张量的创建过程中，我们看到torch.tensor函数可以直接将数组或者列表转化为张量，而我们也可以将张量转化为数组或者列表。\n",
    "\n",
    "* `.numpy()`方法：张量转化为数组"
   ]
  },
  {
   "cell_type": "code",
   "execution_count": 119,
   "id": "e9baef8a-ae79-4438-85ba-b79289b5ef43",
   "metadata": {},
   "outputs": [
    {
     "data": {
      "text/plain": [
       "tensor([1, 2])"
      ]
     },
     "execution_count": 119,
     "metadata": {},
     "output_type": "execute_result"
    }
   ],
   "source": [
    "t1"
   ]
  },
  {
   "cell_type": "code",
   "execution_count": 120,
   "id": "df274758-3bc0-4b4e-9b7e-e2dcf73a3495",
   "metadata": {},
   "outputs": [
    {
     "data": {
      "text/plain": [
       "array([1, 2])"
      ]
     },
     "execution_count": 120,
     "metadata": {},
     "output_type": "execute_result"
    }
   ],
   "source": [
    "t1.numpy()"
   ]
  },
  {
   "cell_type": "code",
   "execution_count": 121,
   "id": "9f984410-4628-40cd-8cdb-deca12ee2c36",
   "metadata": {},
   "outputs": [
    {
     "data": {
      "text/plain": [
       "array([1, 2])"
      ]
     },
     "execution_count": 121,
     "metadata": {},
     "output_type": "execute_result"
    }
   ],
   "source": [
    "# 当然，也可以通过np.array直接转化为array\n",
    "np.array(t1)"
   ]
  },
  {
   "cell_type": "markdown",
   "id": "6115cbc1-1769-4b68-a4f2-c130af415427",
   "metadata": {},
   "source": [
    "* `.tolist`：张量转化为列表"
   ]
  },
  {
   "cell_type": "code",
   "execution_count": 122,
   "id": "62c514cf-75e4-4538-8536-022fdb756d4b",
   "metadata": {},
   "outputs": [
    {
     "data": {
      "text/plain": [
       "[1, 2]"
      ]
     },
     "execution_count": 122,
     "metadata": {},
     "output_type": "execute_result"
    }
   ],
   "source": [
    "t1.tolist()"
   ]
  },
  {
   "cell_type": "code",
   "execution_count": 123,
   "id": "abb2c476-1b72-4406-bfe7-e8476ab0ed9e",
   "metadata": {},
   "outputs": [
    {
     "data": {
      "text/plain": [
       "[tensor(1), tensor(2)]"
      ]
     },
     "execution_count": 123,
     "metadata": {},
     "output_type": "execute_result"
    }
   ],
   "source": [
    "list(t1)    #构成一维张量的实际上是零维张量"
   ]
  },
  {
   "cell_type": "markdown",
   "id": "d1a3041f-2950-4f91-8300-e4e18f872c9c",
   "metadata": {},
   "source": [
    "**注意：此时转化的list是由一个个零维张量构成的列表，而非张量的数值组成的列表**\n",
    "\n",
    "* `.item()`方法：转化为数值\n",
    "\n",
    "在很多情况下，我们需要将最终计算结果张量转化为单独的数值进行输出，此时需要使用.item方法来执行"
   ]
  },
  {
   "cell_type": "code",
   "execution_count": 125,
   "id": "6e9e4718-aed9-45e3-9797-380965ede45e",
   "metadata": {},
   "outputs": [
    {
     "data": {
      "text/plain": [
       "tensor(1)"
      ]
     },
     "execution_count": 125,
     "metadata": {},
     "output_type": "execute_result"
    }
   ],
   "source": [
    "n = torch.tensor(1)\n",
    "n"
   ]
  },
  {
   "cell_type": "code",
   "execution_count": 126,
   "id": "3a62722c-a4c9-46fa-9753-0519830ab9cb",
   "metadata": {},
   "outputs": [
    {
     "data": {
      "text/plain": [
       "1"
      ]
     },
     "execution_count": 126,
     "metadata": {},
     "output_type": "execute_result"
    }
   ],
   "source": [
    "n.item()"
   ]
  },
  {
   "cell_type": "markdown",
   "id": "9c64ba65-af1d-437e-b597-63db6f4de0dd",
   "metadata": {},
   "source": [
    "## 六.张量的深拷贝\n",
    "\n",
    "与Python中其他对象类型一样，等号赋值操作实际上是牵拷贝，需要进行深拷贝，则需要使用clone方法"
   ]
  },
  {
   "cell_type": "code",
   "execution_count": 134,
   "id": "dd029f2e-6fcd-446e-a988-5ce84ea925ae",
   "metadata": {},
   "outputs": [
    {
     "data": {
      "text/plain": [
       "tensor([0, 1, 2, 3, 4, 5, 6, 7, 8, 9])"
      ]
     },
     "execution_count": 134,
     "metadata": {},
     "output_type": "execute_result"
    }
   ],
   "source": [
    "t1 = torch.arange(10)\n",
    "t1"
   ]
  },
  {
   "cell_type": "code",
   "execution_count": 135,
   "id": "96fa4e67-8e22-468e-bdc2-f28bc4be909a",
   "metadata": {},
   "outputs": [],
   "source": [
    "t11 = t1"
   ]
  },
  {
   "cell_type": "code",
   "execution_count": 136,
   "id": "780b5c77-3dd0-4948-8509-79b0f4350966",
   "metadata": {},
   "outputs": [
    {
     "data": {
      "text/plain": [
       "tensor([0, 1, 2, 3, 4, 5, 6, 7, 8, 9])"
      ]
     },
     "execution_count": 136,
     "metadata": {},
     "output_type": "execute_result"
    }
   ],
   "source": [
    "t11"
   ]
  },
  {
   "cell_type": "code",
   "execution_count": 137,
   "id": "61ad3cf9-fc75-48ba-ad1f-f6adc767e7e9",
   "metadata": {},
   "outputs": [
    {
     "data": {
      "text/plain": [
       "tensor(1)"
      ]
     },
     "execution_count": 137,
     "metadata": {},
     "output_type": "execute_result"
    }
   ],
   "source": [
    "t1[1]"
   ]
  },
  {
   "cell_type": "code",
   "execution_count": 138,
   "id": "5a5cf07c-4fd5-4e80-86cf-49c40c24a3f3",
   "metadata": {},
   "outputs": [],
   "source": [
    "t1[1] = 10"
   ]
  },
  {
   "cell_type": "code",
   "execution_count": 139,
   "id": "b9532587-98f2-423e-bbec-914784129810",
   "metadata": {},
   "outputs": [
    {
     "data": {
      "text/plain": [
       "tensor([ 0, 10,  2,  3,  4,  5,  6,  7,  8,  9])"
      ]
     },
     "execution_count": 139,
     "metadata": {},
     "output_type": "execute_result"
    }
   ],
   "source": [
    "t1"
   ]
  },
  {
   "cell_type": "code",
   "execution_count": 140,
   "id": "4077cc1c-2c92-4b47-8338-707c97492097",
   "metadata": {},
   "outputs": [
    {
     "data": {
      "text/plain": [
       "tensor([ 0, 10,  2,  3,  4,  5,  6,  7,  8,  9])"
      ]
     },
     "execution_count": 140,
     "metadata": {},
     "output_type": "execute_result"
    }
   ],
   "source": [
    "t11"
   ]
  },
  {
   "cell_type": "markdown",
   "id": "a807a694-7f98-4799-b985-13634ae8241a",
   "metadata": {},
   "source": [
    "此处t1和t11二者指向相同的对象。而要使用t11不随t1对象改变而改变，则需要对t11进行深拷贝，从而使得t11单独拥有一份对象"
   ]
  },
  {
   "cell_type": "code",
   "execution_count": 141,
   "id": "6658f156-f51f-4717-9abb-8d3813655ec0",
   "metadata": {},
   "outputs": [],
   "source": [
    "t11 = t1.clone()"
   ]
  },
  {
   "cell_type": "code",
   "execution_count": 142,
   "id": "c23eaa50-c9a4-4537-a13f-ea00167e335a",
   "metadata": {},
   "outputs": [
    {
     "data": {
      "text/plain": [
       "tensor([ 0, 10,  2,  3,  4,  5,  6,  7,  8,  9])"
      ]
     },
     "execution_count": 142,
     "metadata": {},
     "output_type": "execute_result"
    }
   ],
   "source": [
    "t1"
   ]
  },
  {
   "cell_type": "code",
   "execution_count": 143,
   "id": "02775139-52a1-4447-912c-f97ac5443a27",
   "metadata": {},
   "outputs": [
    {
     "data": {
      "text/plain": [
       "tensor([ 0, 10,  2,  3,  4,  5,  6,  7,  8,  9])"
      ]
     },
     "execution_count": 143,
     "metadata": {},
     "output_type": "execute_result"
    }
   ],
   "source": [
    "t11"
   ]
  },
  {
   "cell_type": "code",
   "execution_count": 144,
   "id": "b8e71586-6ebb-466d-9d55-80bc9466a999",
   "metadata": {},
   "outputs": [
    {
     "data": {
      "text/plain": [
       "tensor(0)"
      ]
     },
     "execution_count": 144,
     "metadata": {},
     "output_type": "execute_result"
    }
   ],
   "source": [
    "t1[0]"
   ]
  },
  {
   "cell_type": "code",
   "execution_count": 146,
   "id": "4f0cd0d7-fc72-448b-bf1e-ae8298a07089",
   "metadata": {},
   "outputs": [],
   "source": [
    "t1[0] = 100"
   ]
  },
  {
   "cell_type": "code",
   "execution_count": 147,
   "id": "51fc8e1f-6adc-47b4-b200-5f27dbb400a5",
   "metadata": {},
   "outputs": [
    {
     "data": {
      "text/plain": [
       "tensor([100,  10,   2,   3,   4,   5,   6,   7,   8,   9])"
      ]
     },
     "execution_count": 147,
     "metadata": {},
     "output_type": "execute_result"
    }
   ],
   "source": [
    "t1"
   ]
  },
  {
   "cell_type": "code",
   "execution_count": 148,
   "id": "86bed293-b8e4-4b19-a9a4-6ab3b78a085f",
   "metadata": {},
   "outputs": [
    {
     "data": {
      "text/plain": [
       "tensor([ 0, 10,  2,  3,  4,  5,  6,  7,  8,  9])"
      ]
     },
     "execution_count": 148,
     "metadata": {},
     "output_type": "execute_result"
    }
   ],
   "source": [
    "t11"
   ]
  },
  {
   "cell_type": "code",
   "execution_count": null,
   "id": "27c4e814-59ea-4c05-a9aa-17fc27009fd0",
   "metadata": {},
   "outputs": [],
   "source": []
  }
 ],
 "metadata": {
  "kernelspec": {
   "display_name": "Python 3",
   "language": "python",
   "name": "python3"
  },
  "language_info": {
   "codemirror_mode": {
    "name": "ipython",
    "version": 3
   },
   "file_extension": ".py",
   "mimetype": "text/x-python",
   "name": "python",
   "nbconvert_exporter": "python",
   "pygments_lexer": "ipython3",
   "version": "3.8.5"
  }
 },
 "nbformat": 4,
 "nbformat_minor": 5
}
