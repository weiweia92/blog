{
 "cells": [
  {
   "cell_type": "markdown",
   "metadata": {},
   "source": [
    "### eval\n",
    "\n",
    "`eval(expression, globals=None, locals=None)`  \n",
    "具体而言，`expression` 只能是单个表达式，不支持复杂的代码逻辑，例如赋值操作、循环语句等等  \n",
    "\n",
    "`globals` 用于指定运行时的全局命名空间，类型是字典，缺省时使用的是当前模块的内置命名空间。`locals` 指定运行时的局部命名空间，类型是字典，缺省时使用 `globals`的值。两者都缺省时，则遵循 `eval` 函数执行时的作用域。值得注意的是，这两者不代表真正的命名空间，只在运算时起作用，运算后则销毁。  \n",
    "\n",
    "### 如何将字符串常亮转为变量  \n",
    "\n",
    "Q:已知 `list = ['A', 'B', 'C', 'D']` , 如何才能得到以 `list` 中元素命名的新列表 `A = [], B = [], C = [], D = []`呢?"
   ]
  },
  {
   "cell_type": "markdown",
   "metadata": {},
   "source": [
    "answer1:"
   ]
  },
  {
   "cell_type": "code",
   "execution_count": 3,
   "metadata": {},
   "outputs": [],
   "source": [
    "list1 = ['A', 'B', 'C', 'D']\n",
    "for i in list1:\n",
    "    globals()[i] = []"
   ]
  },
  {
   "cell_type": "code",
   "execution_count": 4,
   "metadata": {},
   "outputs": [
    {
     "data": {
      "text/plain": [
       "[]"
      ]
     },
     "execution_count": 4,
     "metadata": {},
     "output_type": "execute_result"
    }
   ],
   "source": [
    "A"
   ]
  },
  {
   "cell_type": "markdown",
   "metadata": {},
   "source": [
    "answer2"
   ]
  },
  {
   "cell_type": "code",
   "execution_count": 5,
   "metadata": {},
   "outputs": [],
   "source": [
    "list1 = ['A', 'B', 'C', 'D']\n",
    "for i in list1:\n",
    "    exec(f\"{i} = []\")"
   ]
  },
  {
   "cell_type": "code",
   "execution_count": 6,
   "metadata": {},
   "outputs": [
    {
     "data": {
      "text/plain": [
       "[]"
      ]
     },
     "execution_count": 6,
     "metadata": {},
     "output_type": "execute_result"
    }
   ],
   "source": [
    "A"
   ]
  },
  {
   "cell_type": "code",
   "execution_count": 7,
   "metadata": {},
   "outputs": [],
   "source": [
    "list1 = ['A', 'B', 'C', 'D']\n",
    "for i in list1:\n",
    "    exec(i + \" = []\")"
   ]
  },
  {
   "cell_type": "code",
   "execution_count": 8,
   "metadata": {},
   "outputs": [
    {
     "data": {
      "text/plain": [
       "[]"
      ]
     },
     "execution_count": 8,
     "metadata": {},
     "output_type": "execute_result"
    }
   ],
   "source": [
    "B"
   ]
  },
  {
   "cell_type": "code",
   "execution_count": 9,
   "metadata": {},
   "outputs": [],
   "source": [
    "list1 = ['A', 'B', 'C', 'D']\n",
    "for i in list1:\n",
    "    exec(\"{} = []\".format(i))"
   ]
  },
  {
   "cell_type": "code",
   "execution_count": 10,
   "metadata": {},
   "outputs": [
    {
     "data": {
      "text/plain": [
       "[]"
      ]
     },
     "execution_count": 10,
     "metadata": {},
     "output_type": "execute_result"
    }
   ],
   "source": [
    "C"
   ]
  },
  {
   "cell_type": "code",
   "execution_count": 11,
   "metadata": {},
   "outputs": [],
   "source": [
    "list1 = ['A', 'B', 'C', 'D']\n",
    "for i in list1:\n",
    "    exec(''.join([i, '=[]']))"
   ]
  },
  {
   "cell_type": "code",
   "execution_count": 12,
   "metadata": {},
   "outputs": [
    {
     "data": {
      "text/plain": [
       "[]"
      ]
     },
     "execution_count": 12,
     "metadata": {},
     "output_type": "execute_result"
    }
   ],
   "source": [
    "D"
   ]
  },
  {
   "cell_type": "code",
   "execution_count": 1,
   "metadata": {},
   "outputs": [
    {
     "name": "stdout",
     "output_type": "stream",
     "text": [
      "a:  30\n",
      "x: 10 y: 20\n",
      "b:  3\n",
      "x: 10 y: 20\n",
      "c:  4\n"
     ]
    }
   ],
   "source": [
    "x = 10\n",
    "\n",
    "def func():\n",
    "    y = 20\n",
    "    a = eval('x + y')\n",
    "    print('a: ', a)\n",
    "    b = eval('x + y', {'x': 1, 'y': 2})\n",
    "    print('x: ' + str(x) + ' y: ' + str(y))\n",
    "    print('b: ', b)\n",
    "    c = eval('x + y', {'x': 1, 'y': 2}, {'y': 3, 'z': 4})\n",
    "    print('x: ' + str(x) + ' y: ' + str(y))\n",
    "    print('c: ', c)\n",
    "\n",
    "func()"
   ]
  },
  {
   "cell_type": "code",
   "execution_count": null,
   "metadata": {},
   "outputs": [],
   "source": []
  }
 ],
 "metadata": {
  "kernelspec": {
   "display_name": "Python 3",
   "language": "python",
   "name": "python3"
  },
  "language_info": {
   "codemirror_mode": {
    "name": "ipython",
    "version": 3
   },
   "file_extension": ".py",
   "mimetype": "text/x-python",
   "name": "python",
   "nbconvert_exporter": "python",
   "pygments_lexer": "ipython3",
   "version": "3.7.6"
  }
 },
 "nbformat": 4,
 "nbformat_minor": 4
}
