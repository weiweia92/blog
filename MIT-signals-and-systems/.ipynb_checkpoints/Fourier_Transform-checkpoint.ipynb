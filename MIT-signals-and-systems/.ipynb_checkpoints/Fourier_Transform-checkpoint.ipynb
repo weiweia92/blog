{
 "cells": [
  {
   "cell_type": "markdown",
   "id": "08139aec-69cc-4c21-8634-226a00865a1c",
   "metadata": {},
   "source": [
    "## 傅立叶变换系列知识\n",
    "\n",
    "### 傅立叶级数\n",
    "\n",
    "Any continuous signal in the time domain could be represented by a sum of carefully chosen sinusoids(不同相位不同振幅的正弦波叠加).**But why is sinusoids?**\n",
    "\n",
    "Because they are the only waveform that doesn't change shape when subjected to(服从于) a linear time-invariant system .\n",
    "\n",
    "如果函数f(x)是周期函数，那么f(x)可以展开成以正弦和余弦为基的线性组合。     \n",
    "假设f(x)的周期为$2\\pi$,选哪些频率呢？直觉上是选择     \n",
    "$sin(x),cos(x)$ &emsp;&emsp;&emsp;&emsp;$sin(x/2),cos(x/2)$不可以  \n",
    "$sin(2x),cos(2x)$ &emsp;&emsp;&emsp;$sin(x/3),cos(x/3)$不可以    \n",
    "'''&emsp;&emsp;&emsp;&emsp;&emsp;&emsp;&emsp;&emsp;&emsp;&emsp;$sin(8x/3),cos(8x/3)$不可以     \n",
    "$sin(nx),cos(nx) $                           \n",
    "$cos(0x)$常数     \n",
    "$2\\pi$ 是周期&emsp;&emsp;&emsp;&emsp;&emsp;&emsp;$2\\pi$不是周期的不能选为基  \n",
    "\n",
    "**选sin,还是cos,还是两个都要？** \n",
    "\n",
    "高中函数知识：函数$f(x)$可以表示成一个偶函数和一个奇函数的和  \n",
    "$$f(x)=\\frac{f(x)+f(-x)}{2}+\\frac{f(x)+f(-x)}{2}$$\n",
    "\n",
    "$f$为偶函数：只用$cos$     \n",
    "$f$为奇函数：只用$sin$        \n",
    "$f$非奇非偶：两个都要    \n",
    "根据以上可以得到周期$2\\pi$为函数的傅里叶级数（实数形式）    \n",
    "$$f(x)=a_0+\\sum_{n=1}^{\\infty}a_ncos(nx)+\\sum_{n=1}^{\\infty}b_nsin(nx),n\\in N,a_n,b_n\\in R$$\n",
    "\n",
    "**那么如何求出$a_n,b_n$?**     \n",
    "**计算函数相关性**"
   ]
  },
  {
   "cell_type": "markdown",
   "id": "b6c25c84-5b66-4d9a-9c3d-92113b32a565",
   "metadata": {},
   "source": [
    "$f(x)$与$g(x)$是两个$R->C$的函数，积分:$\\int_a^b f(x)\\overline{g(x)}dx$ 表征了他们在区间$[a, b]$上的相似度\n",
    "\n",
    "假如我们有一个函数     \n",
    "$f(x)=a_0+a_1cos(x)+a_2cos(2x)+b_1sin(x)+b_2sin(2x)$  \n",
    "\n",
    "$f(x)=f(x+2\\pi)$ &emsp;&emsp;&emsp;&emsp; $T=2\\pi$    \n",
    "\n",
    "$\\int_{-\\pi}^{\\pi}f(x)dx=\\int_{-\\pi}^{\\pi}a_0dx=2a_0\\pi\\longrightarrow a_0=\\frac{1}{2\\pi}\\int_{-\\pi}^{\\pi}f(x)dx$    \n",
    "\n",
    "$\\int_{-\\pi}^{\\pi}f(x)cos(x)dx=a_0\\int_{-\\pi}^{\\pi}cos(x)dx+a_1\\int_{-\\pi}^{\\pi}cos(x)cos(x)dx+a_2\\int_{-\\pi}^{\\pi}cos(2x)cos(x)dx$   \n",
    "\n",
    "$+b_1\\int_{-\\pi}^{\\pi}sin(x)cos(x)dx+b_2\\int_{-\\pi}^{\\pi}sin(2x)cos(x)dx=a_1 \\pi\\longrightarrow a_1=\\frac{1}{\\pi}\\int_{-\\pi}^{\\pi}f(x)cos(x)dx$   "
   ]
  },
  {
   "cell_type": "markdown",
   "id": "50d7ab84-5e1e-4c5f-b714-762f2f035694",
   "metadata": {},
   "source": [
    "这里应用了三角函数的正交性.  \n",
    "类似的。"
   ]
  }
 ],
 "metadata": {
  "kernelspec": {
   "display_name": "Python 3",
   "language": "python",
   "name": "python3"
  },
  "language_info": {
   "codemirror_mode": {
    "name": "ipython",
    "version": 3
   },
   "file_extension": ".py",
   "mimetype": "text/x-python",
   "name": "python",
   "nbconvert_exporter": "python",
   "pygments_lexer": "ipython3",
   "version": "3.8.5"
  }
 },
 "nbformat": 4,
 "nbformat_minor": 5
}
