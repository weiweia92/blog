{
 "cells": [
  {
   "cell_type": "code",
   "execution_count": null,
   "id": "eb4569ac-ff44-4f61-b56f-4d2c624a0833",
   "metadata": {},
   "outputs": [],
   "source": [
    "class TacotronEncoderCell(RNNCell):\n",
    "    \"\"\"Tacotron 2 Encoder Cell\n",
    "    Passes inputs through a stack of convolutional layers then through a bidirectional LSTM\n",
    "    layer to predict the hidden representation vector (or memory)\n",
    "    \"\"\"\n",
    "\n",
    "    def __init__(self, convolutional_layers, lstm_layer):\n",
    "        \"\"\"Initialize encoder parameters\n",
    "        Args:\n",
    "            convolutional_layers: Encoder convolutional block class\n",
    "            lstm_layer: encoder bidirectional lstm layer class\n",
    "        \"\"\"\n",
    "        super(TacotronEncoderCell, self).__init__()\n",
    "        #Initialize encoder layers\n",
    "        self._convolutions = convolutional_layers\n",
    "        self._cell = lstm_layer\n",
    "\n",
    "    def __call__(self, inputs, input_lengths=None):\n",
    "        #Pass input sequence through a stack of convolutional layers\n",
    "        conv_output = self._convolutions(inputs)\n",
    "\n",
    "        #Extract hidden representation from encoder lstm cells\n",
    "        hidden_representation = self._cell(conv_output, input_lengths)\n",
    "\n",
    "        #For shape visualization\n",
    "        self.conv_output_shape = conv_output.shape\n",
    "        return hidden_representation"
   ]
  },
  {
   "cell_type": "code",
   "execution_count": null,
   "id": "2c8d7cf5-2e1b-4ad0-8207-5f2eec16d9aa",
   "metadata": {},
   "outputs": [],
   "source": []
  }
 ],
 "metadata": {
  "kernelspec": {
   "display_name": "Python 3",
   "language": "python",
   "name": "python3"
  },
  "language_info": {
   "codemirror_mode": {
    "name": "ipython",
    "version": 3
   },
   "file_extension": ".py",
   "mimetype": "text/x-python",
   "name": "python",
   "nbconvert_exporter": "python",
   "pygments_lexer": "ipython3",
   "version": "3.8.5"
  }
 },
 "nbformat": 4,
 "nbformat_minor": 5
}
