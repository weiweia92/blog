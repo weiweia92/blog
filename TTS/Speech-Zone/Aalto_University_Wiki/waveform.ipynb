{
 "cells": [
  {
   "cell_type": "markdown",
   "id": "19b02f01-d736-4f36-bd4d-d1689f615162",
   "metadata": {},
   "source": []
  },
  {
   "cell_type": "markdown",
   "id": "7bb569cf-1771-4f06-b6ad-a4d28af040db",
   "metadata": {},
   "source": []
  }
 ],
 "metadata": {
  "kernelspec": {
   "display_name": "Python 3",
   "language": "python",
   "name": "python3"
  },
  "language_info": {
   "codemirror_mode": {
    "name": "ipython",
    "version": 3
   },
   "file_extension": ".py",
   "mimetype": "text/x-python",
   "name": "python",
   "nbconvert_exporter": "python",
   "pygments_lexer": "ipython3",
   "version": "3.8.5"
  }
 },
 "nbformat": 4,
 "nbformat_minor": 5
}
