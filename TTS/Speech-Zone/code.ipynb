{
 "cells": [
  {
   "cell_type": "markdown",
   "id": "a19ea238-dbfa-47b6-823e-85d9db3e1064",
   "metadata": {},
   "source": [
    "## 读取音频\n",
    "\n",
    "### wav库\n",
    "\n",
    "wave库是python的标准库，对于python来说相对底层，wave不支持压缩/解压，但支持单声道/立体声语音的读取。"
   ]
  },
  {
   "cell_type": "code",
   "execution_count": 9,
   "id": "d8f73c9b-f59c-4f2b-86d9-3a7a69eb08ea",
   "metadata": {},
   "outputs": [
    {
     "data": {
      "text/plain": [
       "<wave.Wave_read at 0x7fb2c2fcfaf0>"
      ]
     },
     "execution_count": 9,
     "metadata": {},
     "output_type": "execute_result"
    }
   ],
   "source": [
    "import wave\n",
    "wave_read = wave.open('./1.wav',mode='rb')\n",
    "wave_read"
   ]
  },
  {
   "cell_type": "code",
   "execution_count": 3,
   "id": "e66c7f76-0466-4e40-8890-c4c1f89a8c8a",
   "metadata": {},
   "outputs": [],
   "source": [
    "params = wave_read.getparams() #返回(nchannels, sampwidth(量化位数), samplerate, nframes(采样点数),comptype(压缩类型),compname(压缩类型的描述))\n",
    "nchannels, sampwidth, samplerate, nframes = params[:4]"
   ]
  },
  {
   "cell_type": "code",
   "execution_count": 4,
   "id": "257d758d-f5ee-4db4-93a3-6b1bfb961150",
   "metadata": {},
   "outputs": [
    {
     "data": {
      "text/plain": [
       "1"
      ]
     },
     "execution_count": 4,
     "metadata": {},
     "output_type": "execute_result"
    }
   ],
   "source": [
    "nchannels"
   ]
  },
  {
   "cell_type": "code",
   "execution_count": 5,
   "id": "6c5350db-61a4-4bc4-92d6-9dfc721d7dfc",
   "metadata": {},
   "outputs": [
    {
     "data": {
      "text/plain": [
       "2"
      ]
     },
     "execution_count": 5,
     "metadata": {},
     "output_type": "execute_result"
    }
   ],
   "source": [
    "sampwidth"
   ]
  },
  {
   "cell_type": "code",
   "execution_count": 6,
   "id": "f12ca375-7a8a-4138-85be-da8b0282a010",
   "metadata": {},
   "outputs": [
    {
     "data": {
      "text/plain": [
       "24000"
      ]
     },
     "execution_count": 6,
     "metadata": {},
     "output_type": "execute_result"
    }
   ],
   "source": [
    "samplerate"
   ]
  },
  {
   "cell_type": "code",
   "execution_count": 7,
   "id": "73052f21-47fb-4e3e-b340-77f0d94d4ae2",
   "metadata": {},
   "outputs": [
    {
     "data": {
      "text/plain": [
       "114900"
      ]
     },
     "execution_count": 7,
     "metadata": {},
     "output_type": "execute_result"
    }
   ],
   "source": [
    "nframes"
   ]
  },
  {
   "cell_type": "code",
   "execution_count": 10,
   "id": "a5a2cca7-6e29-48d3-964d-d3c20c2bd590",
   "metadata": {},
   "outputs": [],
   "source": [
    "str_data = wave_read.readframes(nframes) #读取的长度(以取样点为单位)，返回的是字符串类型的数据"
   ]
  },
  {
   "cell_type": "code",
   "execution_count": 16,
   "id": "f21aaae5-02b6-4ca0-88b6-1572a7a02dc0",
   "metadata": {},
   "outputs": [],
   "source": [
    "import numpy as np\n",
    "wave_data = np.frombuffer(str_data) #将上面字符串类型数据转换为一维float16类型的数组。"
   ]
  },
  {
   "cell_type": "code",
   "execution_count": 17,
   "id": "550cf627-03e5-4baa-852c-35d9b4f4e4a9",
   "metadata": {},
   "outputs": [
    {
     "data": {
      "text/plain": [
       "array([-8.98832852e+307, -8.98832852e+307, -8.98832852e+307, ...,\n",
       "       -8.98832852e+307, -8.98832852e+307, -8.98832852e+307])"
      ]
     },
     "execution_count": 17,
     "metadata": {},
     "output_type": "execute_result"
    }
   ],
   "source": [
    "wave_data"
   ]
  },
  {
   "cell_type": "code",
   "execution_count": null,
   "id": "4a4466cf-e27b-4339-9768-600e04f1db12",
   "metadata": {},
   "outputs": [],
   "source": []
  }
 ],
 "metadata": {
  "kernelspec": {
   "display_name": "Python 3",
   "language": "python",
   "name": "python3"
  },
  "language_info": {
   "codemirror_mode": {
    "name": "ipython",
    "version": 3
   },
   "file_extension": ".py",
   "mimetype": "text/x-python",
   "name": "python",
   "nbconvert_exporter": "python",
   "pygments_lexer": "ipython3",
   "version": "3.8.5"
  }
 },
 "nbformat": 4,
 "nbformat_minor": 5
}
