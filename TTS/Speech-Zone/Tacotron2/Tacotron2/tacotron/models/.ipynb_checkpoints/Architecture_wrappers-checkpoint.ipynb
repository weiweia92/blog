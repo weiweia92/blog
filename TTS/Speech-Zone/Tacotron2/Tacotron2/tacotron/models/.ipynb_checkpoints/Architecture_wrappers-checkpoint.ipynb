{
 "cells": [
  {
   "cell_type": "code",
   "execution_count": null,
   "id": "3088d01d-2567-452d-a7e9-f93981a97d36",
   "metadata": {},
   "outputs": [],
   "source": [
    "\"\"\"A set of wrappers usefull for tacotron 2 architecture\n",
    "All notations and variable names were used in concordance with originial tensorflow implementation\n",
    "\"\"\"\n",
    "import collections\n",
    "\n",
    "import numpy as np\n",
    "import tensorflow as tf\n",
    "from tacotron.models.attention import _compute_attention\n",
    "from tensorflow.contrib.rnn import RNNCell\n",
    "from tensorflow.python.framework import ops, tensor_shape\n",
    "from tensorflow.python.ops import array_ops, check_ops, rnn_cell_impl, tensor_array_ops\n",
    "from tensorflow.python.util import nest\n",
    "\n",
    "_zero_state_tensors = rnn_cell_impl._zero_state_tensors"
   ]
  },
  {
   "cell_type": "code",
   "execution_count": null,
   "id": "9ef28dcf-d8bd-4daa-b5f5-943d7351e5ec",
   "metadata": {},
   "outputs": [],
   "source": [
    "class TacotronEncoderCell(RNNCell):\n",
    "    \"\"\"Tacotron 2 Encoder Cell\n",
    "    Passes inputs through a stack of convolutional layers then through a bidirectional LSTM\n",
    "    layer to predict the hidden representation vector (or memory)\n",
    "    \"\"\"\n",
    "\n",
    "    def __init__(self, convolutional_layers, lstm_layer):\n",
    "        \"\"\"Initialize encoder parameters\n",
    "        Args:\n",
    "            convolutional_layers: Encoder convolutional block class\n",
    "            lstm_layer: encoder bidirectional lstm layer class\n",
    "        \"\"\"\n",
    "        super(TacotronEncoderCell, self).__init__()\n",
    "        #Initialize encoder layers\n",
    "        self._convolutions = convolutional_layers\n",
    "        self._cell = lstm_layer\n",
    "\n",
    "    def __call__(self, inputs, input_lengths=None):\n",
    "        #Pass input sequence through a stack of convolutional layers\n",
    "        conv_output = self._convolutions(inputs)\n",
    "        \n",
    "        #Extract hidden representation from encoder lstm cells\n",
    "        hidden_representation = self._cell(conv_output, input_lengths)\n",
    "\n",
    "        #For shape visualization\n",
    "        self.conv_output_shape = conv_output.shape\n",
    "        return hidden_representation"
   ]
  }
 ],
 "metadata": {
  "kernelspec": {
   "display_name": "Python 3",
   "language": "python",
   "name": "python3"
  },
  "language_info": {
   "codemirror_mode": {
    "name": "ipython",
    "version": 3
   },
   "file_extension": ".py",
   "mimetype": "text/x-python",
   "name": "python",
   "nbconvert_exporter": "python",
   "pygments_lexer": "ipython3",
   "version": "3.8.5"
  }
 },
 "nbformat": 4,
 "nbformat_minor": 5
}
