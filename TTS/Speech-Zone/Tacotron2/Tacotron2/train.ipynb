{
 "cells": [
  {
   "cell_type": "code",
   "execution_count": null,
   "id": "846d959a-ebf6-4b94-a2eb-71133f7782c8",
   "metadata": {},
   "outputs": [],
   "source": [
    "import argparse\n",
    "import os\n",
    "from time import sleep\n",
    "\n",
    "import infolog\n",
    "import tensorflow as tf\n",
    "from hparams import hparams\n",
    "from infolog import log\n",
    "from tacotron.synthesize import tacotron_synthesize\n",
    "from tacotron.train import tacotron_train\n",
    "from wavenet_vocoder.train import wavenet_train\n",
    "\n",
    "log = infolog.log"
   ]
  }
 ],
 "metadata": {
  "kernelspec": {
   "display_name": "Python 3",
   "language": "python",
   "name": "python3"
  },
  "language_info": {
   "codemirror_mode": {
    "name": "ipython",
    "version": 3
   },
   "file_extension": ".py",
   "mimetype": "text/x-python",
   "name": "python",
   "nbconvert_exporter": "python",
   "pygments_lexer": "ipython3",
   "version": "3.8.5"
  }
 },
 "nbformat": 4,
 "nbformat_minor": 5
}
