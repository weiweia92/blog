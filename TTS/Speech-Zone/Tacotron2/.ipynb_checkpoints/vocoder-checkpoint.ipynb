{
 "cells": [
  {
   "cell_type": "markdown",
   "id": "f6097ea5-64ea-4297-bf32-99b2883c342c",
   "metadata": {},
   "source": [
    "### Griffin-Lim\n",
    "\n",
    "Griffin-Lim是在仅已知幅度谱、不知道相位谱的条件下重建语音的算法。其实语音合成汇总常使用 Mel-spectrum 和 linear-spectrum，里面均缺少相位信息。\n",
    "\n",
    "Griffin-Lim是一种声码器，常用于语音合成，用于将语音合成系统生成的声学参数转换成语音波形，这种声码器不需要训练，不需要预知相位谱，而是通过**帧与帧之间的关系估计相位信息**，从而重建语音波形。\n",
    "\n",
    "算法的实现极其简单。它是一个迭代算法，迭代过程如下：\n",
    "\n",
    "先随机初始化一个相位谱；\n",
    "\n",
    "1. 用相位谱和已知的幅度谱经过ISTFT合成新语音；\n",
    "\n",
    "2. 对合成的语音做STFT，得到新的幅度谱和相位谱；\n",
    "\n",
    "3. 丢弃新的幅度谱，用相位谱和已知的幅度谱合成语音，如此重复。\n",
    "\n",
    "### Vocoder\n",
    "\n",
    "声码器是一种将声学参数转换成语音波形的工具。griffin-lim是一种较为经典的声码器，算法简单，高效。\n",
    "\n",
    "另外较多使用的vocoder有：\n",
    "\n",
    "- WORLD \n",
    "\n",
    "- STRAIGHT及其变种； \n",
    "\n",
    "- WaveNet:可训练的基于深度神经网络的声码器，可生成高质量的语音波形，但是为了扩展其感受野，速度慢且复杂度高\n",
    "\n",
    "- WaveRNN:可训练的基于深度神经网络的声码器，可生成高质量高保真的语音波形， 速度相较于WaveNet有提升，在使用折叠并且硬件较充足的条件下，合成速度较快\n",
    "\n",
    "- LPCNet:是一种新提出的可使用CPU即可实现重建波形的vocoder,主要思想是，语音是线性信号和非线性信号的有机组合，而DSP（数字信号处理）技术足以胜任其中的线性信号运算，非线性信号的处理可以交给神经网络学习得到，这种声码器速度得到了极大的提升，有望于应用于移动端。\n",
    "\n",
    "- 另有较为常用的声码器及其变种， 如Multiband-WaveRnn, Parallel WaveNet, WaveGlow, FlowWaveNet, Parallel WaveGan, MelGan, MB-MelGAN\n",
    "\n",
    "### 声码器重建语音\n",
    "\n",
    "Mel 谱为例\n",
    "\n",
    "- Mel谱转成幅度谱\n",
    "\n",
    "- 幅度谱用Griffin-Lim算法重建波形\n",
    "\n",
    "- 去加重"
   ]
  }
 ],
 "metadata": {
  "kernelspec": {
   "display_name": "Python 3",
   "language": "python",
   "name": "python3"
  },
  "language_info": {
   "codemirror_mode": {
    "name": "ipython",
    "version": 3
   },
   "file_extension": ".py",
   "mimetype": "text/x-python",
   "name": "python",
   "nbconvert_exporter": "python",
   "pygments_lexer": "ipython3",
   "version": "3.8.5"
  }
 },
 "nbformat": 4,
 "nbformat_minor": 5
}
