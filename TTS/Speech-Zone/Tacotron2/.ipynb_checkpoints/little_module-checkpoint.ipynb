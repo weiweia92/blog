{
 "cells": [
  {
   "cell_type": "markdown",
   "id": "c43121f8-0fd9-4737-ad4a-ba3051540109",
   "metadata": {},
   "source": [
    "### 1. ZoneoutLSTM\n",
    "\n",
    "https://arxiv.org/abs/1606.01305\n",
    "它不是单独的cell,而是指训练时的一个trick.\n",
    "\n",
    "A novel method for regularizing RNNs. At each timestep, zoneout stochastically forces some hidden units to maintain their previous values. Like dropout, zoneout uses random noise to train a pseudo-ensemble(伪集成), improving generalization. 它使用随机\"identity-masking\"而不是\"zero-masking\"来注入噪声。我们推测identity-masking更适合RNN,因为它使网络更容易保留前一个时刻的信息，并且有助于而不是阻碍梯度信息向后流动 But by preserving instead of dropping hidden units, gradient information and state information are more readily propagated(更容易传播) through time, as in feedforward stochastic depth networks. "
   ]
  },
  {
   "cell_type": "code",
   "execution_count": null,
   "id": "5286a4b7-c693-4fb9-ade8-3ba5f876e43f",
   "metadata": {},
   "outputs": [],
   "source": []
  }
 ],
 "metadata": {
  "kernelspec": {
   "display_name": "Python 3",
   "language": "python",
   "name": "python3"
  },
  "language_info": {
   "codemirror_mode": {
    "name": "ipython",
    "version": 3
   },
   "file_extension": ".py",
   "mimetype": "text/x-python",
   "name": "python",
   "nbconvert_exporter": "python",
   "pygments_lexer": "ipython3",
   "version": "3.8.5"
  }
 },
 "nbformat": 4,
 "nbformat_minor": 5
}
