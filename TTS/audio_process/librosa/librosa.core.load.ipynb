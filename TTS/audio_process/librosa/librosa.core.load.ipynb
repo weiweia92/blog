{
 "cells": [
  {
   "cell_type": "markdown",
   "id": "7ffaa953-795a-47c2-bae5-ff1d11537b5a",
   "metadata": {},
   "source": [
    "## librosa.core.load\n",
    "\n",
    "将音频文件加载为浮点型时间序列     \n",
    "\n",
    "`librosa.core.load(path, sr=22050, mono=True, offset=0.0, duration=None, dtype=<class 'numpy.float32'>, res_type='kaiser_best')`\n",
    "\n",
    "**参数**:      \n",
    "* path: path to the input file\n",
    "* sr: sample rate\n",
    "* mono: whether to convert signal to mono(单通道)\n",
    "* offset: start reading after this time\n",
    "* duration\n",
    "* dtype:numeric type\n",
    "* res_type: resample type(重采样类型)By default, high-quality mode('kaiser_best')\n",
    "\n",
    "**return**:     \n",
    "* y: np.ndarray    \n",
    "  shape=(n,) or (2,n)     \n",
    "* sr:sample rate of y"
   ]
  },
  {
   "cell_type": "code",
   "execution_count": 9,
   "id": "a0fef479-c039-4517-8e15-b978c71ff232",
   "metadata": {},
   "outputs": [],
   "source": [
    "import librosa\n",
    "import numpy as np"
   ]
  },
  {
   "cell_type": "code",
   "execution_count": 4,
   "id": "85ff7b4d-5cbe-49c1-9034-e174bc943d47",
   "metadata": {},
   "outputs": [],
   "source": [
    "y, sr = librosa.core.load('./26.wav')   # default sample rate is 22050"
   ]
  },
  {
   "cell_type": "code",
   "execution_count": 5,
   "id": "e744a409-7be5-4b82-be3e-aa054b6b15e9",
   "metadata": {},
   "outputs": [
    {
     "data": {
      "text/plain": [
       "array([ 1.7979363e-03, -1.5968607e-03,  3.7281453e-03, ...,\n",
       "        2.3300019e-05, -1.6454851e-05,  0.0000000e+00], dtype=float32)"
      ]
     },
     "execution_count": 5,
     "metadata": {},
     "output_type": "execute_result"
    }
   ],
   "source": [
    "y"
   ]
  },
  {
   "cell_type": "code",
   "execution_count": 6,
   "id": "50728e23-98ae-4978-b39e-e8d9e6d0dc22",
   "metadata": {},
   "outputs": [
    {
     "data": {
      "text/plain": [
       "(14972,)"
      ]
     },
     "execution_count": 6,
     "metadata": {},
     "output_type": "execute_result"
    }
   ],
   "source": [
    "y.shape"
   ]
  },
  {
   "cell_type": "code",
   "execution_count": 7,
   "id": "426060cd-8e7c-4996-b9d3-46b9ca5d8a61",
   "metadata": {},
   "outputs": [
    {
     "data": {
      "text/plain": [
       "22050"
      ]
     },
     "execution_count": 7,
     "metadata": {},
     "output_type": "execute_result"
    }
   ],
   "source": [
    "sr"
   ]
  },
  {
   "cell_type": "code",
   "execution_count": 10,
   "id": "1ea448be-058f-47a9-bcb4-ccb427d81ebf",
   "metadata": {},
   "outputs": [],
   "source": [
    "y *= 32767 / max(0.01, np.max(np.abs(y)))"
   ]
  },
  {
   "cell_type": "code",
   "execution_count": 11,
   "id": "75fc87c4-4dc8-4d56-a574-9415475a2c5e",
   "metadata": {},
   "outputs": [
    {
     "data": {
      "text/plain": [
       "array([ 67.4158    , -59.876232  , 139.79134   , ...,   0.87366253,\n",
       "        -0.6169946 ,   0.        ], dtype=float32)"
      ]
     },
     "execution_count": 11,
     "metadata": {},
     "output_type": "execute_result"
    }
   ],
   "source": [
    "y"
   ]
  },
  {
   "cell_type": "code",
   "execution_count": null,
   "id": "ce0651ee-51cb-4fa6-b866-6ca579fd795c",
   "metadata": {},
   "outputs": [],
   "source": []
  }
 ],
 "metadata": {
  "kernelspec": {
   "display_name": "Python 3",
   "language": "python",
   "name": "python3"
  },
  "language_info": {
   "codemirror_mode": {
    "name": "ipython",
    "version": 3
   },
   "file_extension": ".py",
   "mimetype": "text/x-python",
   "name": "python",
   "nbconvert_exporter": "python",
   "pygments_lexer": "ipython3",
   "version": "3.8.5"
  }
 },
 "nbformat": 4,
 "nbformat_minor": 5
}
