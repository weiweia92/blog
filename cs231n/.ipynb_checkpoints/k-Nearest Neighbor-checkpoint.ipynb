{
 "cells": [
  {
   "cell_type": "markdown",
   "metadata": {},
   "source": [
    "### CIFAR-10 dataset\n",
    "\n",
    "**数据集包含了6个文件，其中5个为训练集文件，1个为测试集文件。\n",
    "每个文件都是一个由cPickle生成的Python \"pickled\"对象。\n",
    "可以使用官方提供的'unpickle()'函数来加载此类文件，函数返回一个字典（dictionary）。**\n",
    "\n",
    "文件列表  \n",
    "\n",
    "训练集部分： 50,000张图片  \n",
    "`data_batch_1`：训练集`batch_1`，含`10000`张`32 * 32`的点阵图  \n",
    "`data_batch_2`：训练集`batch_2`，含`10000`张`32 * 32`的点阵图  \n",
    "`data_batch_3`：训练集`batch_3`，含`10000`张`32 * 32`的点阵图  \n",
    "`data_batch_4`：训练集`batch_4`，含`10000`张`32 * 32`的点阵图  \n",
    "`data_batch_5`：训练集`batch_5`，含`10000`张`32 * 32`的点阵图  \n",
    "测试集部分:  \n",
    "`test_batch`：测试集`test_batch`，含`10000`张`32 * 32`的点阵图  \n",
    "类别名字  \n",
    "`batches.meta`：包含一个`Python`字典对象，条目内容如下：  \n",
    "`label_names`: 是一个包含10个元素的列表，赋予了类别列表中数字类别真正意义上的名字。比如，  \n",
    "`label_names[0] == \"airplane\" `飞机✈️  \n",
    "`label_names[1] == \"automobile\"`汽车🚗  \n",
    "`label_names[2] == \"bird\"`鸟🐦  \n",
    "`label_names[3] == \"cat\"`猫🐈  \n",
    "等等。  \n",
    "\n",
    "`cifar-10` 数据以字典的形式存储，`key`为:`dict_keys([b’batch_label’, b’labels’, b’data’, b’filenames’])`，也就是说包含四个内容:`batch_label`，标签，图像数据，图片对应的文件名。通过一下函数加载："
   ]
  },
  {
   "cell_type": "code",
   "execution_count": 21,
   "metadata": {},
   "outputs": [],
   "source": [
    "data_meta = unPickle('/home/weiweia92/Downloads/cifar-10-python/cifar-10-batches-py/batches.meta')"
   ]
  },
  {
   "cell_type": "code",
   "execution_count": 22,
   "metadata": {},
   "outputs": [
    {
     "data": {
      "text/plain": [
       "{b'num_cases_per_batch': 10000,\n",
       " b'label_names': [b'airplane',\n",
       "  b'automobile',\n",
       "  b'bird',\n",
       "  b'cat',\n",
       "  b'deer',\n",
       "  b'dog',\n",
       "  b'frog',\n",
       "  b'horse',\n",
       "  b'ship',\n",
       "  b'truck'],\n",
       " b'num_vis': 3072}"
      ]
     },
     "execution_count": 22,
     "metadata": {},
     "output_type": "execute_result"
    }
   ],
   "source": [
    "data_meta"
   ]
  },
  {
   "cell_type": "code",
   "execution_count": 32,
   "metadata": {},
   "outputs": [
    {
     "data": {
      "text/plain": [
       "[b'airplane',\n",
       " b'automobile',\n",
       " b'bird',\n",
       " b'cat',\n",
       " b'deer',\n",
       " b'dog',\n",
       " b'frog',\n",
       " b'horse',\n",
       " b'ship',\n",
       " b'truck']"
      ]
     },
     "execution_count": 32,
     "metadata": {},
     "output_type": "execute_result"
    }
   ],
   "source": [
    "data_meta[b'label_names']"
   ]
  },
  {
   "cell_type": "code",
   "execution_count": 70,
   "metadata": {},
   "outputs": [
    {
     "data": {
      "text/plain": [
       "array([b'airplane', b'automobile', b'bird', b'cat', b'deer', b'dog',\n",
       "       b'frog', b'horse', b'ship', b'truck'], dtype='|S10')"
      ]
     },
     "execution_count": 70,
     "metadata": {},
     "output_type": "execute_result"
    }
   ],
   "source": [
    "import numpy as np\n",
    "np.array(data_meta[b'label_names'])"
   ]
  },
  {
   "cell_type": "code",
   "execution_count": 50,
   "metadata": {},
   "outputs": [
    {
     "data": {
      "text/plain": [
       "'airplane'"
      ]
     },
     "execution_count": 50,
     "metadata": {},
     "output_type": "execute_result"
    }
   ],
   "source": [
    "data_meta[b'label_names'][0].decode('utf-8')"
   ]
  },
  {
   "cell_type": "markdown",
   "metadata": {},
   "source": [
    "在用深度学习的方法做目标分类时，会遇到创建数据集的问题。比如说需要创建200类，每类目标存放500张图片。这样就需要首先建立200个不同名称的文件夹。然而，如果一个个创建显然要不得，因此，就有了以下的代码："
   ]
  },
  {
   "cell_type": "code",
   "execution_count": 47,
   "metadata": {},
   "outputs": [],
   "source": [
    "import os\n",
    "\n",
    "root_path_train = '/home/weiweia92/Downloads/cifar-10-python/cifar-10-batches-py/train/'\n",
    "def Mkdir(path):\n",
    "    i = 0\n",
    "    for i in data_meta[b'label_names']:\n",
    "        i = i.decode('utf-8')\n",
    "        dir_name = path + str(i)\n",
    "        os.mkdir(dir_name)\n",
    "Mkdir(root_path_train)"
   ]
  },
  {
   "cell_type": "code",
   "execution_count": 48,
   "metadata": {},
   "outputs": [],
   "source": [
    "root_path_test = '/home/weiweia92/Downloads/cifar-10-python/cifar-10-batches-py/test/'\n",
    "Mkdir(root_path_test)"
   ]
  },
  {
   "cell_type": "code",
   "execution_count": 58,
   "metadata": {},
   "outputs": [],
   "source": [
    "def unPickle(file):\n",
    "    import pickle as pk\n",
    "    with open(file, 'rb') as f:\n",
    "        d = pk.load(f, encoding='bytes')\n",
    "    return d"
   ]
  },
  {
   "cell_type": "code",
   "execution_count": 59,
   "metadata": {},
   "outputs": [],
   "source": [
    "data = unPickle('/home/weiweia92/Downloads/cifar-10-python/cifar-10-batches-py/data_batch_1')"
   ]
  },
  {
   "cell_type": "code",
   "execution_count": 60,
   "metadata": {},
   "outputs": [
    {
     "data": {
      "text/plain": [
       "dict_keys([b'batch_label', b'labels', b'data', b'filenames'])"
      ]
     },
     "execution_count": 60,
     "metadata": {},
     "output_type": "execute_result"
    }
   ],
   "source": [
    "data.keys()"
   ]
  },
  {
   "cell_type": "code",
   "execution_count": 61,
   "metadata": {},
   "outputs": [],
   "source": [
    "img = data[b'data']"
   ]
  },
  {
   "cell_type": "code",
   "execution_count": 62,
   "metadata": {},
   "outputs": [
    {
     "data": {
      "text/plain": [
       "array([[ 59,  43,  50, ..., 140,  84,  72],\n",
       "       [154, 126, 105, ..., 139, 142, 144],\n",
       "       [255, 253, 253, ...,  83,  83,  84],\n",
       "       ...,\n",
       "       [ 71,  60,  74, ...,  68,  69,  68],\n",
       "       [250, 254, 211, ..., 215, 255, 254],\n",
       "       [ 62,  61,  60, ..., 130, 130, 131]], dtype=uint8)"
      ]
     },
     "execution_count": 62,
     "metadata": {},
     "output_type": "execute_result"
    }
   ],
   "source": [
    "img"
   ]
  },
  {
   "cell_type": "code",
   "execution_count": 63,
   "metadata": {},
   "outputs": [
    {
     "data": {
      "text/plain": [
       "(10000, 3072)"
      ]
     },
     "execution_count": 63,
     "metadata": {},
     "output_type": "execute_result"
    }
   ],
   "source": [
    "img.shape"
   ]
  },
  {
   "cell_type": "code",
   "execution_count": 76,
   "metadata": {},
   "outputs": [
    {
     "name": "stdout",
     "output_type": "stream",
     "text": [
      "(50000, 3072)\n"
     ]
    }
   ],
   "source": [
    "batch_data_list = ['data_batch_1','data_batch_2','data_batch_3','data_batch_4','data_batch_5']\n",
    "for i in range(1, len(batch_data_list)+1):\n",
    "    train_data_dict= unPickle('/home/weiweia92/Downloads/cifar-10-python/cifar-10-batches-py/' + '/data_batch_{}'.format(i))\n",
    "    if i == 1:\n",
    "        train_data = train_data_dict[b'data']\n",
    "    else:\n",
    "        train_data = np.vstack((train_data, train_data_dict[b'data']))\n",
    "print(train_data.shape)"
   ]
  },
  {
   "cell_type": "code",
   "execution_count": 79,
   "metadata": {},
   "outputs": [],
   "source": [
    "test_data_dict= unPickle('/home/weiweia92/Downloads/cifar-10-python/cifar-10-batches-py/test_batch')"
   ]
  },
  {
   "cell_type": "code",
   "execution_count": null,
   "metadata": {},
   "outputs": [],
   "source": []
  },
  {
   "cell_type": "code",
   "execution_count": 77,
   "metadata": {},
   "outputs": [],
   "source": [
    "img_0 = img[0] #得到第一张图片"
   ]
  },
  {
   "cell_type": "code",
   "execution_count": 17,
   "metadata": {},
   "outputs": [
    {
     "data": {
      "text/plain": [
       "array([ 59,  43,  50, ..., 140,  84,  72], dtype=uint8)"
      ]
     },
     "execution_count": 17,
     "metadata": {},
     "output_type": "execute_result"
    }
   ],
   "source": [
    "img_0"
   ]
  },
  {
   "cell_type": "code",
   "execution_count": 18,
   "metadata": {},
   "outputs": [],
   "source": [
    "img_reshape = img_0.reshape(3,32,32)"
   ]
  },
  {
   "cell_type": "code",
   "execution_count": 19,
   "metadata": {},
   "outputs": [
    {
     "data": {
      "text/plain": [
       "array([[[ 59,  43,  50, ..., 158, 152, 148],\n",
       "        [ 16,   0,  18, ..., 123, 119, 122],\n",
       "        [ 25,  16,  49, ..., 118, 120, 109],\n",
       "        ...,\n",
       "        [208, 201, 198, ..., 160,  56,  53],\n",
       "        [180, 173, 186, ..., 184,  97,  83],\n",
       "        [177, 168, 179, ..., 216, 151, 123]],\n",
       "\n",
       "       [[ 62,  46,  48, ..., 132, 125, 124],\n",
       "        [ 20,   0,   8, ...,  88,  83,  87],\n",
       "        [ 24,   7,  27, ...,  84,  84,  73],\n",
       "        ...,\n",
       "        [170, 153, 161, ..., 133,  31,  34],\n",
       "        [139, 123, 144, ..., 148,  62,  53],\n",
       "        [144, 129, 142, ..., 184, 118,  92]],\n",
       "\n",
       "       [[ 63,  45,  43, ..., 108, 102, 103],\n",
       "        [ 20,   0,   0, ...,  55,  50,  57],\n",
       "        [ 21,   0,   8, ...,  50,  50,  42],\n",
       "        ...,\n",
       "        [ 96,  34,  26, ...,  70,   7,  20],\n",
       "        [ 96,  42,  30, ...,  94,  34,  34],\n",
       "        [116,  94,  87, ..., 140,  84,  72]]], dtype=uint8)"
      ]
     },
     "execution_count": 19,
     "metadata": {},
     "output_type": "execute_result"
    }
   ],
   "source": [
    "img_reshape"
   ]
  },
  {
   "cell_type": "code",
   "execution_count": 20,
   "metadata": {},
   "outputs": [
    {
     "data": {
      "image/png": "[encoded data removed]",
      "text/plain": [
       "<Figure size 432x288 with 1 Axes>"
      ]
     },
     "metadata": {
      "needs_background": "light"
     },
     "output_type": "display_data"
    }
   ],
   "source": [
    "import PIL.Image as image\n",
    "import matplotlib.pyplot as plt\n",
    "r = image.fromarray(img_reshape[0]).convert('L')\n",
    "g = image.fromarray(img_reshape[1]).convert('L')\n",
    "b = image.fromarray(img_reshape[2]).convert('L')\n",
    "img_m = image.merge('RGB',(r,g,b))\n",
    "plt.imshow(img_m)\n",
    "plt.show()"
   ]
  },
  {
   "cell_type": "code",
   "execution_count": 24,
   "metadata": {},
   "outputs": [],
   "source": [
    "import numpy as np\n",
    "import imageio"
   ]
  },
  {
   "cell_type": "code",
   "execution_count": 49,
   "metadata": {},
   "outputs": [
    {
     "name": "stdout",
     "output_type": "stream",
     "text": [
      "load data...\n",
      "dict_keys([b'batch_label', b'labels', b'data', b'filenames'])\n",
      "tranfering data_batch1\n",
      "load data...\n",
      "dict_keys([b'batch_label', b'labels', b'data', b'filenames'])\n",
      "tranfering data_batch2\n",
      "load data...\n",
      "dict_keys([b'batch_label', b'labels', b'data', b'filenames'])\n",
      "tranfering data_batch3\n",
      "load data...\n",
      "dict_keys([b'batch_label', b'labels', b'data', b'filenames'])\n",
      "tranfering data_batch4\n",
      "load data...\n",
      "dict_keys([b'batch_label', b'labels', b'data', b'filenames'])\n",
      "tranfering data_batch5\n"
     ]
    }
   ],
   "source": [
    "def unpickle(file):\n",
    "    import pickle\n",
    "    with open(file, 'rb') as fo:\n",
    "        dict = pickle.load(fo, encoding='bytes')\n",
    "    return dict\n",
    "\n",
    "filename = '/home/weiweia92/Downloads/cifar-10-python/cifar-10-batches-py'\n",
    "\n",
    "meta = unpickle(filename+'/batches.meta')\n",
    "label_name = meta[b'label_names']\n",
    "\n",
    "for i in range(1,6):\n",
    "    content = unpickle(filename+'/data_batch_'+str(i))\n",
    "    print('load data...')\n",
    "    print(content.keys())\n",
    "    print('tranfering data_batch' + str(i))\n",
    "    for j in range(10000):\n",
    "        img = content[b'data'][j]\n",
    "        img = img.reshape(3,32,32)\n",
    "        img = img.transpose(1,2,0)\n",
    "        img_name = '/home/weiweia92/Downloads/cifar-10-python/cifar-10-batches-py/train/'+label_name[content[b'labels'][j]].decode() + '/batch_' + str(i) + '_num_' + str(j) +'.jpg'\n",
    "        imageio.imwrite(img_name, img)"
   ]
  },
  {
   "cell_type": "code",
   "execution_count": 44,
   "metadata": {},
   "outputs": [
    {
     "name": "stdout",
     "output_type": "stream",
     "text": [
      "dict_keys([b'batch_label', b'labels', b'data', b'filenames'])\n"
     ]
    }
   ],
   "source": [
    "content_test = unpickle(filename+'/test_batch')\n",
    "print(content_test.keys())"
   ]
  },
  {
   "cell_type": "code",
   "execution_count": 55,
   "metadata": {},
   "outputs": [],
   "source": [
    "for j in range(10000):\n",
    "    img = content_test[b'data'][j]\n",
    "    img = img.reshape(3,32,32)\n",
    "    img = img.transpose(1,2,0)\n",
    "    img_name = '/home/weiweia92/Downloads/cifar-10-python/cifar-10-batches-py/test/'+label_name[content_test[b'labels'][j]].decode() + '/'+str(j) +'.jpg'\n",
    "    imageio.imwrite(img_name, img)"
   ]
  },
  {
   "cell_type": "code",
   "execution_count": null,
   "metadata": {},
   "outputs": [],
   "source": []
  },
  {
   "cell_type": "code",
   "execution_count": null,
   "metadata": {},
   "outputs": [],
   "source": []
  }
 ],
 "metadata": {
  "kernelspec": {
   "display_name": "Python 3",
   "language": "python",
   "name": "python3"
  },
  "language_info": {
   "codemirror_mode": {
    "name": "ipython",
    "version": 3
   },
   "file_extension": ".py",
   "mimetype": "text/x-python",
   "name": "python",
   "nbconvert_exporter": "python",
   "pygments_lexer": "ipython3",
   "version": "3.7.6"
  }
 },
 "nbformat": 4,
 "nbformat_minor": 4
}
