{
 "cells": [
  {
   "cell_type": "markdown",
   "id": "3a486f01-de36-48b2-b13e-9ad39f88d93e",
   "metadata": {},
   "source": [
    "最近公司有个给图片打标签的任务，所以学习了TResNet"
   ]
  },
  {
   "cell_type": "code",
   "execution_count": null,
   "id": "9f9cb628-5002-4b52-9dcf-7014da954d53",
   "metadata": {},
   "outputs": [],
   "source": []
  }
 ],
 "metadata": {
  "kernelspec": {
   "display_name": "Python 3",
   "language": "python",
   "name": "python3"
  },
  "language_info": {
   "codemirror_mode": {
    "name": "ipython",
    "version": 3
   },
   "file_extension": ".py",
   "mimetype": "text/x-python",
   "name": "python",
   "nbconvert_exporter": "python",
   "pygments_lexer": "ipython3",
   "version": "3.8.5"
  }
 },
 "nbformat": 4,
 "nbformat_minor": 5
}
