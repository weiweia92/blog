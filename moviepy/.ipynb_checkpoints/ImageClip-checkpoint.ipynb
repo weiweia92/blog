{
 "cells": [
  {
   "cell_type": "markdown",
   "id": "21a5a406-a37d-493b-9e69-2998f968b432",
   "metadata": {},
   "source": [
    "## Moviepy\n",
    "\n",
    "### 1. 快速了解\n",
    "\n",
    "MoviePy 是一个用于视频编辑的 python 模块，你可以用它实现一些基本的操作(比如视频剪辑，视频拼接，插入标题),还可以实现视频合成，还有视频处理，抑或用它加入一些自定义的高级的特效。此外，MoviePy 可以读写绝大多数常见的视频格式，甚至包括 GIF 格式！基于 Python2.7 以上的版本，MoviePy 可以轻松实现跨平台，Mac/Windows/Linux 统统没问题，这也以意味着，MoviePy 项目可以部署到服务端，在服务端进行视频处理。\n",
    "\n",
    "出于以下的情景或原因，我们可能会有使用 Python 做视频编辑的需求。\n",
    "\n",
    "- 我们有大量的视频需要处理，或者采用复杂的方式将他们拼接。\n",
    "\n",
    "- 我们需要在服务端自动地创建大量视频或者 GIF 图。\n",
    "\n",
    "- 我们需要在视频中创建视频编辑器中所没有的一些特殊的特效，我们只能敲代码来实现。\n",
    "\n",
    "- 为其他 Python 库(例如：Matplotlib, Mayavi, Gizeh, scikit-images)生产的图片创建动画效果。\n",
    "\n",
    "当然，MoviePy 并不是万能的，下面这样的需求，MoviePy 也无能为力。\n",
    "\n",
    "- 当我们需要逐帧的做**图像分析**时(例如人脸检测)，这真的不是 MoviePy 的强项，不如使用 ImageIO，OpenCV，SimpleCV 这样专业的库去处理\n",
    "\n",
    "- 我们仅仅是要将一段视频，或者一系列图片接进一个目标视频中时，我们使用 ffmpeg 就搞定了，也不用强行使用 MoviePy\n",
    "\n",
    "#### MoviePy 的优点与局限\n",
    "\n",
    "MoviePy 在开发之初，就秉承着下面的理念\n",
    "\n",
    "- **简单直观**，基本操作一般一行代码搞定。对于初学者，代码很容易理解和学习。\n",
    "\n",
    "- **灵活弹性**，开发者拥有对视频或者音频中每一帧的全部控制权，这也使得我们在创建自定义效果时得心应手。\n",
    "\n",
    "- **跨平台**，使用的 ffmpeg 各个平台都有，可以移植到不同的平台运行。\n",
    "\n",
    "#### MoviePy 的局限性如下：\n",
    "\n",
    "- 不支持流媒体，它也确实不是为了处理这样的视频而设计的。\n",
    "\n",
    "- 当同时使用太多(官网说>100 认为太多)的视频，音频，或者图片的时候，我们有可能会遇到内存问题。内存问题亟待优化。"
   ]
  },
  {
   "cell_type": "markdown",
   "id": "529d4a87-efbd-4bdc-9b7d-274ea78cb6ea",
   "metadata": {},
   "source": [
    "#### Moviepy如何工作\n",
    "\n",
    "MoviePy 使用软件 `ffmpeg` 读取和导出视频和音频文件，使用 `ImageMagick` 生产文字和 GIF 图。这些处理过程都有赖于 Python 强大的数学处理库，高级特效和软件加强用到了许多的 Python 图像处理库。\n",
    "\n",
    "MoviePy 中最核心的对象就是 clips 。AudioClips 或者 VedioClips，开发者可以对 clips 进行修改(剪切，调速度，调亮度...)或者和其他 clip 混合拼接到一起。使用 PyGame 或者 IPython NoteBook 还可以预览。\n",
    "\n",
    "VedioClips 可以由**视频文件，图像，文本或者动画**来创建实例。vedio clip 可以拥有一个音频轨道(audio clip) 和一个叠加层的 vedio clip(这是一个特殊的 VedioClip，这意味着，当一个视频和其他 VedioClip 混合的时候，这个叠加层 clip 是隐藏的)"
   ]
  },
  {
   "cell_type": "code",
   "execution_count": null,
   "id": "1c3f81aa-71b4-4e92-9561-26612b5c21fa",
   "metadata": {},
   "outputs": [],
   "source": [
    "# Example\n",
    "from moviepy.editor import *\n",
    "\n",
    "# 从本地载入视频myHolidays.mp4并截取00:00:50 - 00:00:60部分\n",
    "clip = VideoFileClip(\"myHolidays.mp4\").subclip(50,60)\n",
    " \n",
    "# 调低音频音量 (volume x 0.8)\n",
    "clip = clip.volumex(0.8)\n",
    " \n",
    "# 做一个txt clip. 自定义样式，颜色.\n",
    "txt_clip = TextClip(\"My Holidays 2013\",fontsize=70,color='white')\n",
    " \n",
    "# 文本clip在屏幕正中显示持续10秒\n",
    "txt_clip = txt_clip.set_pos('center').set_duration(10)\n",
    " \n",
    "# 把 text clip 的内容覆盖 video clip\n",
    "video = CompositeVideoClip([clip, txt_clip])\n",
    " \n",
    "# 把最后生成的视频导出到文件内\n",
    "video.write_videofile(\"myHolidays_edited.webm\")"
   ]
  },
  {
   "cell_type": "markdown",
   "id": "242bcb29-bd06-4bd5-818a-b21757309376",
   "metadata": {},
   "source": [
    "### 2.VideoClips transformations(转换) and effects(特效)\n",
    "\n",
    "在moviepy.editor通过`import moviepy.video.fx.all as vfx`中将这些函数都加载到了`vfx`模块下，可以直接通过vfx.函数名 方式调用,如clip.fx(vfx.resize,width=469)，也可以通过VideoClip类+函数名直接调用 eg: clip.resize(width=469)\n",
    "\n",
    "常见的修改clip属性的方法:\n",
    "\n",
    "- `clip.set_duration`\n",
    "- `clip.set_audio`\n",
    "- `clip.set_mask`\n",
    "- `clip.set_start`等。\n",
    "\n",
    "特效:\n",
    "\n",
    "- `clip.subclip(t1, t2)` #截取t1-t2时间段内的片段\n",
    "\n",
    "    在这个方法中，时间既可以用(t_start=230.54),以秒的时间来表示，也可以用(t_start=(3,50.54))，以 3 分 50.54 秒的形式来表示，还可以 (t_start=(0,3,50.54))或者 (tstart=(00:03:50.54)),以，小时，分钟，秒的形式来表示。     \n",
    "    大多数没有赋值的时间参数会有一个默认值，比如 clip.subclip(t_start=50)，t_end 的默认值就是视频的长度，clip.subclip(t_end=50)，那么 t_start 就默认为 0.当时间是负数的时候，代表倒数 n 秒。比如，clip.subclip(-20, -10)会截取倒数 20 秒到倒数 10 秒之间的片段。\n",
    "\n",
    "- loop:让clip循环播放\n",
    "\n",
    "- timemirror:让clip倒播，这些方法位于特殊的模块`moviepy.video.fx`，`moviepy.audio.fx`应用clip.fx方法，如clip.fx(timemirror)让视频倒播\n",
    "- 等等\n",
    "\n",
    "以上的特效其实本质上并不是原地直接修改的（没有对原始视频修改），而是根据修改产生新的 clip。所以，我们如果想让修改生效，需要将修改过的产生的 clip 赋值给某 clip，保存修改。举个栗子。"
   ]
  },
  {
   "cell_type": "code",
   "execution_count": 20,
   "id": "eb372358-7dee-4bfb-b3f4-5b59c39bb879",
   "metadata": {},
   "outputs": [
    {
     "name": "stdout",
     "output_type": "stream",
     "text": [
      "29.97002997002997\n",
      "6837\n",
      "228.11\n"
     ]
    }
   ],
   "source": [
    "from moviepy.editor import *\n",
    "my_clip = VideoFileClip(\"./knights.mp4\")\n",
    "print(my_clip.reader.fps)  # frames per second\n",
    "print(my_clip.reader.nframes)  # 29.97*228.11\n",
    "print(my_clip.duration) #seconds"
   ]
  },
  {
   "cell_type": "code",
   "execution_count": 23,
   "id": "c2511da9-ce1e-4f9f-9ce0-9fe005f2926a",
   "metadata": {
    "tags": []
   },
   "outputs": [],
   "source": [
    "frame = my_clip.get_frame(5)   # 第5s的图片 frame is np.array \n",
    "\n",
    "# If you want to see the frame into computer vision,you can use PIL\n",
    "from PIL import Image\n",
    "new_img = Image.fromarray(frame)\n",
    "new_img.save('./1.jpg')"
   ]
  },
  {
   "cell_type": "code",
   "execution_count": null,
   "id": "239a4534-a557-4264-9147-9c3bee4bb33b",
   "metadata": {},
   "outputs": [],
   "source": [
    "my_clip.set_start(t=5) #没有做任何改变，修改会丢失\n",
    "my_new_clip = my_clip.set_start(t=5) #这样才对。moviepy中，修改过的clip要重新赋值给变量，修改才会被保存"
   ]
  },
  {
   "cell_type": "markdown",
   "id": "844171c9-0b19-4259-95a8-f8685469cddc",
   "metadata": {},
   "source": [
    "所以，当我们写出 `clip.resize(width=640)`,moviepy 并不是立刻就逐帧修改 clip。一般只会先修改第一帧，其他的左右的帧只有在需要的时候(最后写入文件或者预览)才会被 resize。另一方面，可以这样讲，创建一个 clip，几乎是不会占用时间和内存的，几乎所有的计算其实发生在最后转换的时刻"
   ]
  },
  {
   "cell_type": "markdown",
   "id": "a1835872-2ee6-4f00-af96-66442ac370bd",
   "metadata": {},
   "source": [
    "#### `moviepy.video.fx(vfx)`\n",
    "\n",
    "The module `moviepy.video.fx` regroups functions meant to be used with `videoclip.fx()`.改变clip属性的方法:`clip.fx`\n",
    "\n",
    "For all other modifications, we use `clip.fx` and `clip.fl`. `clip.fx` is meant to make it easy to use already-written transformation functions, while `clip.fl` makes it easy to write new transformation functions."
   ]
  },
  {
   "cell_type": "code",
   "execution_count": null,
   "id": "82a1bdd7-bb54-481b-b6a1-7c2ac57398b0",
   "metadata": {},
   "outputs": [],
   "source": [
    "from moviepy.editor import *\n",
    "clip = (VideoFileClip(\"myvideo.avi\")\n",
    "        .fx( vfx.resize, width=460) # 尺寸变化，保持纵横比\n",
    "        .fx( vfx.speedx, 2) # 2倍速\n",
    "        .fx( vfx.colorx, 0.5)) # 画面调暗"
   ]
  },
  {
   "cell_type": "markdown",
   "id": "ca9fc352-37be-4fe1-afec-bbfa91148da5",
   "metadata": {},
   "source": [
    "常用参数:\n",
    "\n",
    "1.`colorx`"
   ]
  },
  {
   "cell_type": "code",
   "execution_count": null,
   "id": "0e35b27e-9bc2-4b70-a24b-586ec0735721",
   "metadata": {},
   "outputs": [],
   "source": [
    "import moviepy.video.fx.all as vfx\n",
    "\n",
    "#newclip = (myclip.fx(vfx.crop, x1=15).fx(vfx.resize, width=200), (vfx.freeze_at_end, 1))\n",
    "from moviepy.editor import *\n",
    "video = VideoFileClip('../demo/result.mp4')\n",
    "out = video.fx(vfx.colorx, 0.8) #控制亮度,亮度为原来的0.8    "
   ]
  },
  {
   "cell_type": "code",
   "execution_count": null,
   "id": "230b2b68-5cc3-420e-a843-fd6fd9858c4d",
   "metadata": {},
   "outputs": [],
   "source": [
    "out = video.fx(vfx.crop, x_center=video.w/2, y_center=video.h/2, width=vi)"
   ]
  },
  {
   "cell_type": "markdown",
   "id": "0e843df0-a58b-40dd-91f0-6f23acfc8fe6",
   "metadata": {},
   "source": [
    "2.`fadein, fadeout`\n",
    "\n",
    "Makes the clip progressively(逐渐) appear from some color (black by default), over duration seconds at the beginning of the clip. Can be used for masks too, where the initial color must be a number between 0 and 1."
   ]
  },
  {
   "cell_type": "code",
   "execution_count": null,
   "id": "2f721af0-ecc5-4fc5-b6db-1db8355caff4",
   "metadata": {},
   "outputs": [],
   "source": [
    "video = VideoFileClip('../demo/result.mp4').set_start(0).set_duration(1)  #从0s开始的1s中视频\n",
    "out = video.fx(vfx.fadein, 1).set_fps(3)  #通过3帧从黑色逐渐显示出视频"
   ]
  },
  {
   "cell_type": "markdown",
   "id": "20ed5c97-b1cb-4444-8e08-81f74a9a5a4c",
   "metadata": {},
   "source": [
    "3.`resize`\n",
    "\n",
    "缩小或放大\n",
    "`resize(clip, newsize=None, height=None, width=None, apply_to_mask=True)`\n",
    "\n",
    "Parameters:\n",
    "\n",
    "- newsize:can be either\n",
    "    - (width, height) in pixels or a float representing\n",
    "    - A scaling factor, like 0.5\n",
    "    - A function of time returning one of these\n",
    "- width: width of the new clip in pixel. The height is then computed so that the width/height ratio is conserved.\n",
    "\n",
    "- height: height of the new clip in pixel. The width is then computed so that the width/height ratio is conserved."
   ]
  },
  {
   "cell_type": "code",
   "execution_count": null,
   "id": "50b64338-a058-4733-bafd-631fb647dec7",
   "metadata": {},
   "outputs": [],
   "source": [
    "myClip.resize( (460,720) ) # New resolution: (460,720)\n",
    "myClip.resize(0.6) # width and heigth multiplied by 0.6\n",
    "myClip.resize(width=800) # height computed automatically.\n",
    "myClip.resize(lambda t : 1+0.02*t) # slow swelling(膨胀) of the clip"
   ]
  },
  {
   "cell_type": "markdown",
   "id": "8b3b3e64-ca93-4be9-a850-a0e7bfd26790",
   "metadata": {},
   "source": [
    "4.`subclip`"
   ]
  },
  {
   "cell_type": "code",
   "execution_count": null,
   "id": "5303b9c3-7c1b-42e8-a55a-9818840cb5a4",
   "metadata": {},
   "outputs": [],
   "source": [
    "out = video.fx()"
   ]
  },
  {
   "cell_type": "markdown",
   "id": "460c84e6-0a95-4187-b306-81fd1cde693a",
   "metadata": {},
   "source": [
    "5.`even_size`\n",
    "\n",
    "even_size将剪辑的宽和高变成偶数，如果这两个值为奇数，则剪辑的帧会丢弃一行或一列像素。这是因为ffmpeg编码规则要求宽和高必须为偶数，相当于一个纠错处理的函数，并没有实际处理的意义。其调用参数就是一个clip。\n",
    "\n",
    "6.`margin`\n",
    "\n",
    "`margin(clip, mar=None, left=0, right=0, top=0, bottom=0, color=(0,0,0), opacity=1.0)`\n",
    "\n",
    "参数：\n",
    "- mar：外边框的宽度，以像素为单位，如果mar指定了有效值，则 left、right、top、bottom设定值不起作用\n",
    "- left、right、top、bottom：边框左、右、顶和底的宽度\n",
    "- color：边框颜色\n",
    "- opacity ：边框的不透明度，如果为0表示完全透明，1则完全不透明"
   ]
  },
  {
   "cell_type": "code",
   "execution_count": null,
   "id": "ec4e3017-bd9d-4b69-9db0-d1e656004e9c",
   "metadata": {},
   "outputs": [],
   "source": [
    "clip = VideoFileClip(r\"F:\\video\\WinBasedWorkHard_src.mp4\").crop(0, 300, 540, 660) \n",
    "newclip = clip.fx(vfx.margin, 3, color=(0, 0, 255), opacity=0.5)  #边框为3个像素，颜色为蓝色，透明度为0.5"
   ]
  },
  {
   "cell_type": "markdown",
   "id": "03ebc388-4118-4d99-91af-ad373bcfda16",
   "metadata": {},
   "source": [
    "7.`blackwhite`\n",
    "\n",
    "blackwhite将剪辑变成灰度剪辑，即将剪辑中的彩色像素灰度化\n",
    "\n",
    "`clip.fx(vfx.black_white, RGB=None, preserve_lumninosity=True)`\n",
    "\n",
    "Parameter:\n",
    "- RGB:用于设置RGB三种颜色的权重，如果为None,则为1:1:1,如果设置为'CRT_phosphor',则RGB=[0.2125,0.7154,0.0721]\n",
    "- preserve_luminosity：preserve_luminosity用于控制是否保持亮度，如果保持亮度不变，则最终的RGB三个值相加为1。在这里的亮度luminosity不是lightness，实际上是对明度的度量，也称为灰阶值，是不同权重的R、G、B的组合值。实际上亮度是对颜色的明度（brightness）的一种度量\n",
    "\n",
    "8.`gamma_corr`\n",
    "\n",
    "对屏幕图像的色彩进行gamma修正，典型gamma=0.45,它会使CRT的影像亮度呈线性。\n",
    "\n",
    "`clip.fx(vfx.gamma_color, gamma)` "
   ]
  },
  {
   "cell_type": "markdown",
   "id": "48de9d7c-12f2-4531-ba9a-a61ed4649534",
   "metadata": {},
   "source": [
    "### 3.Mixing clips (混合剪辑)\n",
    "\n",
    "#### Stacking and concatenating clips\n",
    "\n",
    "Conctenation is done with the function `concatenate_videoclips`. Note that the clips do not need to be the same size. If they arent’s they will all appear centered in a clip large enough to contain the biggest of them, with optionnally a color of your choosing to fill the borders. "
   ]
  },
  {
   "cell_type": "code",
   "execution_count": null,
   "id": "adce3227-ed1f-4c9d-9093-899dbf2c5882",
   "metadata": {},
   "outputs": [],
   "source": [
    "from moviepy.editor import VideoFileClip, concatenate_videoclips\n",
    "clip1 = VideoFileClip(\"myvideo.mp4\")\n",
    "clip2 = VideoFileClip(\"myvideo2.mp4\").subclip(50,60)\n",
    "clip3 = VideoFileClip(\"myvideo3.mp4\")\n",
    "final_clip = concatenate_videoclips([clip1,clip2,clip3])\n",
    "final_clip.write_videofile(\"my_concatenation.mp4\")"
   ]
  },
  {
   "cell_type": "markdown",
   "id": "6989c053-33ef-4b4f-892c-56d12ad81bf0",
   "metadata": {},
   "source": [
    "Stacking is done with `clip_array`."
   ]
  },
  {
   "cell_type": "code",
   "execution_count": null,
   "id": "486d5b77-5a23-471d-97f2-9e8393d0e9fe",
   "metadata": {},
   "outputs": [],
   "source": [
    "from moviepy.editor import VideoFileClip, clips_array, vfx\n",
    "clip1 = VideoFileClip(\"myvideo.mp4\").margin(10) # add 10px contour\n",
    "clip2 = clip1.fx( vfx.mirror_x)\n",
    "clip3 = clip1.fx( vfx.mirror_y)\n",
    "clip4 = clip1.resize(0.60) # downsize 60%\n",
    "final_clip = clips_array([[clip1, clip2],\n",
    "                          [clip3, clip4]])\n",
    "final_clip.resize(width=480).write_videofile(\"my_stack.mp4\")"
   ]
  },
  {
   "attachments": {
    "4c03e249-0cd4-4230-a4fb-d216e50e9769.jpeg": {
     "image/jpeg": "[encoded data removed]"
    }
   },
   "cell_type": "markdown",
   "id": "537dc79e-ca12-4739-bc46-96f7d3ecf3b0",
   "metadata": {},
   "source": [
    "结果如下：   \n",
    "![stacked.jpeg](attachment:4c03e249-0cd4-4230-a4fb-d216e50e9769.jpeg)\n",
    "\n",
    "#### CompositeVideoClips"
   ]
  },
  {
   "cell_type": "code",
   "execution_count": null,
   "id": "ae60ce22-8033-4838-9ce1-0f6a70d7cace",
   "metadata": {},
   "outputs": [],
   "source": [
    "video = CompositeVideoClip([clip1,clip2,clip3])"
   ]
  },
  {
   "cell_type": "markdown",
   "id": "75b3a5da-806d-4f06-8e89-5e14e79d4ccc",
   "metadata": {},
   "source": [
    "Now video plays clip1, and clip2 on top of clip1, and clip3 on top of clip1, and clip2. For instance, if clip2 and clip3 have the same size as clip1, then only clip3, which is on top, will be visible in the video… unless clip3 and clip2 have masks which hide parts of them. Note that by \n",
    "default the composition has the size of its first clip (as it is generally a background). But sometimes you will want to make your clips float in a bigger composition, so you will specify the size of the final composition as follows"
   ]
  },
  {
   "cell_type": "code",
   "execution_count": null,
   "id": "05f537d3-efb3-4c0f-ae4f-fc652aba2244",
   "metadata": {},
   "outputs": [],
   "source": [
    "video = CompositeVideoClip([clip1,\n",
    "                            clip2.set_start(5).crossfadein(1).set_position((45,150),\n",
    "                            clip3.set_start(9).crossfadein(1.5).set_position(90,100))])\n",
    "\n",
    "#There are many ways to specify the position\n",
    "clip2.set_position((45,150)) # x=45, y=150 , in pixels\n",
    "\n",
    "clip2.set_position(\"center\") # automatically centered\n",
    "\n",
    "# clip2 is horizontally centered, and at the top of the picture\n",
    "clip2.set_position((\"center\",\"top\"))\n",
    "\n",
    "# clip2 is vertically centered, at the left of the picture\n",
    "clip2.set_position((\"left\",\"center\"))\n",
    "\n",
    "# clip2 is at 40% of the width, 70% of the height of the screen:\n",
    "clip2.set_position((0.4,0.7), relative=True)\n",
    "\n",
    "# clip2's position is horizontally centered, and moving down !\n",
    "clip2.set_position(lambda t: ('center', 50+t) )"
   ]
  },
  {
   "attachments": {
    "f4208ab9-a2eb-4d7d-9ee6-7abe63368b0a.jpeg": {
     "image/jpeg": "[encoded data removed]"
    }
   },
   "cell_type": "markdown",
   "id": "36842e73-72f1-462b-91da-5e72f27eb0da",
   "metadata": {},
   "source": [
    "![videoWH.jpeg](attachment:f4208ab9-a2eb-4d7d-9ee6-7abe63368b0a.jpeg)\n",
    "\n",
    "#### Compositing audio clips"
   ]
  },
  {
   "cell_type": "code",
   "execution_count": null,
   "id": "70a93d63-7b53-4aa7-919e-1cd9d34ebafe",
   "metadata": {},
   "outputs": [],
   "source": [
    "from moviepy.editor import *\n",
    "# ... make some audio clips aclip1, aclip2, aclip3\n",
    "concat = concatenate_audioclips([aclip1, aclip2, aclip3])\n",
    "compo = CompositeAudioClip([aclip1.volumex(1.2),\n",
    "                            aclip2.set_start(5), # start at t=5s\n",
    "                            aclip3.set_start(9)])"
   ]
  },
  {
   "cell_type": "markdown",
   "id": "9aaa4749-54cb-409a-baa4-a0141400ff0f",
   "metadata": {},
   "source": [
    "### How to efficient with MoviePy\n",
    "\n",
    "这个文档中的大部分例子都会用到子模块 moviepy.editor，但是这个子模块并不适用于所有需求。所以，我们应该使用他吗？\n",
    "\n",
    "简短回答：如果我们是使用 moviepy 手动地编辑视频，那就使用他。但是，如果我们使用的是 MoviePy 内置的庞大的库、程序、或者网络服务，最好还是避免它，只需要加载我们需要的方法就够了。\n",
    "\n",
    "moviepy.editor 模块可以通过下列的 3 种导入方法的任意一中导入"
   ]
  },
  {
   "cell_type": "code",
   "execution_count": 1,
   "id": "b3c91c95-bea4-4007-92fb-608746818b5e",
   "metadata": {},
   "outputs": [],
   "source": [
    "from moviepy.editor import *    #全部导入，快速，但是不干净   \n",
    "import moviepy.editor as mpy    #干净，使用示例：mpy.VideoClip\n",
    "from moviepy.editor import VideoFileClip    #只导入需要的"
   ]
  },
  {
   "cell_type": "markdown",
   "id": "f86b5bfe-5e90-4ff0-9ebf-307de080bcb9",
   "metadata": {},
   "source": [
    "无论使用上面哪一种导入方式，moviepy.editor 模块事实上都会在幕后做大量的工作：加载很多 moviepy 常用的类、方法、还有子包、以及如果安装了 PyGame 的话还会加载 PyGame session，这样，才可以预览 vedio clips，实现很多简便的调用（比如：将一个 clip 用 resize 变化）。这样，我们可以使用 clip.resize(width=240)而不是更长的写法 clip.fx(resize, width=240)。简短说，moviepy.editor 提供给我们在各处播放和编辑所需要的所有的东西，但是这也会消耗一部分时间用于加载（大于 1 秒钟）。所以，如果我们需要的仅仅是 library 中一两个特性的话，最好使用的导入方法是：只导入自己需要的，像下面这样"
   ]
  },
  {
   "cell_type": "code",
   "execution_count": 3,
   "id": "02ff7421-9cfe-4ff8-8af4-2d9b45588c5c",
   "metadata": {},
   "outputs": [
    {
     "name": "stdout",
     "output_type": "stream",
     "text": [
      "Requirement already satisfied: moviepy in /Users/leexuewei/anaconda3/lib/python3.8/site-packages (1.0.3)\n",
      "Requirement already satisfied: numpy>=1.17.3 in /Users/leexuewei/anaconda3/lib/python3.8/site-packages (from moviepy) (1.19.5)\n",
      "Requirement already satisfied: imageio-ffmpeg>=0.2.0 in /Users/leexuewei/anaconda3/lib/python3.8/site-packages (from moviepy) (0.4.3)\n",
      "Requirement already satisfied: tqdm<5.0,>=4.11.2 in /Users/leexuewei/anaconda3/lib/python3.8/site-packages (from moviepy) (4.61.2)\n",
      "Requirement already satisfied: requests<3.0,>=2.8.1 in /Users/leexuewei/anaconda3/lib/python3.8/site-packages (from moviepy) (2.25.1)\n",
      "Collecting decorator<5.0,>=4.0.2\n",
      "  Downloading decorator-4.4.2-py2.py3-none-any.whl (9.2 kB)\n",
      "Requirement already satisfied: proglog<=1.0.0 in /Users/leexuewei/anaconda3/lib/python3.8/site-packages (from moviepy) (0.1.9)\n",
      "Requirement already satisfied: imageio<3.0,>=2.5 in /Users/leexuewei/anaconda3/lib/python3.8/site-packages (from moviepy) (2.9.0)\n",
      "Requirement already satisfied: pillow in /Users/leexuewei/anaconda3/lib/python3.8/site-packages (from imageio<3.0,>=2.5->moviepy) (8.2.0)\n",
      "Requirement already satisfied: certifi>=2017.4.17 in /Users/leexuewei/anaconda3/lib/python3.8/site-packages (from requests<3.0,>=2.8.1->moviepy) (2021.5.30)\n",
      "Requirement already satisfied: chardet<5,>=3.0.2 in /Users/leexuewei/anaconda3/lib/python3.8/site-packages (from requests<3.0,>=2.8.1->moviepy) (4.0.0)\n",
      "Requirement already satisfied: idna<3,>=2.5 in /Users/leexuewei/anaconda3/lib/python3.8/site-packages (from requests<3.0,>=2.8.1->moviepy) (2.10)\n",
      "Requirement already satisfied: urllib3<1.27,>=1.21.1 in /Users/leexuewei/anaconda3/lib/python3.8/site-packages (from requests<3.0,>=2.8.1->moviepy) (1.26.6)\n",
      "Installing collected packages: decorator\n",
      "  Attempting uninstall: decorator\n",
      "    Found existing installation: decorator 5.0.9\n",
      "    Uninstalling decorator-5.0.9:\n",
      "      Successfully uninstalled decorator-5.0.9\n",
      "Successfully installed decorator-4.4.2\n"
     ]
    }
   ],
   "source": [
    "!pip install --trusted-host pypi.python.org moviepy"
   ]
  },
  {
   "cell_type": "code",
   "execution_count": 7,
   "id": "f5555895-e837-4185-b5b3-1b6d0124a33d",
   "metadata": {},
   "outputs": [],
   "source": [
    "from moviepy.video.io.VideoFileClip import VideoFileClip\n",
    "from moviepy.video.fx.resize import resize"
   ]
  },
  {
   "cell_type": "markdown",
   "id": "4d13fd60-ff77-4703-b928-41949b0a1e25",
   "metadata": {},
   "source": [
    "#### The many ways of previewing a clip\n",
    "\n",
    "`ipython_display`\n",
    "\n",
    "Displaying the clips in a IPython Notebook can be very practical, especially if don’t want to use clip.show() and clip.preview(). Here is what it will look like:"
   ]
  },
  {
   "cell_type": "code",
   "execution_count": null,
   "id": "3a70090a-c270-47c0-9739-2a3c7b86f112",
   "metadata": {},
   "outputs": [],
   "source": [
    "ipython_display(my_video_clip) # embeds a video\n",
    "ipython_display(my_imageclip) # embeds an image\n",
    "ipython_display(my_audio_clip) # embeds a sound\n",
    "\n",
    "ipython_display(\"my_picture.jpeg\") # embeds an image\n",
    "ipython_display(\"my_video.mp4\") # embeds a video\n",
    "ipython_display(\"my_sound.mp3\") # embeds a sound"
   ]
  },
  {
   "cell_type": "markdown",
   "id": "5b9ab405-a95b-4149-a3fa-14e6b2d3e9fc",
   "metadata": {},
   "source": [
    "### Example Scripts"
   ]
  },
  {
   "cell_type": "code",
   "execution_count": 10,
   "id": "1f072841-cf86-47be-a1ef-b613374a8525",
   "metadata": {},
   "outputs": [
    {
     "name": "stdout",
     "output_type": "stream",
     "text": [
      "Collecting youtube-dl\n",
      "  Downloading youtube_dl-2021.6.6-py2.py3-none-any.whl (1.9 MB)\n",
      "     |████████████████████████████████| 1.9 MB 1.6 MB/s            \n",
      "\u001b[?25hInstalling collected packages: youtube-dl\n",
      "Successfully installed youtube-dl-2021.6.6\n"
     ]
    }
   ],
   "source": [
    "!pip install youtube-dl"
   ]
  },
  {
   "cell_type": "markdown",
   "id": "789f2f59-9e88-42cd-9854-ef071b46a3eb",
   "metadata": {},
   "source": [
    "### AudioClip"
   ]
  },
  {
   "cell_type": "code",
   "execution_count": 18,
   "id": "71f87e6d-4305-48d7-9bd5-86b0cfcf08ac",
   "metadata": {},
   "outputs": [
    {
     "name": "stdout",
     "output_type": "stream",
     "text": [
      "MoviePy - Writing audio in ./frontier.wav\n"
     ]
    },
    {
     "name": "stderr",
     "output_type": "stream",
     "text": [
      "                                                                      "
     ]
    },
    {
     "name": "stdout",
     "output_type": "stream",
     "text": [
      "MoviePy - Done.\n"
     ]
    },
    {
     "name": "stderr",
     "output_type": "stream",
     "text": [
      "\r"
     ]
    }
   ],
   "source": [
    "# extract audio\n",
    "from moviepy.editor import AudioFileClip\n",
    "my_audio_clip = AudioFileClip('./frontier.mp4')\n",
    "my_audio_clip.write_audiofile('./frontier.wav')"
   ]
  },
  {
   "cell_type": "code",
   "execution_count": null,
   "id": "43cadac6-6c63-4bdf-a4a8-6625110438c7",
   "metadata": {},
   "outputs": [],
   "source": []
  }
 ],
 "metadata": {
  "kernelspec": {
   "display_name": "Python 3",
   "language": "python",
   "name": "python3"
  },
  "language_info": {
   "codemirror_mode": {
    "name": "ipython",
    "version": 3
   },
   "file_extension": ".py",
   "mimetype": "text/x-python",
   "name": "python",
   "nbconvert_exporter": "python",
   "pygments_lexer": "ipython3",
   "version": "3.8.5"
  }
 },
 "nbformat": 4,
 "nbformat_minor": 5
}
