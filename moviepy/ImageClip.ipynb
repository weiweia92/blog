{
 "cells": [
  {
   "cell_type": "markdown",
   "id": "21a5a406-a37d-493b-9e69-2998f968b432",
   "metadata": {},
   "source": [
    "## Moviepy\n",
    "\n",
    "### 1. 快速了解\n",
    "\n",
    "MoviePy 是一个用于视频编辑的 python 模块，你可以用它实现一些基本的操作(比如视频剪辑，视频拼接，插入标题),还可以实现视频合成，还有视频处理，抑或用它加入一些自定义的高级的特效。此外，MoviePy 可以读写绝大多数常见的视频格式，甚至包括 GIF 格式！基于 Python2.7 以上的版本，MoviePy 可以轻松实现跨平台，Mac/Windows/Linux 统统没问题，这也以意味着，MoviePy 项目可以部署到服务端，在服务端进行视频处理。\n",
    "\n",
    "出于以下的情景或原因，我们可能会有使用 Python 做视频编辑的需求。\n",
    "\n",
    "- 我们有大量的视频需要处理，或者采用复杂的方式将他们拼接。\n",
    "\n",
    "- 我们需要在服务端自动地创建大量视频或者 GIF 图。\n",
    "\n",
    "- 我们需要在视频中创建视频编辑器中所没有的一些特殊的特效，我们只能敲代码来实现。\n",
    "\n",
    "- 为其他 Python 库(例如：Matplotlib, Mayavi, Gizeh, scikit-images)生产的图片创建动画效果。\n",
    "\n",
    "当然，MoviePy 并不是万能的，下面这样的需求，MoviePy 也无能为力。\n",
    "\n",
    "- 当我们需要逐帧的做**图像分析**时(例如人脸检测)，这真的不是 MoviePy 的强项，不如使用 ImageIO，OpenCV，SimpleCV 这样专业的库去处理\n",
    "\n",
    "- 我们仅仅是要将一段视频，或者一系列图片接进一个目标视频中时，我们使用 ffmpeg 就搞定了，也不用强行使用 MoviePy\n",
    "\n",
    "#### MoviePy 的优点与局限\n",
    "\n",
    "MoviePy 在开发之初，就秉承着下面的理念\n",
    "\n",
    "- **简单直观**，基本操作一般一行代码搞定。对于初学者，代码很容易理解和学习。\n",
    "\n",
    "- **灵活弹性**，开发者拥有对视频或者音频中每一帧的全部控制权，这也使得我们在创建自定义效果时得心应手。\n",
    "\n",
    "- **跨平台**，使用的 ffmpeg 各个平台都有，可以移植到不同的平台运行。\n",
    "\n",
    "#### MoviePy 的局限性如下：\n",
    "\n",
    "- 不支持流媒体，它也确实不是为了处理这样的视频而设计的。\n",
    "\n",
    "- 当同时使用太多(官网说>100 认为太多)的视频，音频，或者图片的时候，我们有可能会遇到内存问题。内存问题亟待优化。\n",
    "\n"
   ]
  },
  {
   "cell_type": "code",
   "execution_count": null,
   "id": "2081b497-fe19-4f63-b996-c79aec512087",
   "metadata": {},
   "outputs": [],
   "source": []
  }
 ],
 "metadata": {
  "kernelspec": {
   "display_name": "Python 3",
   "language": "python",
   "name": "python3"
  },
  "language_info": {
   "codemirror_mode": {
    "name": "ipython",
    "version": 3
   },
   "file_extension": ".py",
   "mimetype": "text/x-python",
   "name": "python",
   "nbconvert_exporter": "python",
   "pygments_lexer": "ipython3",
   "version": "3.8.5"
  }
 },
 "nbformat": 4,
 "nbformat_minor": 5
}
