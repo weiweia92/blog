{
 "cells": [
  {
   "cell_type": "markdown",
   "id": "21a5a406-a37d-493b-9e69-2998f968b432",
   "metadata": {},
   "source": [
    "## 用python做视频\n",
    "\n",
    "当连续的图片切换足够快时（主流认为每秒24帧），我们就会感受到平滑的视觉效果。和音频类似，**视频的清晰度，主要由帧率和每帧图像的清晰度（即分辨率）决定。** 但需要注意的是：对于已有视频，提高帧率和分辨率，并不能让视频更清晰，因为信息无法凭空还原。\n",
    "\n",
    "当然，这是人工智能的研究领域之一，俗称“AI修图”，把不清晰的变得更清晰。\n",
    "\n"
   ]
  }
 ],
 "metadata": {
  "kernelspec": {
   "display_name": "Python 3",
   "language": "python",
   "name": "python3"
  },
  "language_info": {
   "codemirror_mode": {
    "name": "ipython",
    "version": 3
   },
   "file_extension": ".py",
   "mimetype": "text/x-python",
   "name": "python",
   "nbconvert_exporter": "python",
   "pygments_lexer": "ipython3",
   "version": "3.8.5"
  }
 },
 "nbformat": 4,
 "nbformat_minor": 5
}
