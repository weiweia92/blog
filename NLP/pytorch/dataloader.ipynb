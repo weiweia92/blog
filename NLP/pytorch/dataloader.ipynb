{
 "cells": [
  {
   "cell_type": "markdown",
   "id": "49ca7ac0-9272-4bda-8e34-636a83dfeaa2",
   "metadata": {},
   "source": [
    "## torch.utils.data\n",
    "\n"
   ]
  }
 ],
 "metadata": {
  "kernelspec": {
   "display_name": "Python 3",
   "language": "python",
   "name": "python3"
  },
  "language_info": {
   "codemirror_mode": {
    "name": "ipython",
    "version": 3
   },
   "file_extension": ".py",
   "mimetype": "text/x-python",
   "name": "python",
   "nbconvert_exporter": "python",
   "pygments_lexer": "ipython3",
   "version": "3.8.5"
  }
 },
 "nbformat": 4,
 "nbformat_minor": 5
}
