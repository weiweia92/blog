{
 "cells": [
  {
   "cell_type": "markdown",
   "id": "bf6b5325-ae1c-4651-9a2f-5794f2efcf12",
   "metadata": {},
   "source": [
    "### 交叉熵损失函数在多分类任务中存在的问题\n",
    "\n",
    "多分类任务中，神经网络会输出一个当前数据对应于各个类别的置信度分数，将这些分数通过softmax进行归一化处理，最终会得到当前数据属于每个类别的概率。\n",
    "\n",
    "$$q_i=\\frac{exp(z_i)}{\\sum_{j=1}^K exp(z_j)}$$\n",
    "\n",
    "然后计算交叉熵损失函数：\n",
    "\n",
    "$$Loss = -\\sum_{i=1}^K p_i logq_i$$\n",
    "$$$$"
   ]
  }
 ],
 "metadata": {
  "kernelspec": {
   "display_name": "Python 3",
   "language": "python",
   "name": "python3"
  },
  "language_info": {
   "codemirror_mode": {
    "name": "ipython",
    "version": 3
   },
   "file_extension": ".py",
   "mimetype": "text/x-python",
   "name": "python",
   "nbconvert_exporter": "python",
   "pygments_lexer": "ipython3",
   "version": "3.8.5"
  }
 },
 "nbformat": 4,
 "nbformat_minor": 5
}
