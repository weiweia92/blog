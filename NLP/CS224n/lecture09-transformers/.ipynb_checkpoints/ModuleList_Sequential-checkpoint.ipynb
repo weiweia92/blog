{
 "cells": [
  {
   "cell_type": "markdown",
   "id": "8e6e1f5d-62ae-49d8-ab59-2b6e65ec02de",
   "metadata": {},
   "source": [
    "## CLASS torch.nn.Module\n",
    "\n",
    "Base class for all neural network modules. Your models should alse subclass this class."
   ]
  },
  {
   "cell_type": "code",
   "execution_count": 5,
   "id": "62d1d4b2-cd64-4e74-8571-7c2745d94b86",
   "metadata": {},
   "outputs": [],
   "source": [
    "import torch\n",
    "import torch.nn as nn\n",
    "import torch.nn.functional as F\n",
    "\n",
    "class Model(nn.Module):\n",
    "    def __init__(self):\n",
    "        super(Model, self).__init__()\n",
    "        self.conv1 = nn.Conv2d(1, 20, 5)\n",
    "        self.conv2 = nn.Conv2d(20, 20, 5)\n",
    "\n",
    "    def forward(self, x):\n",
    "        x = F.relu(conv1(x))\n",
    "        return F.relu(conv2(x))"
   ]
  },
  {
   "cell_type": "markdown",
   "id": "24821b3f-e565-401f-8e04-7b4a0ca83546",
   "metadata": {},
   "source": [
    "## CLASS torch.nn.Sequential(\\*args)\n",
    "\n",
    "A sequential container.Modules will be added to it in the order they are passed in(传入) the constructor. Alternatively, an ordered dict of modules can also be passed in."
   ]
  },
  {
   "cell_type": "code",
   "execution_count": 3,
   "id": "d481a9b0-1c0b-48a9-bdf2-677106f9ae4d",
   "metadata": {},
   "outputs": [],
   "source": [
    "from collections import OrderedDict\n",
    "# Example of using Sequential\n",
    "model = nn.Sequential(\n",
    "    nn.Conv2d(1, 20, 5),\n",
    "    nn.ReLU(),\n",
    "    nn.Conv2d(20, 64, 5),\n",
    "    nn.ReLU()\n",
    "    )\n",
    "# Example of using Sequential with OrderedDict\n",
    "model = nn.Sequential(OrderedDict([\n",
    "    ('conv1', nn.Conv2d(1, 20, 5)),\n",
    "    ('ReLU1', nn.ReLU()),\n",
    "    ('conv2', nn.Conv2d(20, 64, 5)),\n",
    "    ('ReLU2', nn.ReLU())\n",
    "    ]))"
   ]
  },
  {
   "cell_type": "markdown",
   "id": "815e57dc-2b71-403e-b6d7-4685a215101e",
   "metadata": {},
   "source": [
    "nn.Sequential里面的模块按照顺序进行排列的，所以必须确保前一个模块的输出大小和下一个模块的输入大小时一致的。"
   ]
  },
  {
   "cell_type": "markdown",
   "id": "15436550-c758-41e2-aacf-6e958a64c170",
   "metadata": {},
   "source": [
    "## CLASS torch.nn.ModuleList(modules=None)\n",
    "\n",
    "nn.ModuleList，它是一个储存不同 module，并自动将每个 module 的 parameters 添加到网络之中的容器。你可以把任意 nn.Module 的子类 (比如 nn.Conv2d, nn.Linear 之类的) 加到这个 list 里面，方法和 Python 自带的 list 一样，无非是 extend，append 等操作。但不同于一般的 list，加入到 nn.ModuleList 里面的 module 是会自动注册到整个网络上的，同时 module 的 parameters 也会自动添加到整个网络中。若使用python的list，则会出问题。下面看一个例子："
   ]
  },
  {
   "cell_type": "code",
   "execution_count": 4,
   "id": "de37dfe6-71d7-41a9-aeea-3c09aca37334",
   "metadata": {},
   "outputs": [],
   "source": [
    "class MyModel(nn.Module):\n",
    "    def __init__(self):\n",
    "        super(MyModel, self).__init__()\n",
    "        self.linears = nn.ModuleList([nn.linear for i in range(10)])\n",
    "\n",
    "    # ModuleList can act as an iterable, or be indexed using ints\n",
    "    def forward(self, x):\n",
    "        for i, l in enumerate(self.linears):\n",
    "            x = self.linears[i // 2](x) + l(x)\n",
    "        return x"
   ]
  },
  {
   "cell_type": "code",
   "execution_count": null,
   "id": "1debacd5-0219-4355-a972-d2a1f6db9330",
   "metadata": {},
   "outputs": [],
   "source": []
  }
 ],
 "metadata": {
  "kernelspec": {
   "display_name": "Python 3",
   "language": "python",
   "name": "python3"
  },
  "language_info": {
   "codemirror_mode": {
    "name": "ipython",
    "version": 3
   },
   "file_extension": ".py",
   "mimetype": "text/x-python",
   "name": "python",
   "nbconvert_exporter": "python",
   "pygments_lexer": "ipython3",
   "version": "3.8.5"
  }
 },
 "nbformat": 4,
 "nbformat_minor": 5
}
