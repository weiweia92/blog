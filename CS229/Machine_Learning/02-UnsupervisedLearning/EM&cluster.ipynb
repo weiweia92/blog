{
 "cells": [
  {
   "cell_type": "markdown",
   "id": "1184f3c4-2060-44fe-9d0c-1fa7c89724fa",
   "metadata": {},
   "source": []
  },
  {
   "cell_type": "markdown",
   "id": "a72c6ddb-e320-4ac2-bc40-7464f666847e",
   "metadata": {},
   "source": [
    "## 1. The k-means clustering algorithm\n",
    "\n",
    "聚类问题是一种 **「无监督学习(unsupervised learning)」** ，给定训练集 $\\{x^{(1)},...,x^{(m)}\\}$，我们希望将其聚合成几个特定的类。k-means 聚类算法的流程如下：\n",
    "\n",
    "1. 随机初始化 **「聚类中心(cluster centroids)」** $\\mu_1,\\mu_2,...,\\mu_k \\in\\mathbb R^n$\n",
    "\n",
    "2. 重复以下步骤直至收敛： 对于每个 $i$（训练集大小），令[公式] 对于每个 [公式]（聚类数量），令[公式]\n",
    "该算法的思想为：先将每个训练样本 [公式] 分配到距离其最近的中心 [公式]，再将每个聚类中心移动到第一步中分配到该中心的样本的均值。\n",
    "\n",
    "下图可视化了 k-means 算法的运行流程："
   ]
  },
  {
   "cell_type": "code",
   "execution_count": null,
   "id": "c3c36653-bc30-4cde-bf14-cb78002408de",
   "metadata": {},
   "outputs": [],
   "source": []
  }
 ],
 "metadata": {
  "kernelspec": {
   "display_name": "Python 3",
   "language": "python",
   "name": "python3"
  },
  "language_info": {
   "codemirror_mode": {
    "name": "ipython",
    "version": 3
   },
   "file_extension": ".py",
   "mimetype": "text/x-python",
   "name": "python",
   "nbconvert_exporter": "python",
   "pygments_lexer": "ipython3",
   "version": "3.8.5"
  }
 },
 "nbformat": 4,
 "nbformat_minor": 5
}
