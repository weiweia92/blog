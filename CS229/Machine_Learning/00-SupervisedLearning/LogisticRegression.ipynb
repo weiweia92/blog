{
 "cells": [
  {
   "cell_type": "markdown",
   "id": "9d8019af-b24c-4078-9600-9639c765debe",
   "metadata": {},
   "source": [
    "之前我们讨论的是 **「回归问题」**，即输出是连续值，现在我们来讨论输出是离散值的 **「分类问题」**。本节我们将专注于「二元分类」问题，即输出$y$ 只能取0 和1 两个值。\n",
    "\n",
    "### 1 逻辑回归(Logistic Regression)\n",
    "\n",
    "如果将线性回归模型直接应用于分类问题，会产生取值不在 0 和 1 之间的问题，所以我们引入 **「逻辑回归模型」**：\n",
    "\n",
    "$$h_{\\theta}(x)= g(x) = \\frac{1}{1+e^{-\\theta^{T}x}}$$\n",
    "\n",
    "其中\n",
    "\n",
    "$$g(x) = \\frac{1}{1+e^{-x}}$$\n",
    "\n",
    "$g(z)$ 被称为 **「逻辑函数」** 或 **「S 型函数」**，其图像如下：\n",
    "\n",
    "![](https://img.halfrost.com/Blog/ArticleImage/69_8.png)\n",
    "\n",
    "这里先给出一个关于 S 型函数求导的有用性质：\n",
    "\n",
    "$$\\begin{align*}\n",
    "g(z)'&=\\left(\\frac{1}{1+e^{-z}}\\right)'=\\frac{e^{-z}}{(1+e^{-z})^2} \\newline &=\\left(\\frac{1}{1+e^{-z}}\\right)\\left(\\frac{e^{-z}}{1+e^{-z}}\\right)=g(z)\\left(\\frac{+1-1 + e^{-x}}{1+e^{-x}}\\right)=g(z)\\left(\\frac{1 + e^{-z}}{1+e^{-z}} - \\frac{1}{1+e^{-z}}\\right)\\\\\n",
    "&=g(z)(1 - g(z))\\\\\n",
    "\\end{align*}$$\n",
    "\n",
    "### 3 感知器学习算法(Perceptron learning algorithm)\n",
    "\n",
    "下面介绍另一种二分类方法：**「感知器学习算法」**。其假设函数为：\n",
    "\n",
    "$$h_{\\theta}(x)=g(\\theta^T x)=$$\n",
    "\n",
    "我们假设：\n",
    "\n",
    "$$P(y=1|x;\\theta)=h_{\\theta}(x)$$\n",
    "\n",
    "$$P(y=0|x;\\theta)=1-h_{\\theta}(x)$$\n",
    "\n",
    "将上面的公式合二为一，得到：\n",
    "\n",
    "$$P(y|x;\\theta)=(h_{\\theta}(x))^y (1-h_{\\theta}(x))^{1-y}$$\n",
    "\n",
    "\n"
   ]
  },
  {
   "cell_type": "code",
   "execution_count": null,
   "id": "3297e209-e5a1-4866-a939-a8bf914edffc",
   "metadata": {},
   "outputs": [],
   "source": []
  }
 ],
 "metadata": {
  "kernelspec": {
   "display_name": "Python 3",
   "language": "python",
   "name": "python3"
  },
  "language_info": {
   "codemirror_mode": {
    "name": "ipython",
    "version": 3
   },
   "file_extension": ".py",
   "mimetype": "text/x-python",
   "name": "python",
   "nbconvert_exporter": "python",
   "pygments_lexer": "ipython3",
   "version": "3.8.5"
  }
 },
 "nbformat": 4,
 "nbformat_minor": 5
}
