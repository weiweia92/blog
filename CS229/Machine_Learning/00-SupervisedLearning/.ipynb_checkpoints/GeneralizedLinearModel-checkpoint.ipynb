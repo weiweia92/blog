{
 "cells": [
  {
   "cell_type": "markdown",
   "id": "26f24431-d9e3-43f9-997f-7a85aff0b713",
   "metadata": {},
   "source": [
    "在前两章我们分别介绍了线性回归与逻辑回归，其分别符合不同的概率分布：\n",
    "\n",
    "* 线性回归问题符合正态分布 $y|x;\\theta \\sim N(\\mu,\\sigma^2)$\n",
    "\n",
    "* 逻辑回归问题符合伯努利分布 $y|x;\\theta \\sim \\text{Bernoulli}(\\phi)$\n",
    "\n",
    "实际上这些模型都是一个更为广泛的模型族的特例，这个模型族被称为 **「广义线性模型(GLM-Generalized Linear Model)」**。\n",
    "\n",
    "### 1 指数分布\n",
    "\n",
    "为了引出广义线性模型，我们首先需要介绍 **「指数族分布(exponential family distribution)」**：\n",
    "\n",
    "如果一个分布可以被表示成如下形式，我们就称其属于指数分布族：\n",
    "\n",
    "$$p(y;\\eta)=b(y)exp(\\eta^T T(y)-a(\\eta))$$\n",
    "\n",
    "* $\\eta$被称为分布的 **「自然参数(natural parameter)」**（或者称为 **「典范参数(canonical parameter)」**）\n",
    "\n",
    "* $T(y)$被称为 **「充分统计量(sufficient statistic)」**，通常 $T(y)=y$\n",
    "\n",
    "* $a(\\eta)$被称为 **「对数分割函数(log partition function)」**\n",
    "\n",
    "* $e^{-a(\\eta)}$ 本质上是一个 **「归一化常数(normalization constant)」**，确保概率 $p(y;\\eta)$和为1\n",
    "\n",
    "当选定$T,a,b$时，我们得到了一种以$\\eta$为参数的分布。下面我们来证明 **「伯努利分布(Bernoulli distribution)」** 和 **「高斯分布(Gaussian distribution)」** 属于指数族分布。"
   ]
  },
  {
   "cell_type": "code",
   "execution_count": null,
   "id": "0b3dd27d-0547-4d6f-883f-e0afa751bbc4",
   "metadata": {},
   "outputs": [],
   "source": []
  }
 ],
 "metadata": {
  "kernelspec": {
   "display_name": "Python 3",
   "language": "python",
   "name": "python3"
  },
  "language_info": {
   "codemirror_mode": {
    "name": "ipython",
    "version": 3
   },
   "file_extension": ".py",
   "mimetype": "text/x-python",
   "name": "python",
   "nbconvert_exporter": "python",
   "pygments_lexer": "ipython3",
   "version": "3.8.5"
  }
 },
 "nbformat": 4,
 "nbformat_minor": 5
}
