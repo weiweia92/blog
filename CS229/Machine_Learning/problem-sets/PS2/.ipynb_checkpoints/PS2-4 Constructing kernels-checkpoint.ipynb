{
 "cells": [
  {
   "cell_type": "markdown",
   "metadata": {
    "pycharm": {
     "name": "#%% md\n"
    }
   },
   "source": [
    "## PS2-4 Constructing kernels"
   ]
  },
  {
   "cell_type": "markdown",
   "metadata": {
    "pycharm": {
     "name": "#%% md\n"
    }
   },
   "source": [
    "#### (a)"
   ]
  },
  {
   "cell_type": "markdown",
   "metadata": {
    "pycharm": {
     "name": "#%% md\n"
    }
   },
   "source": [
    "$K(x, z) = K_1 (x, z) + K_2 (x, z)$ is a valid kernel.\n",
    "\n",
    "Because for any $z \\in \\mathbb{R}^n$,\n",
    "\n",
    "\\begin{align*}\n",
    "z^T K z & = \\sum_i \\sum_j z_i K_{ij} z_j \\\\\n",
    "        & = \\sum_i \\sum_j z_i K(x^{(i)}, x^{(j)}) z_j \\\\\n",
    "        & = \\sum_i \\sum_j z_i (K_1 (x^{(i)}, x^{(j)}) + K_2 (x^{(i)}, x^{(j)})) z_j \\\\\n",
    "        & = \\sum_i \\sum_j z_i K_1 (x^{(i)}, x^{(j)}) z_j + \\sum_i \\sum_j z_i K_2 (x^{(i)}, x^{(j)}) z_j \\\\\n",
    "        & = z^T K_1 z + z^T K_2 z \\\\\n",
    "        & \\geq 0\n",
    "\\end{align*}"
   ]
  },
  {
   "cell_type": "markdown",
   "metadata": {
    "pycharm": {
     "name": "#%% md\n"
    }
   },
   "source": [
    "#### (b)"
   ]
  },
  {
   "cell_type": "markdown",
   "metadata": {
    "pycharm": {
     "name": "#%% md\n"
    }
   },
   "source": [
    "$K(x, z) = K_1 (x, z) - K_2 (x, z)$ is not necessarily a valid kernel.\n",
    "\n",
    "For example, $K_2 (x, z) = 2 K_1 (x, z)$, then $z^T K z = - z^T K_1 z \\leq 0$.\n",
    "\n",
    "#### (c)"
   ]
  },
  {
   "cell_type": "markdown",
   "metadata": {
    "pycharm": {
     "name": "#%% md\n"
    }
   },
   "source": [
    "Assume $a > 0$, $K(x, z) = a K_1 (x, z)$ is a valid kernel.\n",
    "\n",
    "Because for any $z \\in \\mathbb{R}^n$,\n",
    "\n",
    "\\begin{align*}\n",
    "z^T K z & = \\sum_i \\sum_j z_i K_{ij} z_j \\\\\n",
    "        & = \\sum_i \\sum_j z_i K(x^{(i)}, x^{(j)}) z_j \\\\\n",
    "        & = \\sum_i \\sum_j z_i a K_1 (x^{(i)}, x^{(j)}) z_j \\\\\n",
    "        & = a z^T K_1 z \\\\\n",
    "        & \\geq 0\n",
    "\\end{align*}"
   ]
  },
  {
   "cell_type": "markdown",
   "metadata": {
    "pycharm": {
     "name": "#%% md\n"
    }
   },
   "source": [
    "#### (d)"
   ]
  },
  {
   "cell_type": "markdown",
   "metadata": {
    "pycharm": {
     "name": "#%% md\n"
    }
   },
   "source": [
    "Assume $a > 0$, $K(x, z) = - a K_1 (x, z)$ is not a valid kernel.\n",
    "\n",
    "For example, $a = -1$, then $z^T K z = - z^T K_1 z \\leq 0$."
   ]
  },
  {
   "cell_type": "markdown",
   "metadata": {
    "pycharm": {
     "name": "#%% md\n"
    }
   },
   "source": [
    "#### (e)"
   ]
  },
  {
   "cell_type": "markdown",
   "metadata": {
    "pycharm": {
     "name": "#%% md\n"
    }
   },
   "source": [
    "$K(x, z) = K_1 (x, z) K_2 (x, z)$ is a valid kernel.\n",
    "\n",
    "Because for any $z \\in \\mathbb{R}^n$,\n",
    "\n",
    "\\begin{align*}\n",
    "z^T K z & = \\sum_i \\sum_j z_i K_{ij} z_j \\\\\n",
    "        & = \\sum_i \\sum_j z_i K(x^{(i)}, x^{(j)}) z_j \\\\\n",
    "        & = \\sum_i \\sum_j z_i K_1 (x^{(i)}, x^{(j)}) K_2 (x^{(i)}, x^{(j)}) z_j \\\\\n",
    "        & = \\sum_i \\sum_j z_i \\phi_1 (x^{(i)})^T \\phi_1 (x^{(j)}) \\phi_2 (x^{(i)})^T \\phi_2 (x^{(j)}) z_j \\\\\n",
    "        & = \\sum_i \\sum_j z_i \\sum_k \\phi_{1k} (x^{(i)}) \\phi_{1k} (x^{(j)}) \\sum_l \\phi_{2l} (x^{(i)}) \\phi_{2l} (x^{(j)}) z_j \\\\\n",
    "        & = \\sum_k \\sum_l \\sum_i \\sum_j z_i \\phi_{1k} (x^{(i)}) \\phi_{2l} (x^{(i)}) z_j \\phi_{1k} (x^{(j)}) \\phi_{2l} (x^{(j)}) \\\\\n",
    "        & = \\sum_k \\sum_l \\big( \\sum_i z_i \\phi_{1k} (x^{(i)}) \\phi_{2l} (x^{(i)}) \\big)^2 \\\\\n",
    "        & \\geq 0\n",
    "\\end{align*}"
   ]
  },
  {
   "cell_type": "markdown",
   "metadata": {
    "pycharm": {
     "name": "#%% md\n"
    }
   },
   "source": [
    "#### (f)"
   ]
  },
  {
   "cell_type": "markdown",
   "metadata": {
    "pycharm": {
     "name": "#%% md\n"
    }
   },
   "source": [
    "$K(x, z) = f(x) f(z)$ is a valid kernel.\n",
    "\n",
    "Because for any $z \\in \\mathbb{R}^n$,\n",
    "\n",
    "\\begin{align*}\n",
    "z^T K z & = \\sum_i \\sum_j z_i K_{ij} z_j \\\\\n",
    "        & = \\sum_i \\sum_j z_i K(x^{(i)}, x^{(j)}) z_j \\\\\n",
    "        & = \\sum_i \\sum_j z_i f(x^{(i)}) f(x^{(j)}) z_j \\\\\n",
    "        & = (\\sum_i f(x^{(i)}) z_i)^2 \\\\\n",
    "        & \\geq 0\n",
    "\\end{align*}"
   ]
  },
  {
   "cell_type": "markdown",
   "metadata": {
    "pycharm": {
     "name": "#%% md\n"
    }
   },
   "source": [
    "#### (g)"
   ]
  },
  {
   "cell_type": "markdown",
   "metadata": {
    "pycharm": {
     "name": "#%% md\n"
    }
   },
   "source": [
    "$K(x, z) = K_3 (\\phi (x), \\phi (z))$ is a valid kernel, because $K_3 (x, z)$ is a kernel, no matter what the inputs are."
   ]
  },
  {
   "cell_type": "markdown",
   "metadata": {
    "pycharm": {
     "name": "#%% md\n"
    }
   },
   "source": [
    "#### (h)"
   ]
  },
  {
   "cell_type": "markdown",
   "metadata": {
    "pycharm": {
     "name": "#%% md\n"
    }
   },
   "source": [
    "When $p(x)$ is a polynomial over x with positive coefficients, $K(x, z) = p(K_1 (x, z))$ is a valid kernel.\n",
    "\n",
    "Let $p(K_1 (x, z)) = \\sum_k a_k K_1 (x, z)^k$ where $a_k > 0$.\n",
    "\n",
    "For each $k$, from part (e), we know that $K_1 (x, z)^k$ is a valid kernel. Combining with part (c), $a_k K_1 (x, z)^k$ is\n",
    "also a valid kernel. Finally, according to part (a), we can conclude that $\\sum_k a_k K_1 (x, z)^k$ is a valid kernel."
   ]
  }
 ],
 "metadata": {
  "kernelspec": {
   "display_name": "Python 3",
   "language": "python",
   "name": "python3"
  },
  "language_info": {
   "codemirror_mode": {
    "name": "ipython",
    "version": 3
   },
   "file_extension": ".py",
   "mimetype": "text/x-python",
   "name": "python",
   "nbconvert_exporter": "python",
   "pygments_lexer": "ipython3",
   "version": "3.8.5"
  }
 },
 "nbformat": 4,
 "nbformat_minor": 4
}
