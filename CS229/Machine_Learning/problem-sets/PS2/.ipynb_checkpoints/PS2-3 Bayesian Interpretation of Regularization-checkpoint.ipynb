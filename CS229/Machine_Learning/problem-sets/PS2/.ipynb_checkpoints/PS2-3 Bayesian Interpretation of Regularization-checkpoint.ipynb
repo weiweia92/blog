{
 "cells": [
  {
   "cell_type": "markdown",
   "metadata": {
    "pycharm": {
     "name": "#%% md\n"
    }
   },
   "source": [
    "## PS2-3 Bayesian Interpretation of Regularization"
   ]
  },
  {
   "cell_type": "markdown",
   "metadata": {
    "pycharm": {
     "name": "#%% md\n"
    }
   },
   "source": [
    "#### (a)"
   ]
  },
  {
   "cell_type": "markdown",
   "metadata": {
    "pycharm": {
     "name": "#%% md\n"
    }
   },
   "source": [
    "Proof:\n",
    "\n",
    "\\begin{align*}\n",
    "\\theta_{\\mathrm{MAP}} & = \\arg \\max_\\theta p(\\theta \\ \\vert \\ x, y) \\\\\n",
    "                      & = \\arg \\max_\\theta \\frac{p(y \\ \\vert \\ x, \\theta) \\ p(x, \\theta)}{p(x, y)} \\\\\n",
    "                      & = \\arg \\max_\\theta \\frac{p(y \\ \\vert \\ x, \\theta) \\ p(\\theta \\ \\vert \\ x) \\ p(x)}{p(x, y)} \\\\\n",
    "                      & = \\arg \\max_\\theta \\frac{p(y \\ \\vert \\ x, \\theta) \\ p(\\theta) \\ p(x)}{p(x, y)} \\\\\n",
    "                      & = \\arg \\max_\\theta p(y \\ \\vert \\ x, \\theta) \\ p(\\theta)\n",
    "\\end{align*}"
   ]
  },
  {
   "cell_type": "markdown",
   "metadata": {
    "pycharm": {
     "name": "#%% md\n"
    }
   },
   "source": [
    "#### (b)"
   ]
  },
  {
   "cell_type": "markdown",
   "metadata": {
    "pycharm": {
     "name": "#%% md\n"
    }
   },
   "source": [
    "Since $p(\\theta) \\sim \\mathcal{N} (0, \\eta^2 I)$,\n",
    "\n",
    "\\begin{align*}\n",
    "\\theta_{\\mathrm{MAP}} & = \\arg \\max_\\theta p(y \\ \\vert \\ x, \\theta) \\ p(\\theta) \\\\\n",
    "                      & = \\arg \\min_\\theta - \\log p(y \\ \\vert \\ x, \\theta) - \\log p(\\theta) \\\\\n",
    "                      & = \\arg \\min_\\theta - \\log p(y \\ \\vert \\ x, \\theta) - \\log \\frac{1}{(2 \\pi)^{d / 2} \\vert \\Sigma \\vert^{1/2}} \\exp \\big( -\\frac{1}{2} (\\theta - \\mu)^T \\Sigma^{-1} (\\theta - \\mu) \\big) \\\\\n",
    "                      & = \\arg \\min_\\theta - \\log p(y \\ \\vert \\ x, \\theta) + \\frac{1}{2} \\theta^T \\Sigma^{-1} \\theta \\\\\n",
    "                      & = \\arg \\min_\\theta - \\log p(y \\ \\vert \\ x, \\theta) + \\frac{1}{2 \\eta^2} \\Vert \\theta \\Vert_2^2 \\\\\n",
    "                      & = \\arg \\min_\\theta - \\log p(y \\ \\vert \\ x, \\theta) + \\lambda \\Vert \\theta \\Vert_2^2\n",
    "\\end{align*}\n",
    "\n",
    "where $\\lambda = 1 / (2 \\eta^2)$."
   ]
  },
  {
   "cell_type": "markdown",
   "metadata": {
    "pycharm": {
     "name": "#%% md\n"
    }
   },
   "source": [
    "#### (c)"
   ]
  },
  {
   "cell_type": "markdown",
   "metadata": {
    "pycharm": {
     "name": "#%% md\n"
    }
   },
   "source": [
    "Given $y = \\theta^T x + \\epsilon$ where $\\epsilon \\sim \\mathcal{N} (0, \\sigma^2)$, i.e. $y \\ \\vert \\ x, \\ \\theta \\sim \\mathcal{N} (\\theta^T x, \\sigma^2)$,\n",
    "\n",
    "\\begin{align*}\n",
    "\\theta_{\\mathrm{MAP}} & = \\arg \\min_\\theta - \\sum_{i = 1}^{m} \\log \\frac{1}{\\sqrt{2 \\pi} \\sigma} \\exp \\big( - \\frac{(y^{(i)} - \\theta^T x^{(i)})^2}{2 \\sigma^2} \\big) + \\lambda \\Vert \\theta \\Vert_2^2 \\\\\n",
    "                      & = \\arg \\min_\\theta \\frac{1}{2 \\sigma^2} \\sum_{i = 1}^{m} (y^{(i)} - \\theta^T x^{(i)})^2 + \\frac{1}{2 \\eta^2} \\Vert \\theta \\Vert_2^2 \\\\\n",
    "                      & = \\arg \\min_\\theta \\frac{1}{2 \\sigma^2} (\\vec{y} - X \\theta)^T (\\vec{y} - X \\theta) + \\frac{1}{2 \\eta^2} \\Vert \\theta \\Vert_2^2 \\\\\n",
    "                      & = \\arg \\min_\\theta J(\\theta)\n",
    "\\end{align*}\n",
    "\n",
    "By solving\n",
    "\n",
    "\\begin{align*}\n",
    "\\nabla_\\theta J(\\theta) & = \\nabla_\\theta \\big( \\frac{1}{2 \\sigma^2} (\\vec{y} - X \\theta)^T (\\vec{y} - X \\theta) + \\frac{1}{2 \\eta^2} \\Vert \\theta \\Vert_2^2 \\big) \\\\\n",
    "                        & = \\frac{1}{2 \\sigma^2} \\nabla_\\theta (\\theta^T X^T X \\theta - 2 \\vec{y}^T X \\theta + \\frac{\\sigma^2}{\\eta^2} \\theta^T \\theta) \\\\\n",
    "                        & = \\frac{1}{\\sigma^2} (X^T X \\theta - X^T \\vec{y} + \\frac{\\sigma^2}{\\eta^2} \\theta) \\\\\n",
    "                        & = 0\n",
    "\\end{align*}\n",
    "\n",
    "we obtain\n",
    "\n",
    "$$\\theta_{\\mathrm{MAP}} = (X^T X + \\frac{\\sigma^2}{\\eta^2} I)^{-1} X^T \\vec{y}$$"
   ]
  },
  {
   "cell_type": "markdown",
   "metadata": {
    "pycharm": {
     "name": "#%% md\n"
    }
   },
   "source": [
    "#### (d)"
   ]
  },
  {
   "cell_type": "markdown",
   "metadata": {
    "pycharm": {
     "name": "#%% md\n"
    }
   },
   "source": [
    "Assume $\\theta \\in \\mathbb{R}^n$. Given $\\theta_i \\sim \\mathcal{L} (0, b)$ and $y = \\theta^T x + \\epsilon$ where $\\epsilon \\sim \\mathcal{N} (0, \\sigma^2)$, we have\n",
    "\n",
    "\\begin{align*}\n",
    "\\theta_{\\mathrm{MAP}} & = \\arg \\min_\\theta - \\sum_{i = 1}^{m} \\log \\frac{1}{\\sqrt{2 \\pi} \\sigma} \\exp \\big( - \\frac{(y^{(i)} - \\theta^T x^{(i)})^2}{2 \\sigma^2} \\big)- \\sum_{i = 1}^{n} \\log \\frac{1}{2 b} \\exp \\big( - \\frac{\\vert \\theta_i - 0 \\vert}{b} \\big) \\\\\n",
    "                      & = \\arg \\min_\\theta \\frac{1}{2 \\sigma^2} \\sum_{i = 1}^{m} (y^{(i)} - \\theta^T x^{(i)})^2 + \\sum_{i = 1}^{n} \\frac{1}{b} \\vert \\theta_i \\vert \\\\\n",
    "                      & = \\arg \\min_\\theta \\frac{1}{2 \\sigma^2} \\Vert X \\theta - \\vec{y} \\Vert_2^2 + \\frac{1}{b} \\Vert \\theta \\Vert_1 \\\\\n",
    "                      & = \\arg \\min_\\theta \\Vert X \\theta - \\vec{y} \\Vert_2^2 + \\frac{2 \\sigma^2}{b} \\Vert \\theta \\Vert_1\n",
    "\\end{align*}\n",
    "\n",
    "Therefore,\n",
    "\n",
    "$$J(\\theta) = \\Vert X \\theta - \\vec{y} \\Vert_2^2 + \\frac{2 \\sigma^2}{b} \\Vert \\theta \\Vert_1$$"
   ]
  }
 ],
 "metadata": {
  "kernelspec": {
   "display_name": "Python 3",
   "language": "python",
   "name": "python3"
  },
  "language_info": {
   "codemirror_mode": {
    "name": "ipython",
    "version": 3
   },
   "file_extension": ".py",
   "mimetype": "text/x-python",
   "name": "python",
   "nbconvert_exporter": "python",
   "pygments_lexer": "ipython3",
   "version": "3.8.5"
  }
 },
 "nbformat": 4,
 "nbformat_minor": 4
}
