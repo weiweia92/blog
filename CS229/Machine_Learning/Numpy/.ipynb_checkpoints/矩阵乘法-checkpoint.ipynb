{
 "cells": [
  {
   "cell_type": "markdown",
   "id": "df8e4a50-2692-4c07-89ec-d517e5bd31b7",
   "metadata": {},
   "source": [
    "## python中的几种乘法\n",
    "\n",
    "### 1. numpy.dot\n",
    "\n",
    "np.dot()是比较复杂的一个，因为参数的不同可以实现等同于np.matmul()或np.multiply()的作用。\n",
    "\n",
    "`np.dot(a, b, out=None)`:两个array之间的点乘\n",
    "\n",
    "#### 1. 如果a和b都是一维的，那么结果就是普通的内积(inner product). 可以使用np.matmul或a @ b得到相同的答案。\n",
    "\n",
    "$a \\cdot b = \\sum_{i=1}^n a_i b_i = a_1 b_1 + a_2 b_2 + ...+ a_n b_n$"
   ]
  },
  {
   "cell_type": "code",
   "execution_count": 2,
   "id": "7f0eaa6d-2943-4d78-a80d-6b8381e7a622",
   "metadata": {},
   "outputs": [
    {
     "name": "stdout",
     "output_type": "stream",
     "text": [
      "32 32 32 32 32\n"
     ]
    }
   ],
   "source": [
    "import numpy as np\n",
    "a = np.array([1, 2, 3])\n",
    "b = np.array([4, 5, 6])\n",
    "result1 = np.dot(a, b)\n",
    "result2 = np.dot(b, a)\n",
    "result3 = np.matmul(a, b)\n",
    "result4 = np.matmul(b, a)\n",
    "result5 = a @ b\n",
    "print(result1, result2, result3, result4, result5)"
   ]
  },
  {
   "attachments": {
    "029b763b-1e8d-427d-bbd0-b9fc39c089cf.png": {
     "image/png": "[encoded data removed]"
    }
   },
   "cell_type": "markdown",
   "id": "28d1588f-e3a6-433b-8166-431882329f54",
   "metadata": {},
   "source": [
    "#### 2. 如果a和b都是二维的，运算等同于矩阵乘法（Dot product）。可以使用np.matmul 或者 a @ b 得到相同的答案。\n",
    "参数位置会改变结果\n",
    "\n",
    "![14782847-55b95b62d891fb33.png](attachment:029b763b-1e8d-427d-bbd0-b9fc39c089cf.png)"
   ]
  },
  {
   "cell_type": "code",
   "execution_count": 5,
   "id": "7e712648-df81-4eff-81f8-f43c7095b1a1",
   "metadata": {},
   "outputs": [
    {
     "name": "stdout",
     "output_type": "stream",
     "text": [
      "result_ab:\n",
      "[[22 28]\n",
      " [49 64]]\n",
      "result_ba:\n",
      "[[ 9 12 15]\n",
      " [19 26 33]\n",
      " [29 40 51]]\n"
     ]
    }
   ],
   "source": [
    "# 2-D array: 2 x 3\n",
    "a = np.array([[1, 2, 3], [4, 5, 6]])\n",
    "# 2-D array: 3 x 2\n",
    "b = np.array([[1, 2], [3, 4], [5, 6]])\n",
    "\n",
    "result_ab = np.dot(a, b)\n",
    "result_ba = np.dot(b, a)\n",
    "print(f'result_ab:\\n{result_ab}')\n",
    "print(f'result_ba:\\n{result_ba}')"
   ]
  },
  {
   "cell_type": "code",
   "execution_count": 7,
   "id": "d1e7f9e5-71c4-4225-b405-efd537f47a9b",
   "metadata": {},
   "outputs": [
    {
     "name": "stdout",
     "output_type": "stream",
     "text": [
      "result_ab:\n",
      "[[22 28]\n",
      " [49 64]]\n",
      "result_ba:\n",
      "[[ 9 12 15]\n",
      " [19 26 33]\n",
      " [29 40 51]]\n"
     ]
    }
   ],
   "source": [
    "result_ab = np.matmul(a, b)\n",
    "result_ba = np.matmul(b, a)\n",
    "print(f'result_ab:\\n{result_ab}')\n",
    "print(f'result_ba:\\n{result_ba}')"
   ]
  },
  {
   "cell_type": "markdown",
   "id": "c504f806-3d8d-4c57-97ba-2a1f1bc39746",
   "metadata": {},
   "source": [
    "#### 3.如果 a 或者 b 中有一个是标量的，效果等价于np.multiply ，可以使用 multiply(a,b) 或者 a * b 也可以。\n",
    "\n",
    "参数位置不会改变结果"
   ]
  },
  {
   "cell_type": "code",
   "execution_count": 9,
   "id": "7cc32456-bbff-457f-aad9-8dcf6c46b753",
   "metadata": {},
   "outputs": [
    {
     "name": "stdout",
     "output_type": "stream",
     "text": [
      "result_ab:\n",
      "[[ 3  6  9]\n",
      " [12 15 18]]\n",
      "multiply_result_ab:\n",
      "[[ 3  6  9]\n",
      " [12 15 18]]\n",
      "ab:\n",
      "[[ 3  6  9]\n",
      " [12 15 18]]\n"
     ]
    }
   ],
   "source": [
    "# 2-D array: 2 x 3\n",
    "a = np.array([[1, 2, 3], [4, 5, 6]])\n",
    "# 标量 \n",
    "b = 3\n",
    "result_ab =  np.dot(a,b)\n",
    "multiply_result_ab = np.multiply(a, b)\n",
    "ab = a * b\n",
    "print(f'result_ab:\\n{result_ab}')\n",
    "print(f'multiply_result_ab:\\n{multiply_result_ab}')\n",
    "print(f'ab:\\n{ab}')"
   ]
  },
  {
   "cell_type": "code",
   "execution_count": null,
   "id": "a93b5a0b-7574-4214-81cf-97e1d63dae73",
   "metadata": {},
   "outputs": [],
   "source": []
  }
 ],
 "metadata": {
  "kernelspec": {
   "display_name": "Python 3",
   "language": "python",
   "name": "python3"
  },
  "language_info": {
   "codemirror_mode": {
    "name": "ipython",
    "version": 3
   },
   "file_extension": ".py",
   "mimetype": "text/x-python",
   "name": "python",
   "nbconvert_exporter": "python",
   "pygments_lexer": "ipython3",
   "version": "3.8.5"
  }
 },
 "nbformat": 4,
 "nbformat_minor": 5
}
