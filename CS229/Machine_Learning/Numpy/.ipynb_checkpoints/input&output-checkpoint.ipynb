{
 "cells": [
  {
   "cell_type": "markdown",
   "id": "7b0d454e-7487-417c-8e08-ae0eedeb6ec4",
   "metadata": {},
   "source": [
    "## Input & Output\n",
    "\n",
    "### numpy 二进制文件\n",
    "\n",
    "`save()`、`savez()`和`load()`函数以 numpy 专用的二进制类型（npy、npz）保存和读取数据，这三个函数会自动处理ndim、dtype、shape等信息，使用它们读写数组非常方便，但是`save()`输出的文件很难与其它语言编写的程序兼容。\n",
    "\n",
    "npy格式：以二进制的方式存储文件，在二进制文件第一行以文本形式保存了数据的元信息（ndim，dtype，shape等），可以用二进制工具查看内容。\n",
    "\n",
    "npz格式：以压缩打包的方式存储文件，可以用压缩软件解压。\n",
    "\n",
    "* `numpy.save(file, arr, allow_pickle=True, fix_imports=True)` Save an array to a binary file in NumPy .npy format.\n",
    "\n",
    "* `numpy.load(file, mmap_mode=None, allow_pickle=False, fix_imports=True, encoding='ASCII')` Load arrays or pickled objects from .npy, .npz or pickled files."
   ]
  },
  {
   "cell_type": "markdown",
   "id": "c6136640-4e41-42df-9540-868323af57d3",
   "metadata": {},
   "source": [
    "`np.loadtxt(filename,delimiter=',',skiprows=1,dtype=bytes,usecols=use_col_index_lst)`\n",
    "\n",
    "* skiprows=1:跳过第一行\n",
    "\n",
    "* usecols:指定列"
   ]
  },
  {
   "cell_type": "markdown",
   "id": "3888b3f6-d827-4beb-9ce3-e5c0061c4c2b",
   "metadata": {},
   "source": [
    "### `np.where(condition)`\n",
    "\n",
    "返回满足条件的下标。这里的坐标以tuple的形式给出，通常原数组有多少维，输出的tuple中就包含几个数组，分别对应符合条件元素的各维坐标。"
   ]
  },
  {
   "cell_type": "code",
   "execution_count": 1,
   "id": "55fcf3f2-60dd-431d-89c9-de75b27f69cc",
   "metadata": {},
   "outputs": [
    {
     "data": {
      "text/plain": [
       "(array([2, 3, 4]),)"
      ]
     },
     "execution_count": 1,
     "metadata": {},
     "output_type": "execute_result"
    }
   ],
   "source": [
    "import numpy as np\n",
    "a = np.array([2,4,6,8,10])\n",
    "np.where(a > 5)  # return index"
   ]
  },
  {
   "cell_type": "code",
   "execution_count": 2,
   "id": "24494087-9ff4-42e0-9e6b-d21e736b62a8",
   "metadata": {},
   "outputs": [
    {
     "data": {
      "text/plain": [
       "array([ 6,  8, 10])"
      ]
     },
     "execution_count": 2,
     "metadata": {},
     "output_type": "execute_result"
    }
   ],
   "source": [
    "a[np.where(a > 5)]"
   ]
  },
  {
   "cell_type": "code",
   "execution_count": 5,
   "id": "07bd8022-c59f-4cc7-8108-678dd55548ff",
   "metadata": {},
   "outputs": [
    {
     "data": {
      "text/plain": [
       "array([[0, 1],\n",
       "       [2, 3]])"
      ]
     },
     "execution_count": 5,
     "metadata": {},
     "output_type": "execute_result"
    }
   ],
   "source": [
    "b = np.arange(4).reshape(2,2)\n",
    "b"
   ]
  },
  {
   "cell_type": "code",
   "execution_count": 7,
   "id": "d6e59f7d-21b7-4a6b-8655-ce7b98c77710",
   "metadata": {},
   "outputs": [
    {
     "data": {
      "text/plain": [
       "(array([1, 1]), array([0, 1]))"
      ]
     },
     "execution_count": 7,
     "metadata": {},
     "output_type": "execute_result"
    }
   ],
   "source": [
    "np.where(b > 1)"
   ]
  },
  {
   "cell_type": "code",
   "execution_count": 8,
   "id": "5c538425-3c31-45e8-b223-d0b6d41d0823",
   "metadata": {},
   "outputs": [
    {
     "data": {
      "text/plain": [
       "array([[[ 0,  1,  2],\n",
       "        [ 3,  4,  5],\n",
       "        [ 6,  7,  8]],\n",
       "\n",
       "       [[ 9, 10, 11],\n",
       "        [12, 13, 14],\n",
       "        [15, 16, 17]],\n",
       "\n",
       "       [[18, 19, 20],\n",
       "        [21, 22, 23],\n",
       "        [24, 25, 26]]])"
      ]
     },
     "execution_count": 8,
     "metadata": {},
     "output_type": "execute_result"
    }
   ],
   "source": [
    "a = np.arange(27).reshape(3,3,3)\n",
    "a"
   ]
  },
  {
   "cell_type": "code",
   "execution_count": 9,
   "id": "c230c769-6edb-42cf-a559-b6797903985a",
   "metadata": {},
   "outputs": [
    {
     "data": {
      "text/plain": [
       "(array([0, 0, 0, 1, 1, 1, 1, 1, 1, 1, 1, 1, 2, 2, 2, 2, 2, 2, 2, 2, 2]),\n",
       " array([2, 2, 2, 0, 0, 0, 1, 1, 1, 2, 2, 2, 0, 0, 0, 1, 1, 1, 2, 2, 2]),\n",
       " array([0, 1, 2, 0, 1, 2, 0, 1, 2, 0, 1, 2, 0, 1, 2, 0, 1, 2, 0, 1, 2]))"
      ]
     },
     "execution_count": 9,
     "metadata": {},
     "output_type": "execute_result"
    }
   ],
   "source": [
    "np.where(a > 5)"
   ]
  },
  {
   "cell_type": "code",
   "execution_count": 11,
   "id": "409fb9b7-355d-40dd-8f78-a4f2fca5104d",
   "metadata": {},
   "outputs": [
    {
     "data": {
      "text/plain": [
       "6"
      ]
     },
     "execution_count": 11,
     "metadata": {},
     "output_type": "execute_result"
    }
   ],
   "source": [
    "a[0][2][0]"
   ]
  },
  {
   "cell_type": "code",
   "execution_count": 12,
   "id": "7d17ca23-900f-4dda-8469-da243fb1f678",
   "metadata": {},
   "outputs": [
    {
     "data": {
      "text/plain": [
       "7"
      ]
     },
     "execution_count": 12,
     "metadata": {},
     "output_type": "execute_result"
    }
   ],
   "source": [
    "a[0,2,1]"
   ]
  },
  {
   "cell_type": "markdown",
   "id": "2e59c305-5853-40ae-a44f-6b460ef109fe",
   "metadata": {},
   "source": [
    "`np.where(condition, out_1, out_2)`:若满足condition，就返回out_1,否则返回out_2"
   ]
  },
  {
   "cell_type": "code",
   "execution_count": 13,
   "id": "d4173ba7-6246-42fb-9f40-54d0fefd28ac",
   "metadata": {},
   "outputs": [
    {
     "data": {
      "text/plain": [
       "array([-1,  1,  1,  1,  1,  1,  1,  1,  1,  1])"
      ]
     },
     "execution_count": 13,
     "metadata": {},
     "output_type": "execute_result"
    }
   ],
   "source": [
    "aa = np.arange(10)\n",
    "np.where(aa, 1, -1)  # 0为False,所以第一个输出-1"
   ]
  },
  {
   "cell_type": "code",
   "execution_count": 14,
   "id": "0c7d62aa-9ac2-4532-8d0b-fe4d546ac1a9",
   "metadata": {},
   "outputs": [
    {
     "data": {
      "text/plain": [
       "array([-1, -1, -1, -1, -1, -1,  1,  1,  1,  1])"
      ]
     },
     "execution_count": 14,
     "metadata": {},
     "output_type": "execute_result"
    }
   ],
   "source": [
    "np.where(aa > 5, 1, -1)"
   ]
  }
 ],
 "metadata": {
  "kernelspec": {
   "display_name": "Python 3",
   "language": "python",
   "name": "python3"
  },
  "language_info": {
   "codemirror_mode": {
    "name": "ipython",
    "version": 3
   },
   "file_extension": ".py",
   "mimetype": "text/x-python",
   "name": "python",
   "nbconvert_exporter": "python",
   "pygments_lexer": "ipython3",
   "version": "3.8.5"
  }
 },
 "nbformat": 4,
 "nbformat_minor": 5
}
