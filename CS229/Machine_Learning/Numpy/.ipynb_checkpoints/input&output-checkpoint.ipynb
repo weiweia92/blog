{
 "cells": [
  {
   "cell_type": "markdown",
   "id": "7b0d454e-7487-417c-8e08-ae0eedeb6ec4",
   "metadata": {},
   "source": [
    "## Input & Output\n",
    "\n",
    "### numpy 二进制文件\n",
    "\n",
    "`save()`、`savez()`和`load()`函数以 numpy 专用的二进制类型（npy、npz）保存和读取数据，这三个函数会自动处理ndim、dtype、shape等信息，使用它们读写数组非常方便，但是`save()`输出的文件很难与其它语言编写的程序兼容。\n",
    "\n",
    "npy格式：以二进制的方式存储文件，在二进制文件第一行以文本形式保存了数据的元信息（ndim，dtype，shape等），可以用二进制工具查看内容。\n",
    "\n",
    "npz格式：以压缩打包的方式存储文件，可以用压缩软件解压。\n",
    "\n",
    "* `numpy.save(file, arr, allow_pickle=True, fix_imports=True)` Save an array to a binary file in NumPy .npy format.\n",
    "\n",
    "* `numpy.load(file, mmap_mode=None, allow_pickle=False, fix_imports=True, encoding='ASCII')` Load arrays or pickled objects from .npy, .npz or pickled files."
   ]
  },
  {
   "cell_type": "markdown",
   "id": "c6136640-4e41-42df-9540-868323af57d3",
   "metadata": {},
   "source": [
    "`np.loadtxt(filename,delimiter=',',skiprows=1,dtype=bytes,usecols=use_col_index_lst)`\n",
    "\n",
    "* skiprows=1:跳过第一行\n",
    "\n",
    "* usecols:指定列"
   ]
  },
  {
   "cell_type": "code",
   "execution_count": null,
   "id": "5dea262e-d2c6-4536-9736-22cf2890d364",
   "metadata": {},
   "outputs": [],
   "source": []
  }
 ],
 "metadata": {
  "kernelspec": {
   "display_name": "Python 3",
   "language": "python",
   "name": "python3"
  },
  "language_info": {
   "codemirror_mode": {
    "name": "ipython",
    "version": 3
   },
   "file_extension": ".py",
   "mimetype": "text/x-python",
   "name": "python",
   "nbconvert_exporter": "python",
   "pygments_lexer": "ipython3",
   "version": "3.8.5"
  }
 },
 "nbformat": 4,
 "nbformat_minor": 5
}
